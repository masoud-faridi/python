{
 "cells": [
  {
   "cell_type": "code",
   "execution_count": 1,
   "id": "1f549827",
   "metadata": {
    "pycharm": {
     "name": "#%%\n"
    }
   },
   "outputs": [],
   "source": [
    "class Polygon:\n",
    "    def __init__(self, *pts):\n",
    "        if pts:\n",
    "            self._pts = [Point(*pt) for pt in pts]\n",
    "        else:\n",
    "            self._pts = []\n",
    "            \n",
    "    def __repr__(self):\n",
    "        pts_str = ', '.join([str(pt) for pt in self._pts])\n",
    "        return f'Polygon({pts_str})'\n",
    "    \n",
    "    def __len__(self):\n",
    "        return len(self._pts)\n",
    "    \n",
    "    def __getitem__(self, s):\n",
    "        return self._pts[s]\n",
    "    \n",
    "    def __setitem__(self, s, value):\n",
    "        # we first should see if we have a single Point\n",
    "        # or an iterable of Points in value\n",
    "        try:\n",
    "            rhs = [Point(*pt) for pt in value]\n",
    "            is_single = False\n",
    "        except TypeError:\n",
    "            # not a valid iterable of Points\n",
    "            # maybe a single Point?\n",
    "            try:\n",
    "                rhs = Point(*value)\n",
    "                is_single = True\n",
    "            except TypeError:\n",
    "                # still no go\n",
    "                raise TypeError('Invalid Point or iterable of Points')\n",
    "        \n",
    "        # reached here, so rhs is either an iterable of Points, or a Point\n",
    "        # we want to make sure we are assigning to a slice only if we \n",
    "        # have an iterable of points, and assigning to an index if we \n",
    "        # have a single Point only\n",
    "        if (isinstance(s, int) and is_single) \\\n",
    "            or isinstance(s, slice) and not is_single:\n",
    "            self._pts[s] = rhs\n",
    "        else:\n",
    "            raise TypeError('Incompatible index/slice assignment')\n",
    "                \n",
    "    def __add__(self, pt):\n",
    "        if isinstance(pt, Polygon):\n",
    "            new_pts = self._pts + pt._pts\n",
    "            return Polygon(*new_pts)\n",
    "        else:\n",
    "            raise TypeError('can only concatenate with another Polygon')\n",
    "\n",
    "    def append(self, pt):\n",
    "        self._pts.append(Point(*pt))\n",
    "        \n",
    "    def extend(self, pts):\n",
    "        if isinstance(pts, Polygon):\n",
    "            self._pts = self._pts + pts._pts\n",
    "        else:\n",
    "            # assume we are being passed an iterable containing Points\n",
    "            # or something compatible with Points\n",
    "            points = [Point(*pt) for pt in pts]\n",
    "            self._pts = self._pts + points\n",
    "    \n",
    "    def __iadd__(self, pts):\n",
    "        self.extend(pts)\n",
    "        return self\n",
    "    \n",
    "    def insert(self, i, pt):\n",
    "        self._pts.insert(i, Point(*pt))\n",
    "        \n",
    "    def __delitem__(self, s):\n",
    "        del self._pts[s]\n",
    "        \n",
    "    def pop(self, i):\n",
    "        return self._pts.pop(i)"
   ]
  },
  {
   "cell_type": "code",
   "execution_count": null,
   "id": "017a86a5",
   "metadata": {
    "pycharm": {
     "name": "#%%\n"
    }
   },
   "outputs": [],
   "source": [
    "import numbers\n",
    "class Point:\n",
    "    def __init__(self, x, y):\n",
    "        if isinstance(x, numbers.Real) and isinstance(y, numbers.Real):\n",
    "            self._pt = (x, y)\n",
    "        else:\n",
    "            raise TypeError('Point co-ordinates must be real numbers.')\n",
    "            \n",
    "    def __repr__(self):\n",
    "        return f'Point(x={self._pt[0]}, y={self._pt[1]})'\n",
    "    \n",
    "    def __len__(self):\n",
    "        return 2\n",
    "    \n",
    "    def __getitem__(self, s):\n",
    "        return self._pt[s]\n",
    "    \n",
    "    def __contains__(self, value):\n",
    "        return (value in self._pt)\n"
   ]
  },
  {
   "cell_type": "code",
   "execution_count": null,
   "id": "c52224af",
   "metadata": {
    "pycharm": {
     "name": "#%%\n"
    }
   },
   "outputs": [],
   "source": [
    "p1=Point(2,1)       "
   ]
  },
  {
   "cell_type": "code",
   "execution_count": null,
   "id": "a5fa688e",
   "metadata": {
    "pycharm": {
     "name": "#%%\n"
    }
   },
   "outputs": [],
   "source": [
    "2 in p1"
   ]
  },
  {
   "cell_type": "code",
   "execution_count": null,
   "id": "fc8b8647",
   "metadata": {
    "pycharm": {
     "name": "#%%\n"
    }
   },
   "outputs": [],
   "source": [
    "p1.__contains__([1])"
   ]
  },
  {
   "cell_type": "code",
   "execution_count": null,
   "id": "48887be8",
   "metadata": {
    "pycharm": {
     "name": "#%%\n"
    }
   },
   "outputs": [],
   "source": [
    "p1[1]"
   ]
  },
  {
   "cell_type": "code",
   "execution_count": 57,
   "id": "030bfb39",
   "metadata": {
    "pycharm": {
     "name": "#%%\n"
    }
   },
   "outputs": [
    {
     "data": {
      "text/plain": [
       "[4, 2]"
      ]
     },
     "execution_count": 57,
     "metadata": {},
     "output_type": "execute_result"
    }
   ],
   "source": [
    "[*p1]"
   ]
  },
  {
   "cell_type": "code",
   "execution_count": 26,
   "id": "984cb6a9",
   "metadata": {
    "pycharm": {
     "name": "#%%\n"
    }
   },
   "outputs": [
    {
     "ename": "TypeError",
     "evalue": "'list' object cannot be interpreted as an integer",
     "output_type": "error",
     "traceback": [
      "\u001B[1;31m---------------------------------------------------------------------------\u001B[0m",
      "\u001B[1;31mTypeError\u001B[0m                                 Traceback (most recent call last)",
      "Cell \u001B[1;32mIn[26], line 1\u001B[0m\n\u001B[1;32m----> 1\u001B[0m \u001B[38;5;28;43mrange\u001B[39;49m\u001B[43m(\u001B[49m\u001B[43m[\u001B[49m\u001B[38;5;241;43m*\u001B[39;49m\u001B[43mp1\u001B[49m\u001B[43m]\u001B[49m\u001B[43m)\u001B[49m\n",
      "\u001B[1;31mTypeError\u001B[0m: 'list' object cannot be interpreted as an integer"
     ]
    }
   ],
   "source": []
  },
  {
   "cell_type": "code",
   "execution_count": 46,
   "id": "113e62b3",
   "metadata": {
    "pycharm": {
     "name": "#%%\n"
    }
   },
   "outputs": [],
   "source": [
    "x=(1,2,3)"
   ]
  },
  {
   "cell_type": "code",
   "execution_count": 48,
   "id": "a65a5fde",
   "metadata": {
    "pycharm": {
     "name": "#%%\n"
    }
   },
   "outputs": [
    {
     "data": {
      "text/plain": [
       "[1, 2, 3]"
      ]
     },
     "execution_count": 48,
     "metadata": {},
     "output_type": "execute_result"
    }
   ],
   "source": [
    "[*x]"
   ]
  },
  {
   "cell_type": "code",
   "execution_count": null,
   "id": "1cd24f65",
   "metadata": {
    "pycharm": {
     "name": "#%%\n"
    }
   },
   "outputs": [],
   "source": [
    "import numbers\n",
    "class Point:\n",
    "    def __init__(self, x, y):\n",
    "        if isinstance(x, numbers.Real) and isinstance(y, numbers.Real):\n",
    "            self._pt = (x, y)\n",
    "        else:\n",
    "            raise TypeError('Point co-ordinates must be real numbers.')\n",
    "    def __repr__(self):\n",
    "        return f'Point(x={self._pt[0]}, y={self._pt[1]})'\n",
    "    \n",
    "    def __len__(self):\n",
    "        return 2\n",
    "    \n",
    "    def __getitem__(self, s):\n",
    "        return self._pt[s]\n",
    "    \n",
    "p2=Point(2,1)       \n"
   ]
  },
  {
   "cell_type": "code",
   "execution_count": null,
   "id": "b77f876e",
   "metadata": {
    "pycharm": {
     "name": "#%%\n"
    }
   },
   "outputs": [],
   "source": [
    "p2"
   ]
  },
  {
   "cell_type": "code",
   "execution_count": null,
   "id": "53a063ca",
   "metadata": {
    "pycharm": {
     "name": "#%%\n"
    }
   },
   "outputs": [],
   "source": [
    "[*p1]"
   ]
  },
  {
   "cell_type": "code",
   "execution_count": null,
   "id": "11490e3e",
   "metadata": {
    "pycharm": {
     "name": "#%%\n"
    }
   },
   "outputs": [],
   "source": [
    "(1,2)"
   ]
  },
  {
   "cell_type": "code",
   "execution_count": null,
   "id": "50f98936",
   "metadata": {
    "pycharm": {
     "name": "#%%\n"
    }
   },
   "outputs": [],
   "source": [
    "tuple(p1)"
   ]
  },
  {
   "cell_type": "code",
   "execution_count": null,
   "id": "df37d032",
   "metadata": {
    "pycharm": {
     "name": "#%%\n"
    }
   },
   "outputs": [],
   "source": []
  }
 ],
 "metadata": {
  "kernelspec": {
   "display_name": "Python 3 (ipykernel)",
   "language": "python",
   "name": "python3"
  },
  "language_info": {
   "codemirror_mode": {
    "name": "ipython",
    "version": 3
   },
   "file_extension": ".py",
   "mimetype": "text/x-python",
   "name": "python",
   "nbconvert_exporter": "python",
   "pygments_lexer": "ipython3",
   "version": "3.10.9"
  }
 },
 "nbformat": 4,
 "nbformat_minor": 5
}