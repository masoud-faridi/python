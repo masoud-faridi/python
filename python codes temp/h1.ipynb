 1/1:
class Rectangle:
    def __init__(self, width, height):
        self._width = width
        self._height = height

    def __repr__(self):
        return 'Rectangle({0}, {1})'.format(self.width, self.height)

    @property
    def width(self):
        return self._width

    @width.setter
    def width(self, width):
        if width <= 0:
            raise ValueError('Width must be positive.')
        self._width = width

    @property
    def height(self):
        return self._height

    @height.setter
    def height(self, height):
        if height <= 0:
            raise ValueError('Height must be positive.')
        self._height = height
 1/2:
r1 = Rectangle(10, 20)
r1.width
 1/3:
r1 = Rectangle(10, 20)
r1.width
 1/4: r1.width = 100
 1/5: r1.width
 1/6:
class Rectangle:
    def __init__(self, width, height):
        self._width = width
        self._height = height

    def __repr__(self):
        return 'Rectangle({0}, {1})'.format(self.width, self.height)

    @property
    def width(self):
        print("width property:")
        return self._width

    @width.setter
    def width(self, width):
        if width <= 0:
            raise ValueError('Width must be positive.')
        self._width = width

    @property
    def height(self):
        return self._height

    @height.setter
    def height(self, height):
        if height <= 0:
            raise ValueError('Height must be positive.')
        self._height = height
 1/7:
r1 = Rectangle(10, 20)
r1.width
 1/8:
class Rectangle:
    def __init__(self, width, height):
        self._width = width
        self._height = height

    def __repr__(self):
        return 'Rectangle({0}, {1})'.format(self.width, self.height)

    def width(self):
        print("width property:")
        return self._width

    @width.setter
    def width(self, width):
        if width <= 0:
            raise ValueError('Width must be positive.')
        self._width = width

    @property
    def height(self):
        return self._height

    @height.setter
    def height(self, height):
        if height <= 0:
            raise ValueError('Height must be positive.')
        self._height = height
 1/9:
class Rectangle:
    def __init__(self, width, height):
        self._width = width
        self._height = height

    def __repr__(self):
        return 'Rectangle({0}, {1})'.format(self.width, self.height)

    def width(self):
        print("width property:")
        return self._width
1/10:
class Rectangle:
    def __init__(self, width, height):
        self._width = width
        self._height = height

    def __repr__(self):
        return 'Rectangle({0}, {1})'.format(self.width, self.height)

    def width(self):
        print("width property:")
        return self._width
1/11:
r1 = Rectangle(10, 20)
r1.width
1/12:
class Rectangle:
    def __init__(self, width, height):
        self._width = width
        self._height = height

    def __repr__(self):
        return 'Rectangle({0}, {1})'.format(self.width, self.height)

    @property
    def width(self):
        print("width property:")
        return self._width
1/13:
r1 = Rectangle(10, 20)
r1.width
1/14:
class Rectangle:
    def __init__(self, width, height):
        self._width = width
        self._height = height

    def __repr__(self):
        return 'Rectangle({0}, {1})'.format(self.width, self.height)

    @property
    def width(self):
        print("width property:")
        return self._width
1/15:
r1 = Rectangle(10, 20)
r1.width
1/16:
class Rectangle:
    def __init__(self, width, height):
        self._width = width
        self._height = height

    def __repr__(self):
        return 'Rectangle({0}, {1})'.format(self.width, self.height)

    def width(self):
        print("width property:")
        return self._width
1/17:
r1 = Rectangle(10, 20)
r1.width
1/18:
class Rectangle:
    def __init__(self, width, height):
        self._width = width
        self._height = height

    def __repr__(self):
        return 'Rectangle({0}, {1})'.format(self.width, self.height)
    @property
    def width(self):
        print("width property:")
        return self._width
1/19:
r1 = Rectangle(10, 20)
r1.width
1/20:
class Rectangle:
    def __init__(self, width, height):
        self._width = width
        self._height = height

    def __repr__(self):
        return 'Rectangle({0}, {1})'.format(self.width, self.height)
    @property
    def width(self):
        print("width property:")
        return self._width
    @width.setter(self,width):
        if width<0:
            raise ValueError('Height must be positive.')
        else:
            self.width=width
1/21:
class Rectangle:
    def __init__(self, width, height):
        self._width = width
        self._height = height

    def __repr__(self):
        return 'Rectangle({0}, {1})'.format(self.width, self.height)
    @property
    def width(self):
        print("width property:")
        return self._width
    
    @width.setter
    def width(self,width):
        if width<0:
            raise ValueError('Height must be positive.')
        else:
            self.width=width
1/22:
r1 = Rectangle(10, 20)
r1.width
1/23: r1.width
 2/1:
class Rectangle:
    def __init__(self, width, height):
        self._width = width
        self._height = height

    def __repr__(self):
        return 'Rectangle({0}, {1})'.format(self.width, self.height)
    @property
    def width(self):
        print("width property:")
        return self._width
    
    @width.setter
    def width(self,width):
        if width<0:
            raise ValueError('Height must be positive.')
        else:
            self.width=width
 2/2:
r1 = Rectangle(10, 20)
r1.width
 4/1:
def add(a,b):
    return a+b
 4/2: type(add)
 4/3: add__name__
 4/4: print(add_str__())
 4/5: print(add__str__())
 4/6: from math import sum
 4/7: from math import mean
 4/8: from math import *
 4/9:
L=[1,2,3]
L.__str__()
4/10:
L=[1,2,3]
L.__str__()
4/11: L.append(5)
4/12: int a=1
4/13: x=4
4/14: x.real
4/15: x=4.5
4/16: x.real
4/17: x.real
4/18: type(x)
 5/1:
x=[1,7,12,-5]
y=(4,7,91,-9)
w={9,5,4}
z=('a','b','d','ab')
 5/2:
for(it in x):
    print(it)
 5/3:
for it in x:
    print(it)
 5/4:
for w in x:
    print(it)
 5/5:
for it in w:
    print(it)
 5/6:
for it in *w:
    print(it)
 5/7:
for it in w:
    print(it)
 5/8: 2*x
 5/9: 1*x
5/10: x*1
5/11: x*2
5/12: 2*x
5/13: x+x
5/14: min(x)
5/15: min(y)
5/16: x.index(7)
5/17: x.index(1)
5/18:
x=[1,7,,1,12,-5]
y=(4,7,91,-9)
w={9,5,4}
z=('a','b','d','ab')
5/19: x.index(1,2)
5/20:
for it in x:
    print(it)
5/21:
x=[1,7,-5,1,12,-5]
y=(4,7,91,-9)
w={9,5,4}
z=('a','b','d','ab')
5/22: x.index(1,2)
5/23: x=[[1,2]]
5/24: y=x + x
5/25: y
5/26: y[1][1]=-7
5/27: y
5/28: x
5/29: b=((1,2))
5/30: v=b + b
5/31: v[1][1]=-8
5/32: x=[[1,2]]
5/33: s=x + x
5/34: s[1][1]=-7
5/35: print(x,s)
5/36: print('x: {}\n s: {}'.format(x,s))
5/37: print('x: {} s: {}'.format(x,s))
5/38:
x=[[1,2]]
s=x + x
5/39: print('x: {} s: {}'.format(x,s))
5/40:
x=[[1,2]]
s=x + x 
s[1][1]=-7
5/41: print('x: {} s: {}'.format(x,s))
5/42: print('x:{} s:{}'.format(x,s))
5/43:
x=[[1,2]]
s= x + x 
s[1][1]=-7
print('x:{} s:{}'.format(x,s))
5/44:
x=[[1,2]]
s= x + x 
s[1][1]=-7
print('x:{} s:{}'.format(x,s))
5/45:
x=[[1,2]];s= x + x 
s[1][1]=-7
print('x:{} s:{}'.format(x,s))
5/46:
x=[[1,2]];s= x + x;s[1][1]=-7
print('x:{} s:{}'.format(x,s))
5/47:
x=[[1,2]] s= x + x;s[1][1]=-7
print('x:{} s:{}'.format(x,s))
5/48:
x=[[1,2]];  s= x + x;  s[1][1]=-7
print('x:{} s:{}'.format(x,s))
5/49:
x=[[1,2]];s= x + x;s[1][1]=-7
print('x:{} s:{}'.format(x,s))
5/50: from dis import dis
5/51: dis(compile("(1,2)"))
5/52: dis(compile('(1,2)'))
5/53: dis(compile('(1,2)','string'))
5/54: dis(compile('(1,2)','string','eval'))
5/55: dis(compile('[1,2]','string','eval'))
5/56: from timeit import timeit
5/57: timeit('x=[1,2];print(x)',number=10)
5/58: timeit('x=[1,2]',number=10)
5/59: timeit('x=[1,2]',number=100000)
5/60: timeit('x=[1,2]',number=10_000_000)
5/61: timeit('x=(1,2)',number=10_000_000)
5/62: x=(1,2,3)
5/63: s=x.copy()
5/64: x=[1,2,3]
5/65: s=x.copy()
5/66: id(x)
5/67: id(s)
5/68: x=(1,2)
5/69: y=x
5/70: id(x)
5/71: id(y)
5/72: y[1]=5
5/73: x=[1,2]
5/74: y=x
5/75: id(x)
5/76: id(y)
5/77: y[1]=5
5/78: y[1]=5
5/79: x
5/80: y
5/81: x=[[1,2]]
5/82: x=2*x
5/83: x
5/84: y=x.copy()
5/85: y
5/86: x[1][1]=-100
5/87: x
5/88: y
5/89: x=[1,[2,3]]
5/90: y=x.copy()
5/91: y[1]=10
5/92: x
5/93: y
5/94: x=[1,[2,3]]
5/95: y=x.copy()
5/96: y[0]=10
5/97: x
5/98: y
5/99: y
5/100: y[1][0]=-8
5/101: x
5/102: y
5/103: x=range(0,11)
5/104: x
5/105: *x
5/106: *x
5/107: x=*x
5/108: x=x[:]
5/109: x
5/110: **x
5/111: x=range(0,11)
5/112: x=x[:]
5/113: x=list(range(0,11))
5/114: x=x[:]
5/115: **x
5/116: **x
5/117: x
5/118: x[11:-1]
5/119: x[11:-2]
5/120: x[10:]
5/121: x[10:-1]
5/122: x[10:-2]
5/123: x[10:-2:-1]
5/124: x[10:-1:-1]
5/125: x=list(range(0,4))
5/126: x
5/127: x[10:]
5/128: x[10:-1:-1]
5/129: x[3:]
5/130: x[3:-1:-1]
5/131: x[3:-2:-1]
5/132: x[3:-2
5/133: x[3:-2]
5/134: x[3:-2:-1]
5/135: x[3:-10:-1]
5/136: slice.indices(-5,-1,-1)
5/137: slice(-5,-1,-1).indices()
5/138: slice(-5,-1,-1).indices(1)
5/139: slice(-5,-1,-1).indices(0)
5/140: slice(-5,-1,-1).indices()
5/141: slice(-5,-1,-1).indices(0)
5/142: slice(-5,-1,-1).indices(1)
5/143: slice(-5,-1,-1).indices(2)
5/144: slice(-5,-1,-1).indices(100)
5/145: slice(-5,-1,-1).indices(5)
5/146: slice(-5,-1,-1).indices(0)
5/147: x.slice(-5,-1,-1).indices(0)
5/148: slice(-5,-1,-1)
5/149: slice(-5,-1,-1).indices(0)
5/150: slice(-5,-1,-1).indices(len(x))
5/151: len(x)
5/152: slice(5,-1,-1).indices(len(x))
5/153: slice(5,1,-1).indices(len(x))
5/154: list(range(*slice(8,-4,-1)))
5/155: list(range(*slice(8,-4,-1).indices(10)))
5/156: list(range(*slice(0,4,1).indices(10)))
5/157: list(range(*slice(0,30,1).indices(10)))
5/158: list(range(*slice(0,30,1).indices(11)))
5/159: list(range(*slice(5,1,-1).indecies(6)))
5/160: list(range(*slice(5,1,-1).indicies(6)))
5/161: list(range(*slice(5,1,-1).indices(6)))
5/162: list(range(*slice(1,8,-1).indices(6)))
5/163: slice(1,8,-1).indices(6)
5/164: list(range(*slice(8,6,-1).indices(6)))
5/165: list(range(*slice(8,5,-1).indices(6)))
5/166: list(range(*slice(8,4,-1).indices(6)))
5/167: slice(8,4,-1).indices(6)
5/168: slice(8,5,-1).indices(6)
5/169: *slice(8,4,-1).indices(6)
5/170: range(*slice(8,4,-1).indices(6))
5/171: list(range(*slice(8,4,-1).indices(6)))
5/172: list(range(*slice(8,4,-1).indices(6)))
5/173: list(range(*slice(8,4,-1).indices(6)))
5/174: s=[1,2]
5/175: list(range(*slice(-10,0,-1).indices(11)))
5/176: list(range(*slice(10,0,-1).indices(11)))
5/177: list(range(*slice(10,-1,-1).indices(11)))
5/178: list(range(*slice(10,0,-1).indices(11)))
5/179: list(range(*slice(11,0,-1).indices(11)))
5/180: list(range(*slice(11,0,-1).indices(10)))
5/181: list(range(*slice(11,0,-1).indices(11)))
5/182: list(range(*slice(11,-1,-1).indices(11)))
5/183: list(range(*slice(-5,-1,1).indices(11)))
5/184: list(range(*slice(-5,0,1).indices(11)))
5/185: list(range(*slice(-1,10,1).indices(11)))
5/186: list(range(*slice(-1,10,1).indices(11)))
5/187: list(range(*slice(-1,-10,-1).indices(11)))
5/188: list(range(*slice(-1,-11,-1).indices(11)))
5/189: list(range(*slice(-1,-12,-1).indices(11)))
5/190: list(range(*slice(-1,-16,-1).indices(11)))
5/191: list(range(*slice(11,0,-1).indices(6)))
5/192: list(range(*slice(0,11,1).indices(6)))
5/193: list(range(*slice(11,0,-1).indices(6)))
5/194: list(range(*slice(11,-1,-1).indices(6)))
5/195: list(range(*slice(-1,-16,-1).indices(6)))
5/196: x=list(range(0,11))
5/197: x
5/198: index=[0,2,6]
5/199: x[index]
5/200: index=(0,2,6)
5/201: x[index]
5/202: ytuple(x)
5/203: y=tuple(x)
5/204: index=(0,2,6)
5/205: y(index)
5/206: y[index]
5/207: index=[0,2,6]
5/208: y[index]
5/209:
def index_TF(x,index=[True]):
    if(len(index)<len(x)):
        index_final=list(itertools.islice(itertools.cycle(index), len(x)))
    else:
        index_final=index[:len(x)]
    return [x[i] for i in list(which_is_true(index_final))]
5/210: x=list(range(0,11))
5/211: index_TF(x,[True,True,False])
5/212: import numpy, itertools, string
5/213: index_TF(x,[True,True,False])
5/214: lttrs_TF=index_TF(letters,[True,False,True,False,False])
5/215: letters =list(letters)
5/216: letters =string.ascii_lowercase
5/217: letters
5/218: lttrs_TF=index_TF(letters,[True,False,True,False,False])
5/219:
import numpy, itertools, string
letters =string.ascii_lowercase
letters =list(letters)
lttrs=[letters[i] for i in [0,1,2]]
print(lttrs)
def which_is_true(indexTF):
    return [i for i, x in enumerate(indexTF) if x]

  
def index_TF(x,index=[True]):
    if(len(index)<len(x)):
        index_final=list(itertools.islice(itertools.cycle(index), len(x)))
    else:
        index_final=index[:len(x)]
    return [x[i] for i in list(which_is_true(index_final))]
5/220:
import numpy, itertools, string
letters =string.ascii_lowercase
print(lttrs)
def which_is_true(indexTF):
    return [i for i, x in enumerate(indexTF) if x]

  
def index_TF(x,index=[True]):
    if(len(index)<len(x)):
        index_final=list(itertools.islice(itertools.cycle(index), len(x)))
    else:
        index_final=index[:len(x)]
    return [x[i] for i in list(which_is_true(index_final))]
5/221:
import numpy, itertools, string
letters =string.ascii_lowercase
def which_is_true(indexTF):
    return [i for i, x in enumerate(indexTF) if x]

  
def index_TF(x,index=[True]):
    if(len(index)<len(x)):
        index_final=list(itertools.islice(itertools.cycle(index), len(x)))
    else:
        index_final=index[:len(x)]
    return [x[i] for i in list(which_is_true(index_final))]
5/222: index_TF(letters,index=[True])
5/223: index_TF(letters,index=[True,False])
5/224: which_is_true([True,False])
5/225: [True,False,True,True]
5/226: which_is_true([True,False,True,True])
5/227: indx=[True,False,True,True]
5/228: len(x)
5/229: import math
5/230: rp=math.floor(len(x)/len(indx))
5/231: rp
5/232: index*rp
5/233: indx*rp
5/234: rp=math.ceil(len(x)/len(indx))
5/235: rp
5/236: indx*rp
5/237: idx=indx*rp
5/238: idx=indx*rp
5/239: idx[0:len(x)]
5/240: len(x)
5/241: x
5/242: x[idx]
5/243: x[idx==True]
5/244: idx==True
5/245: idx
5/246: idx[idx==True]
5/247: x=list((1,2))
5/248: type(x)
5/249: x.__class__
5/250:
class list_TF(list):
    def __init__(self, iterable):
        super().__init__(str(item) for item in iterable)
5/251: z=list_TF((1,2,3))
5/252: z
5/253:
class list_TF(list):
    def __init__(self, iterable):
        super().__init__(self,iterable)
5/254: z=list_TF((1,2,3))
5/255:
class list_TF(list):
    def __init__(self, iterable):
        super().__init__(iterable)
5/256: z=list_TF((1,2,3))
5/257: z
5/258:
class list_TF(list):
    def __init__(self, iterable):
        super().__init__(iterable)
    def __index_TF__(index):
        return self[0]
5/259: z=list_TF((1,2,3))
5/260: z.__index_TF__([True])
5/261:
class list_TF(list):
    def __init__(self, iterable):
        super().__init__(iterable)
    def __index_TF__(self,index):
        return self[0]
5/262: z=list_TF((1,2,3))
5/263: z.__index_TF__([True])
5/264:
class list_TF(list):
    def __init__(self, iterable):
        super().__init__(iterable)
    def __index_TF__(self,ndx):
        return self[ndx..index(True)]
5/265:
class list_TF(list):
    def __init__(self, iterable):
        super().__init__(iterable)
    def __index_TF__(self,ndx):
        return self[ndx.index(True)]
5/266: z=list_TF((1,2,3))
5/267: z.__index_TF__([True])
5/268: z.__index_TF__([True,False,True])
5/269:
class list_TF(list):
    def __init__(self, iterable):
        super().__init__(iterable)
    def __index_TF__(self,ndx):
        return self[ndx.index(True)]
5/270: z=list_TF((1,2,3))
5/271: z.__index_TF__([True,False,True])
5/272:
class list_TF(list):
    def __init__(self, iterable):
        super().__init__(iterable)
    def __index_TF__(self,ndx):
        return self[ndx.index(True)]
5/273: z=list_TF((1,2,3))
5/274: z.__index_TF__([True,False,True])
5/275: [True,True,False,True].index(True)
5/276: filter(True, [True,True,False,True])
5/277: filter(z==True, z)
5/278: *filter(z==True, z)
5/279:
import numpy as np
import string
letters =string.ascii_lowercase
letters =list(letters)
print(np.repeat(letters, 2))
['a' 'a' 'b' 'b' 'c' 'c' 'd' 'd' 'e' 'e' 'f' 'f' 'g' 'g' 'h' 'h' 'i' 'i'
 'j' 'j' 'k' 'k' 'l' 'l' 'm' 'm' 'n' 'n' 'o' 'o' 'p' 'p' 'q' 'q' 'r' 'r'
 's' 's' 't' 't' 'u' 'u' 'v' 'v' 'w' 'w' 'x' 'x' 'y' 'y' 'z' 'z']
 
print(np.repeat(['a','b'], [1,2]))
['a' 'b' 'b']
5/280:
import numpy as np
import string
letters =string.ascii_lowercase
letters =list(letters)
print(np.repeat(letters, 2))
['a' 'a' 'b' 'b' 'c' 'c' 'd' 'd' 'e' 'e' 'f' 'f' 'g' 'g' 'h' 'h' 'i' 'i'
 'j' 'j' 'k' 'k' 'l' 'l' 'm' 'm' 'n' 'n' 'o' 'o' 'p' 'p' 'q' 'q' 'r' 'r'
 's' 's' 't' 't' 'u' 'u' 'v' 'v' 'w' 'w' 'x' 'x' 'y' 'y' 'z' 'z']
 
print(np.repeat(['a','b','c'], [1,2]))
['a' 'b' 'b']
5/281:
import numpy as np
import string
letters =string.ascii_lowercase
letters =list(letters)
print(np.repeat(letters, 2))
['a' 'a' 'b' 'b' 'c' 'c' 'd' 'd' 'e' 'e' 'f' 'f' 'g' 'g' 'h' 'h' 'i' 'i'
 'j' 'j' 'k' 'k' 'l' 'l' 'm' 'm' 'n' 'n' 'o' 'o' 'p' 'p' 'q' 'q' 'r' 'r'
 's' 's' 't' 't' 'u' 'u' 'v' 'v' 'w' 'w' 'x' 'x' 'y' 'y' 'z' 'z']
 
print(np.repeat(['a','b','c'], [1,2]))
5/282:
import numpy as np
import string
letters =string.ascii_lowercase
letters =list(letters)
print(np.repeat(letters, 2))
['a' 'a' 'b' 'b' 'c' 'c' 'd' 'd' 'e' 'e' 'f' 'f' 'g' 'g' 'h' 'h' 'i' 'i'
 'j' 'j' 'k' 'k' 'l' 'l' 'm' 'm' 'n' 'n' 'o' 'o' 'p' 'p' 'q' 'q' 'r' 'r'
 's' 's' 't' 't' 'u' 'u' 'v' 'v' 'w' 'w' 'x' 'x' 'y' 'y' 'z' 'z']
 
print(np.repeat(['a','b'], [1,2]))
5/283: def rep(fn):
5/284:
def rep_decorator(fn):
    
    def inner(*args,**kwargs):
        return(fn(*args,**kwargs))
    return inner
5/285: rep=rep_decorator(np.repeat)
5/286: rep([1,3],5)
5/287: rep([1,3],5)
5/288: l=[1,2,3,4,5]
5/289: l[2:3]=[1,30]
5/290: l=[1,2,3,4,5]
5/291: l[2:3]=[10,30]
5/292: l
5/293: l=[1,2,3,4,5]
5/294: l[2:3]=[]
5/295: l
5/296: l[1:1]
5/297: l=[1,2,3,4,5]
5/298: l[1:1]='abc'
5/299: l
5/300: l=[1,2,3,4,5]
5/301: l[21:24]='python'
5/302: l
5/303: l=[True,False,True,True]
5/304: s=[1,2,3,4,5,6,7,8,9,10,11,12,13,14,15]
5/305: len(s)
5/306: len(s)/len(l)
5/307: len(s)/len(l)*l
5/308: 4*l
5/309: 4*l[:len(s)]
5/310: s2=4*l[:len(s)]
5/311: len(s)==len(s2)
5/312: s2=4*l
5/313: s3s2[:len(s)]
5/314: s3=s2[:len(s)]
5/315: len(s)==len(s3)
5/316: form tuple import tuple
5/317: form collections import namedtuple
5/318: form collection import namedtuple
5/319: form collections import namedtuple
5/320: import collections
5/321: collections.namedtuple
5/322: from collections import namedtuple
5/323: p1=namedtuple('points', 'x, y')
5/324: p1.x=1
5/325: p1.y=25
5/326: p1
5/327: *p1
5/328: p1.__contains__()
5/329: p1=namedtuple('points')
5/330: p1=namedtuple('points',"x, y")
5/331: points=namedtuple('points',"x, y")
5/332: points(10,2)
5/333: p1=points(10,2)
5/334: p1
5/335: p1.x
5/336: p1.y
5/337: *p1
5/338: p1
5/339: print(*p1)
5/340: u,o=p1
5/341: u
5/342: o
5/343: p1
5/344: u,o=*p1
5/345: u,o=**p1
5/346: p1=('p1',age=21)
5/347: p1=('p1','age'=21)
5/348: del p1
5/349: p1.age=20
5/350: p1=(,)
5/351: l=[-2,-1,0,21,2]
5/352: l.sorted()
5/353: l.sort(lambda it: return it**2)
5/354: l.sort(key=lambda it: return it**2)
5/355: l.sort()
5/356: l
5/357: l.sort(reverse=True)
5/358: l
5/359: l.sort(key=lambda it: it**2)
5/360: l.sort(reverse=True)
5/361: l
5/362: l.sort(key=lambda it: it**2)
5/363: l
 6/1:
class list_rep(list):
    def __init__(self, *args):
        super().__init__(args)
 6/2: list_rep=[1,2,3]
 6/3: list_rep[1]
 6/4:
class list_rep(list):
    def __init__(self, *args):
        super().__init__(args)
 6/5:
class list_rep(list):
    def __init__(self, *args):
        super().__init__(args)
 6/6:
class list_rep(list):
    def __init__(self, *args):
        super().__init__(args)
 6/7:
class list_rep(list):
    def __init__(self, *args):
        super().__init__(args)

import math
 6/8: list_rep=[1,2,3]
 6/9: list_rep.__all()
6/10: list_rep.__all__()
6/11: list_rep.__all__()
6/12: l2=[1,2,3,4,5,6]
6/13: l2.__contains__()
6/14: l2.__init__()
6/15: l2.__init__(1)
6/16: l2.__init__([1,2])
6/17: l2
6/18: l2.__getitem__()
6/19: l2.__getitem__(None,None,1)
6/20: l2.__getitem__(None)
6/21: l2.__getitem__(1)
6/22:
class list_rep(list):
    def __init__(self, *args):
        super().__init__(args)
    def __rep__(self,length):
        mul=length/self.__len__()
        mul=math.ceil(mul)
        ls=[i for i in self]
        #self.__init__()
        return ls
6/23: list_rep=[1,2,3]
6/24: list_rep.__rep__(2)
6/25:
class list_rep(list):
    def __init__(self, *args):
        super().__init__(args)
    def __rep__(self,length):
        mul=length/self.__len__()
        mul=math.ceil(mul)
        ls=[i for i in self]
        #self.__init__()
        return ls
6/26: list_rep=list_rep([1,2,3])
6/27: list_rep.__rep__(2)
6/28: list_rep=list_rep(1,2,3)
6/29: list_rep=list_rep((1,2,3))
6/30: list_rep([1,2,3])
6/31:
class list_rep(list):
    def __init__(self, *args):
        super().__init__(args)
    def __rep__(self,length):
        mul=length/self.__len__()
        mul=math.ceil(mul)
        ls=[i for i in self]
        #self.__init__()
        return ls
6/32: ls22=list_rep([1,2,3])
6/33: list_rep.__rep__(2)
6/34: ls22.__rep__(2)
6/35: l2=list([1,2,3,4,5,6])
6/36: l2
6/37:
class list_rep(list):
    def __init__(self, *args):
        super().__init__(args)
    def __rep__(self,length):
        mul=length/self.__len__()
        mul=math.ceil(mul)
        ls=[i for i in *self]
        #self.__init__()
        return ls
6/38: i for i, x in enumerate([1,2,7])
6/39: [i for i, x in enumerate([1,2,7])]
6/40: [x for i, x in enumerate([1,2,7])]
6/41: [x for x in l2.__dir__()]
6/42: [x for x in l2.__iadd__()]
6/43: [x for x in l2.__iter__()]
6/44: l2=list([1,2,3,4,50,6])
6/45: l2=list([1,2,3,4,50,6])
6/46: l2
6/47: l2.__getitem__(1)
6/48: [x for i, x in enumerate([1,2,7])]
6/49: [x for x in l2.__iter__()]
6/50: l2.__iter__()
6/51:
class list_rep(list):
    def __init__(self, *args):
        super().__init__(args)
    def __rep__(self,length):
        mul=length/self.__len__()
        mul=math.ceil(mul)
        ls=[x for x in self.__iter__()]
        #self.__init__()
        return ls
6/52: ls22=list_rep([1,2,3])
6/53: ls22.__rep__(2)
6/54:
class list_rep(list):
    def __init__(self, *args):
        super().__init__(args)
    def __rep__(self,length):
        mul=length/self.__len__()
        mul=math.ceil(mul)
        ls=[x for x in self.__iter__()]
        #self.__init__()
6/55: ls22=list_rep([1,2,3])
6/56: ls22.__rep__(2)
6/57:
class list_rep(list):
    def __init__(self, *args):
        super().__init__(args)
    def __rep__(self,length):
        mul=length/self.__len__()
        mul=math.ceil(mul)
        ls=[x for x in self.__iter__()]
        #self.__init__()
        return mul
6/58: ls22=list_rep([1,2,3])
6/59: ls22.__rep__(2)
6/60: ls22=list_rep([1,2,3,4,5])
6/61: ls22.__rep__(2)
6/62: ls22.__rep__(20)
6/63:
class list_rep(list):
    def __init__(self, *args):
        super().__init__(args)
    def __rep__(self,length):
        mul=length/self.__len__()
        mul=math.ceil(mul)
        ls=[x for x in self.__iter__()]
        #self.__init__()
        return mul
6/64: ls22=list_rep([1,2,3,4,5])
6/65: ls22.__rep__(20)
6/66:
class list_rep(list):
    def __init__(self, *args):
        super().__init__(args)
    def __rep__(self,length):
        mul=length/self.__len__()
        mul=math.floor(mul)+1
        ls=[x for x in self.__iter__()]
        #self.__init__()
        return mul
6/67: ls22=list_rep([1,2,3,4,5])
6/68: ls22.__rep__(20)
6/69:
class list_rep(list):
    def __init__(self, *args):
        super().__init__(args)
    def __rep__(self,length):
        print(self.__len__())
        mul=length/self.__len__()
        mul=math.floor(mul)+1
        ls=[x for x in self.__iter__()]
        #self.__init__()
        return mul
6/70: ls22=list_rep([1,2,3,4,5])
6/71: ls22.__rep__(20)
6/72: l2=list([1,2,3,4,50,6])
6/73: l2.__len__()
6/74:
class list_rep(list):
    def __init__(self, *args):
        super().__init__(args)
    def __rep__(self,length):
        print('self.__len__()= {}'.format(self.__len__()))
        #mul=length/self.__len__()
        #mul=math.floor(mul)+1
        #ls=[x for x in self.__iter__()]
        #self.__init__()
        return mul
6/75: ls22=list_rep([1,2,3,4,5])
6/76: ls22.__rep__(20)
6/77:
class list_rep(list):
    def __init__(self, *args):
        super().__init__(args)
    def __rep__(self,length):
        print('self.__len__()= {}'.format(self.__len__()))
        #mul=length/self.__len__()
        #mul=math.floor(mul)+1
        #ls=[x for x in self.__iter__()]
        #self.__init__()
        #return mul
6/78: ls22=list_rep([1,2,3,4,5])
6/79: ls22.__rep__(20)
6/80: l2.__ge__()
6/81: l2.__ge__(1)
6/82: l2.__ge__([1,2])
6/83: l2.__gt__()
6/84: l2.__
6/85: l2.__init__()
6/86: l2=list([1,2,3,4,50,6])
6/87: l2.__
6/88: *l2.__iter__()
6/89: l2.__iter__()
6/90: l2.__len__()
6/91:
class list_rep(list):
    def __init__(self, *args):
        super().__init__(args)
    def __rep__(self,length):
        print('self.__len__()= {}'.format(self.__len__()))
        print('self. = {}'.format(self.__()))
        #print('self. = {}'.format(self.__()))
        #mul=length/self.__len__()
        #mul=math.floor(mul)+1
        ls=[x for x in self.__iter__()]
        print(ls.__len__())
        #self.__init__()
        #return mul
6/92: ls22=list_rep([1,2,3,4,5])
6/93: ls22.__rep__(20)
6/94:
class list_rep(list):
    def __init__(self, *args):
        super().__init__(args)
    def __rep__(self,length):
        print('self.__len__()= {}'.format(self.__len__()))
        #print('self. = {}'.format(self.__()))
        #print('self. = {}'.format(self.__()))
        #mul=length/self.__len__()
        #mul=math.floor(mul)+1
        ls=[x for x in self.__iter__()]
        print(ls.__len__())
        #self.__init__()
        #return mul
6/95: ls22=list_rep([1,2,3,4,5])
6/96: ls22.__rep__(20)
6/97:
class list_rep(list):
    def __init__(self, *args):
        super().__init__(args)
    def __rep__(self,length):
        #print('self.__len__()= {}'.format(self.__len__()))
        #print('self. = {}'.format(self.__()))
        #print('self. = {}'.format(self.__()))
        #mul=length/self.__len__()
        #mul=math.floor(mul)+1
        ls=[x for x in self.__iter__()]
        print(ls.__len__())
        #self.__init__()
        #return mul
6/98: ls22=list_rep([1,2,3,4,5])
6/99: ls22.__rep__(20)
6/100:
class list_rep(list):
    def __init__(self, *args):
        super().__init__(args)
    def __rep__(self,length):
        #print('self.__len__()= {}'.format(self.__len__()))
        #print('self. = {}'.format(self.__()))
        #print('self. = {}'.format(self.__()))
        #mul=length/self.__len__()
        #mul=math.floor(mul)+1
        ls=[x for x in self]
        print(ls.__len__())
        #self.__init__()
        #return mul
6/101: ls22=list_rep([1,2,3,4,5])
6/102: ls22.__rep__(20)
6/103: ls22=list_rep([1,2,3,4,5])
6/104:
class list_rep(list):
    def __init__(self, *args):
        super().__init__(args)
    def __rep__(self,length):
        #print('self.__len__()= {}'.format(self.__len__()))
        #print('self. = {}'.format(self.__()))
        #print('self. = {}'.format(self.__()))
        #mul=length/self.__len__()
        #mul=math.floor(mul)+1
        ls=[x for x in self]
        print(ls.__len__())
        #self.__init__()
        #return mul
6/105:
class list_rep(list):
    def __init__(self, *args):
        super().__init__(args)
    def __rep__(self,length):
        #print('self.__len__()= {}'.format(self.__len__()))
        #print('self. = {}'.format(self.__()))
        #print('self. = {}'.format(self.__()))
        #mul=length/self.__len__()
        #mul=math.floor(mul)+1
        ls=[x for x in self]
        print(ls)
        #self.__init__()
        #return mul
6/106: ls22=list_rep([1,2,3,4,5])
6/107: ls22.__rep__(20)
6/108:
class list_rep(list):
    def __init__(self, *args):
        super().__init__(args)
    def __rep__(self,length):
        #print('self.__len__()= {}'.format(self.__len__()))
        #print('self. = {}'.format(self.__()))
        #print('self. = {}'.format(self.__()))
        #mul=length/self.__len__()
        #mul=math.floor(mul)+1
        ls=[x for x in self.__iter__()]
        print(ls)
        #self.__init__()
        #return mul
6/109: ls22=list_rep([1,2,3,4,5])
6/110: ls22.__rep__(20)
6/111: ls22=list_rep([1,2,3,4,5])
6/112: ls22
6/113:
class list_rep(list):
    def __init__(self, *args):
        super().__init__(*args)
    def __rep__(self,length):
        #print('self.__len__()= {}'.format(self.__len__()))
        #print('self. = {}'.format(self.__()))
        #print('self. = {}'.format(self.__()))
        #mul=length/self.__len__()
        #mul=math.floor(mul)+1
        ls=[x for x in self.__iter__()]
        print(ls)
        #self.__init__()
        #return mul
6/114: ls22=list_rep([1,2,3,4,5])
6/115: ls22.__rep__(20)
6/116: ls22
6/117:
class list_rep(list):
    def __init__(self, *args):
        super().__init__(*args)
    def __rep__(self,length):
        #print('self.__len__()= {}'.format(self.__len__()))
        #print('self. = {}'.format(self.__()))
        #print('self. = {}'.format(self.__()))
        mul=length/self.__len__()
        mul=math.floor(mul)+1
        ls=[x for x in self.__iter__()]
        print(ls*mul)
        #self.__init__()
        #return mul
6/118: ls22=list_rep([1,2,3,4,5])
6/119: ls22.__rep__(20)
6/120:
class list_rep(list):
    def __init__(self, *args):
        super().__init__(*args)
    def __rep__(self,length):
        #print('self.__len__()= {}'.format(self.__len__()))
        #print('self. = {}'.format(self.__()))
        #print('self. = {}'.format(self.__()))
        mul=length/self.__len__()
        mul=math.floor(mul)+1
        ls=[x for x in self.__iter__()]
        print(ls*mul[:length])
        #self.__init__()
        #return mul
6/121: ls22=list_rep([1,2,3,4,5])
6/122: ls22.__rep__(20)
6/123:
class list_rep(list):
    def __init__(self, *args):
        super().__init__(*args)
    def __rep__(self,length):
        #print('self.__len__()= {}'.format(self.__len__()))
        #print('self. = {}'.format(self.__()))
        #print('self. = {}'.format(self.__()))
        mul=length/self.__len__()
        mul=math.floor(mul)+1
        ls=[x for x in self.__iter__()]
        print(ls*mul)
        #self.__init__()
        #return mul
6/124: ls22=list_rep([1,2,3,4,5])
6/125: ls22.__rep__(20)
6/126:
class list_rep(list):
    def __init__(self, *args):
        super().__init__(*args)
    def __rep__(self,length):
        #print('self.__len__()= {}'.format(self.__len__()))
        #print('self. = {}'.format(self.__()))
        #print('self. = {}'.format(self.__()))
        mul=length/self.__len__()
        mul=math.floor(mul)+1
        ls=[x for x in self.__iter__()]
        print(ls*mul)
        ls=ls*mul
        ls=ls[:length]
        super().__init__(*ls)
        #self.__init__()
        #return mul
6/127: ls22=list_rep([1,2,3,4,5])
6/128: ls22.__rep__(20)
6/129:
class list_rep(list):
    def __init__(self, *args):
        super().__init__(*args)
    def __rep__(self,length):
        #print('self.__len__()= {}'.format(self.__len__()))
        #print('self. = {}'.format(self.__()))
        #print('self. = {}'.format(self.__()))
        mul=length/self.__len__()
        mul=math.floor(mul)+1
        ls=[x for x in self.__iter__()]
        print(ls*mul)
        ls=ls*mul
        ls=ls[:length]
        super().__init__(ls)
        #self.__init__()
        #return mul
6/130: ls22=list_rep([1,2,3,4,5])
6/131: ls22.__rep__(20)
6/132: ls22=list_rep([1,2,3])
6/133: ls22.__rep__(4)
6/134:
class list_rep(list):
    def __init__(self, *args):
        super().__init__(*args)
    def __rep__(self,length):
        #print('self.__len__()= {}'.format(self.__len__()))
        #print('self. = {}'.format(self.__()))
        #print('self. = {}'.format(self.__()))
        mul=length/self.__len__()
        mul=math.floor(mul)+1
        ls=[x for x in self.__iter__()]
        #print(ls*mul)
        ls=ls*mul
        ls=ls[:length]
        super().__init__(ls)
        #self.__init__()
        #return mul
6/135: ls22=list_rep([1,2,3])
6/136: ls22.__rep__(4)
6/137: ls22
6/138: ls22.__rep__(5)
6/139: ls22
6/140: ls22=list_rep([1,2,3])
6/141: ls22.__rep__(5)
6/142: ls22
6/143: ls22=list_rep([1,2,3])
6/144: ls22.__rep__(2)
6/145: ls22
6/146:
class list_rep(list):
    def __init__(self, *args):
        super().__init__(*args)
    def repeat_until_length(self, length):
        mul = length // len(self) + 1
        ls = list(self) * mul
        return ls[:length]
5/364:
import numpy as np

# Example 1
letters = np.array(['a', 'b', 'c', 'd', 'e', 'f', 'g', 'h', 'i', 'j', 'k', 'l', 'm', 'n', 'o', 'p', 'q', 'r', 's', 't', 'u', 'v', 'w', 'x', 'y', 'z'])
5/365: np.repeat(letters[:3], repeats=[1, 2, 4])
5/366: np.repeat(letters[:3], repeats=2, axis=0)[:15]
5/367: np.repeat(letters[:3], repeats=3, axis=0).repeat(2)
5/368: np.repeat(letters[::2], repeats=2)
5/369: np.repeat(letters[:3], repeats=[1, 2, 4]).repeat(2)
5/370: np.repeat(letters[:3], repeats=2).repeat([1,2,4])
5/371: np.repeat(letters[:3], repeats=[1, 2, 4]).repeat(2)
5/372: np.repeat(letters[:3], repeats=3).repeat(2)
6/147:
class list_rep(list):
    def __init__(self, *args):
        super().__init__(*args)
    def repeat_until_length(self, length):
        mul = length // len(self) + 1
        ls = list(self) * mul
        return ls[:length]
    def repaet_each(self,rp):
        if rp < self.__len__():
            rul=repeat_until_length(list_rep(rp),self.__len__())
        else:
            rul=self.__len__()
        print(rul)
6/148: ls22=list_rep([1,2,3])
6/149: ls22.__repeat_until_length__(4)
6/150:
class list_rep(list):
    def __init__(self, *args):
        super().__init__(*args)
    def __repeat_until_length__(self, length):
        mul = length // len(self) + 1
        ls = list(self) * mul
        return ls[:length]
    def repaet_each(self,rp):
        if rp < self.__len__():
            rul=repeat_until_length(list_rep(rp),self.__len__())
        else:
            rul=self.__len__()
        print(rul)
6/151: ls22=list_rep([1,2,3])
6/152: ls22.__repeat_until_length__(4)
6/153:
class list_rep(list):
    def __init__(self, *args):
        super().__init__(*args)
    def __repeat_until_length__(self, length):
        mul = length // len(self) + 1
        ls = list(self) * mul
        return ls[:length]
    def __repaet_each__(self,rp):
        if rp < self.__len__():
            rul=repeat_until_length(list_rep(rp),self.__len__())
        else:
            rul=self.__len__()
        print(rul)
6/154: ls22=list_rep([1,2,3])
6/155: ls22.__repeat_until_length__(4)
6/156: ls22
6/157: ls22.__repaet_each__(5)
6/158:
class list_rep(list):
    def __init__(self, *args):
        super().__init__(*args)
    def __repeat_until_length__(self, length):
        mul = length // len(self) + 1
        ls = list(self) * mul
        return ls[:length]
    def __repaet_each__(self,rp):
        if rp < self.__len__():
            rul=repeat_until_length(list_rep(rp),self.__len__())
        else:
            rul=list(rp)*self.__len__()
        print(rul)
6/159: ls22=list_rep([1,2,3])
6/160: ls22.__repeat_until_length__(4)
6/161: ls22.__repaet_each__(5)
6/162:
class list_rep(list):
    def __init__(self, *args):
        super().__init__(*args)
    def __repeat_until_length__(self, length):
        mul = length // len(self) + 1
        ls = list(self) * mul
        return ls[:length]
    def __repaet_each__(self,rp):
        if rp < self.__len__():
            rul=repeat_until_length(list_rep(rp),self.__len__())
        else:
            rul=[rp]*self.__len__()
        print(rul)
6/163: ls22=list_rep([1,2,3])
6/164: ls22.__repeat_until_length__(4)
6/165: ls22.__repaet_each__(5)
6/166: ls22.__repaet_each__(2)
6/167:
class list_rep(list):
    def __init__(self, *args):
        super().__init__(*args)
    def __repeat_until_length__(self, length):
        mul = length // len(self) + 1
        ls = list(self) * mul
        return ls[:length]
    def __repaet_each__(self,rp):
        if rp.__len__() < self.__len__():
            rul=repeat_until_length(list_rep(rp),self.__len__())
        else:
            rul=rp*self.__len__()
        print(rul)
6/168: ls22=list_rep([1,2,3])
6/169: ls22.__repeat_until_length__(4)
6/170: ls22.__repaet_each__(5)
6/171:
class list_rep(list):
    def __init__(self, *args):
        super().__init__(*args)
    def __repeat_until_length__(self, length):
        mul = length // len(self) + 1
        ls = list(self) * mul
        return ls[:length]
    def __repaet_each__(self,rp):
        if rp.__len__() < self.__len__():
            rul=__repeat_until_length__(list_rep(rp),self.__len__())
        else:
            rul=rp*self.__len__()
        print(rul)
6/172: ls22=list_rep([1,2,3])
6/173: ls22.__repeat_until_length__(4)
6/174: ls22.__repaet_each__(5)
6/175: ls22.__repaet_each__([5])
6/176:
class list_rep(list):
    def __init__(self, *args):
        super().__init__(*args)
    def __repeat_until_length__(self, length):
        mul = length // len(self) + 1
        ls = list(self) * mul
        return ls[:length]
    def __repaet_each__(self,rp):
        if rp.__len__() < self.__len__():
            rul=list_rep(rp).__repeat_until_length__(self.__len__())
        else:
            rul=rp*self.__len__()
        print(rul)
6/177: ls22=list_rep([1,2,3])
6/178: ls22.__repeat_until_length__(4)
6/179: ls22.__repaet_each__([5])
6/180: ls22.__repaet_each__(2)
6/181: ls22.__repaet_each__(6)
6/182: ls22.__repaet_each__([2])
6/183: ls22.__repaet_each__([5,2])
6/184: ls22.__repaet_each__([2])
6/185: ls22.__repaet_each__([2,5,6,8])
6/186:
class list_rep(list):
    def __init__(self, *args):
        super().__init__(*args)
    def __repeat_until_length__(self, length):
        mul = length // len(self) + 1
        ls = list(self) * mul
        return ls[:length]
    def __repaet_each__(self,rp):
        if rp.__len__() < self.__len__():
            rul=list_rep(rp).__repeat_until_length__(self.__len__())
        else:
            rul=rp*self.__len__()
        print(list(self))
        print(rul)
6/187: ls22=list_rep([1,2,3])
6/188: ls22.__repeat_until_length__(4)
6/189: ls22.__repaet_each__([5,2])
6/190: ls22.__repaet_each__([2,5,6,8])
6/191:
class list_rep(list):
    def __init__(self, *args):
        super().__init__(*args)
    def __repeat_until_length__(self, length):
        mul = length // len(self) + 1
        ls = list(self) * mul
        return ls[:length]
    def __repaet_each__(self,rp):
        if rp.__len__() < self.__len__():
            rul=list_rep(rp).__repeat_until_length__(self.__len__())
        else:
            rul=rp[:self.__len__()]
        print(list(self))
        print(rul)
6/192: ls22=list_rep([1,2,3])
6/193: ls22.__repeat_until_length__(4)
6/194: ls22.__repaet_each__([5,2])
6/195: ls22.__repaet_each__([2,5,6,8])
6/196:
class list_rep(list):
    def __init__(self, *args):
        super().__init__(*args)
    def __repeat_until_length__(self, length):
        mul = length // len(self) + 1
        ls = list(self) * mul
        return ls[:length]
    def __repaet_each__(self,rp):
        if rp.__len__() < self.__len__():
            rul=list_rep(rp).__repeat_until_length__(self.__len__())
        else:
            rul=rp[:self.__len__()]
        print(list(self))
        print(rul)
        ret=np.repeat(list(slef),rul)
        return ret
6/197: ls22=list_rep([1,2,3])
6/198: ls22.__repeat_until_length__(4)
6/199: ls22.__repaet_each__([1,2])
6/200:
import numpy as np
class list_rep(list):
    def __init__(self, *args):
        super().__init__(*args)
    def __repeat_until_length__(self, length):
        mul = length // len(self) + 1
        ls = list(self) * mul
        return ls[:length]
    def __repaet_each__(self,rp):
        if rp.__len__() < self.__len__():
            rul=list_rep(rp).__repeat_until_length__(self.__len__())
        else:
            rul=rp[:self.__len__()]
        print(list(self))
        print(rul)
        ret=np.repeat(list(slef),rul)
        return ret
6/201: ls22=list_rep([1,2,3])
6/202: ls22.__repeat_until_length__(4)
6/203: ls22.__repaet_each__([1,2])
6/204: ls22=list_rep([1,2,3])
6/205: ls22.__repeat_until_length__(4)
6/206: ls22=list_rep([1,2,3])
6/207: ls22.__repeat_until_length__(4)
6/208: ls22.__repaet_each__([1,2])
6/209:
import numpy as np
class list_rep(list):
    def __init__(self, *args):
        super().__init__(*args)
    def __repeat_until_length__(self, length):
        mul = length // len(self) + 1
        ls = list(self) * mul
        return ls[:length]
    def __repaet_each__(self,rp):
        if rp.__len__() < self.__len__():
            rul=list_rep(rp).__repeat_until_length__(self.__len__())
        else:
            rul=rp[:self.__len__()]
        print(list(self))
        print(rul)
        ret=np.repeat(list(self),repeats=rul)
        return ret
6/210: ls22=list_rep([1,2,3])
6/211: ls22.__repeat_until_length__(4)
6/212: ls22.__repaet_each__([1,2])
6/213: ls22.__repaet_each__([2,5,6,8])
6/214:
import numpy as np
class list_rep(list):
    def __init__(self, *args):
        super().__init__(*args)
    def __repeat_until_length__(self, length):
        mul = length // len(self) + 1
        ls = list(self) * mul
        return ls[:length]
    def __repaet_each__(self,rp):
        if rp.__len__() < self.__len__():
            rul=list_rep(rp).__repeat_until_length__(self.__len__())
        else:
            rul=rp[:self.__len__()]
        print(list(self))
        print(rul)
        ret=np.repeat(list(self),repeats=rul)
        return ret.tolist()
6/215: ls22=list_rep([1,2,3])
6/216: ls22.__repeat_until_length__(4)
6/217: ls22.__repaet_each__([1,2])
6/218: ls22.__repaet_each__([2,5,6,8])
6/219:
import numpy as np
class list_rep(list):
    def __init__(self, *args):
        super().__init__(*args)
    def __repeat_until_length__(self, length):
        mul = length // len(self) + 1
        ls = list(self) * mul
        return ls[:length]
    def __repaet_each__(self,rp):
        if rp.__len__() < self.__len__():
            rul=list_rep(rp).__repeat_until_length__(self.__len__())
        else:
            rul=rp[:self.__len__()]
        print(list(self))
        print(rul)
        ret=np.repeat(list(self),repeats=rul)
        return ret.tolist()
6/220:
def rep(x, times = 1, length.out = NA, each = 1):
    ls=np.repear(x,times)
    return ls
6/221:
def rep(x, times = 1, length.out , each = 1):
    ls=np.repear(x,times)
    return ls
6/222:
def rep(x, times = 1, length , each = 1):
    ls=np.repear(x,times)
    return ls
6/223:
def rep(x, times = 1, length , each = 1):
    ls=np.repeat(x,times)
    return ls
6/224:
def rep(x, times = 1 , each = 1, length):
    ls=np.repeat(x,times)
    return ls
6/225:
def rep(x, length,times = 1 , each = 1):
    ls=np.repeat(x,times)
    return ls
6/226:
def rep(x, length ,times = 1 , each = 1):
    ls=np.repeat(x,times)
    return ls
6/227: ls1
6/228: ls1
6/229:
import numpy as np
def rep(x, length ,times = 1 , each = 1):
    ls=np.repeat(x,times)
    return ls
6/230: ls1
6/231: ls=np.repeat([1,2],times)
6/232: ls=np.repeat([1,2],2)
6/233: np.repeat([1,2],2)
6/234: np.repeat([1,2],[1,2])
6/235:
import numpy as np
def rep(x, length ,times = 1 , each = 1):
    ls=np.repeat(x,each)
    return ls
6/236: ls1
6/237:
import numpy as np
def rep(x, length ,times = 1 , each = 1):
    ls=np.repeat(x,repeats=each)
    return ls
6/238: ls1
6/239:
import numpy as np
def rep(x, length ,times = 1 , each = 1):
    ls=np.repeat(x,repeats=each)
    return ls
6/240:
import numpy as np
def rep(x, length ,times = 1 , each = 1):
    ls=np.repeat(x,each)
    return ls
6/241: ls1
6/242: ls=np.repeat([1,2],2)
6/243: np.repeat([1,2],[1,2])
6/244:
import numpy as np
def rep(x, length ,times = 1 , each = 1):
    ls=np.repeat(x,each)
    return ls.tolist()
6/245: ls1
6/246:
import numpy as np
def rep(x, length ,times = 1 , each = 1):
    ls=np.repeat(x,,repeats=each)
    return ls.tolist()
6/247:
import numpy as np
def rep(x, length ,times = 1 , each = 1):
    ls=np.repeat(x,repeats=each)
    return ls.tolist()
6/248: ls1
6/249:
import numpy as np
def rep(lst, each ,times  , length_out= -1):
    ls=np.repeat(lst,repeats=each)
    return ls.tolist()
6/250: rep([1,2],each=3)
6/251:
import numpy as np
def rep(lst, each ,times=1  , length_out= -1):
    ls=np.repeat(lst,repeats=each)
    return ls.tolist()
6/252: rep([1,2],each=3)
6/253: rep([1,2],each=[1,2])
6/254:
import numpy as np
def rep(lst, each ,times=1  , length_out= -1):
    ls=np.repeat(lst,repeats=each)
    ls=ls*times
    return ls.tolist()
6/255: rep([1,2],each=[1,2],times=3)
6/256:
import numpy as np
def rep(lst, each ,times=1  , length_out= -1):
    ls=np.repeat(lst,repeats=each)
    ls=list(ls)*times
    return ls.tolist()
6/257: rep([1,2],each=[1,2],times=3)
5/373:
import numpy as np
lst = [2, 4, 6, 11]
lst_new = list(np.repeat(lst,3))
print(lst_new)
5/374:
lst = [2, 4, 6, 11]
lst_new = lst * 3
print(lst_new)
6/258:
import numpy as np
def rep(lst, each ,times=1  , length_out= -1):
    ls=np.repeat(lst,repeats=each)
    ls2=ls * times
    return ls2.tolist()
6/259: rep([1,2],each=[1,2],times=3)
6/260: rep([1,2],each=1,times=3)
6/261: rep([1,2],each=2,times=3)
6/262:
import numpy as np
def rep(lst, each=1 ,times=1  , length_out= -1):
    ls=np.repeat(lst,repeats=each)
    ls2=ls * times
    return ls2.tolist()
6/263: rep([1,2],each=2,times=3)
6/264:
import numpy as np
def rep(lst, each=1 ,times=1  , length_out= -1):
    ls=np.repeat(lst,repeats=each)
    ls2=ls.tolist() * times
    return ls2.tolist()
6/265: rep([1,2],each=2,times=3)
6/266:
import numpy as np
def rep(lst, each=1 ,times=1  , length_out= -1):
    ls=np.repeat(lst,repeats=each)
    ls2=ls.tolist() * times
    return ls2
6/267: rep([1,2],each=2,times=3)
6/268: rep([1,2],each=2)
6/269: rep([1,2],each=2,times=4)
6/270:
import numpy as np
def rep(lst, each=1 ,times=1  , length_out= -1):
    ls=np.repeat(lst,repeats=each)
    ls=ls.tolist() * times
    if length_out != -1:
        if length_out < ls.len():
            ls[:length_out]
        else:
            mul = length // len(ls) + 1
            ls = ls * mul
        return ls[:length]
    return ls
6/271: rep([1,2],each=2,times=4)
6/272: rep([1,2],each=2)
6/273: rep([1,2],times=4)
6/274: rep([1,2],each=2,times=3)
6/275: rep([1,2],each=2,times=3,length_out=3)
6/276:
import numpy as np
def rep(lst, each=1 ,times=1  , length_out= -1):
    ls=np.repeat(lst,repeats=each)
    ls=ls.tolist() * times
    if length_out != -1:
        if length_out < len(ls):
            ls[:length_out]
        else:
            mul = length // len(ls) + 1
            ls = ls * mul
        return ls[:length]
    return ls
6/277: rep([1,2],each=2)
6/278: rep([1,2],times=4)
6/279: rep([1,2],each=2,times=3)
6/280: rep([1,2],each=2,times=3,length_out=3)
6/281:
import numpy as np
def rep(lst, each=1 ,times=1  , length_out= -1):
    ls=np.repeat(lst,repeats=each)
    ls=ls.tolist() * times
    if length_out != -1:
        if length_out < len(ls):
            ls[:length_out]
        else:
            mul = length_out // len(ls) + 1
            ls = ls * mul
        return ls[:length_out]
    return ls
6/282: rep([1,2],each=2)
6/283: rep([1,2],times=4)
6/284: rep([1,2],each=2,times=3)
6/285: rep([1,2],each=2,times=3,length_out=3)
6/286: rep([1,2],each=2,times=3,length_out=20)
6/287: rep([1,2,3],each=2,times=3)
6/288: rep([1,2,3],each=2,times=3,length_out=20)
6/289: rep([1,2,3],each=2,times=3,length_out=3)
6/290: rep([1,2],each=2,times=3,length_out=20)
6/291: rep([1,2,3],each=2,times=3,length_out=20)
6/292: rep([1,2,3],each=[1,2,3],times=3,length_out=20)
5/375:
letters =string.ascii_lowercase
letters =list(letters)
6/293:
letters =string.ascii_lowercase
letters =list(letters)
5/376:
import numpy as np
import string
letters =string.ascii_lowercase
letters =list(letters)
5/377:
#> rep(letters[1:3],times=c(1,2,4))
#[1] "a" "b" "b" "c" "c" "c" "c"
5/378: rep(letters[1:4],times=[1,2,4])
5/379: letters[1:4]
5/380: rep(letters[0:3],times=[1,2,4])
6/294:
import numpy as np
import string
letters =string.ascii_lowercase
letters =list(letters)
6/295:
#> rep(letters[1:3],times=c(1,2,4))
#[1] "a" "b" "b" "c" "c" "c" "c"
6/296: rep(letters[0:3],times=[1,2,4])
6/297: letters[0:3]
6/298: rep(letters[0:3],times=2)
6/299: rep(letters[0:3],each=2)
6/300: rep(letters[0:3],times=[1,2,4])
6/301: rep(letters[0:3],times=3)
6/302: rep(letters[0:3],each=2,times=3)
6/303: rep(letters[0:3],each=2,times=2)
6/304: rep(letters[0:3],each=3,times=2)
6/305: rep(letters[0:3],each=[1,2],times=2)
6/306: rep(letters[0:3],each=[1,2,3],times=2)
6/307: rep(letters[0:3],each=[1,2],times=2)
6/308:
import numpy as np
def rep(lst, each=1 ,times=1  , length_out= -1):
    if len(each) < len(lst):
        mul_each = len(lst) // len(each) + 1
        each = each * mul_each
        each=each[:len(lst)]        
    ls=np.repeat(lst,repeats=each)
    ls=ls.tolist() * times
    if length_out != -1:
        if length_out < len(ls):
            ls[:length_out]
        else:
            mul = length_out // len(ls) + 1
            ls = ls * mul
        return ls[:length_out]
    return ls
6/309: rep([1,2],each=2)
6/310:
import numpy as np
def rep(lst, each=1 ,times=1  , length_out= -1):
    if len(each) < len(lst):
        mul_each = len(lst) // len(each) + 1
        each = each * mul_each
        each=each[:len(lst)] 
        print(each)
    ls=np.repeat(lst,repeats=each)
    ls=ls.tolist() * times
    if length_out != -1:
        if length_out < len(ls):
            ls[:length_out]
        else:
            mul = length_out // len(ls) + 1
            ls = ls * mul
        return ls[:length_out]
    return ls
6/311: rep([1,2],each=2)
6/312:
import numpy as np
def rep(lst, each=[1] ,times=1  , length_out= -1):
    if len(each) < len(lst):
        mul_each = len(lst) // len(each) + 1
        each = each * mul_each
        each=each[:len(lst)] 
        print(each)
    ls=np.repeat(lst,repeats=each)
    ls=ls.tolist() * times
    if length_out != -1:
        if length_out < len(ls):
            ls[:length_out]
        else:
            mul = length_out // len(ls) + 1
            ls = ls * mul
        return ls[:length_out]
    return ls
6/313: rep([1,2],each=[2])
6/314: rep([1,2],each=[2])
6/315:
import numpy as np
def rep(lst, each=[1] ,times=1  , length_out= -1):
    if len(each) < len(lst):
        mul_each = len(lst) // len(each) + 1
        each = each * mul_each
        each=each[:len(lst)] 
        ls=np.repeat(lst,repeats=each)
    ls=ls.tolist() * times
    if length_out != -1:
        if length_out < len(ls):
            ls[:length_out]
        else:
            mul = length_out // len(ls) + 1
            ls = ls * mul
        return ls[:length_out]
    return ls
6/316: rep([1,2],each=[2])
6/317: rep([1,2],each=[1,2])
6/318:
import numpy as np
def rep(lst, each=[1] ,times=1  , length_out= -1):
    if len(each) < len(lst):
        mul_each = len(lst) // len(each) + 1
        each = each * mul_each
        each=each[:len(lst)] 
    ls=np.repeat(lst,repeats=each)
    ls=ls.tolist() * times
    if length_out != -1:
        if length_out < len(ls):
            ls[:length_out]
        else:
            mul = length_out // len(ls) + 1
            ls = ls * mul
        return ls[:length_out]
    return ls
6/319: rep([1,2],each=[2])
6/320: rep([1,2],each=[1,2])
6/321: rep([1,2],times=4)
6/322: rep([1,2,3],each=2,times=3)
6/323: rep([1,2,3],each=[2],times=3)
6/324: rep([1,2,3],each=2,times=3,length_out=3)
6/325: rep([1,2,3],each=[2],times=3,length_out=3)
6/326: rep([1,2,3],each=2,times=3,length_out=20)
6/327: rep([1,2,3],each=[2],times=3,length_out=20)
6/328:
import numpy as np
def rep(lst, each=[1] ,times=1  , length_out= -1):
    if len(each) < len(lst):
        mul_each = len(lst) // len(each) + 1
        each = each * mul_each
        each=each[:len(lst)] 
    ls=np.repeat(lst,repeats=each)
    ls=ls.tolist() * times
    if length_out != -1:
        if length_out < len(ls):
            ls[:length_out]
        else:
            mul = length_out // len(ls) + 1
            ls = ls * mul
        return ls[:length_out]
    return ls
6/329: rep([1,2],each=[2])
6/330: rep([1,2],each=[1,2])
6/331: rep([1,2],times=4)
6/332: rep([1,2,3],each=[2],times=3)
6/333: rep([1,2,3],each=[2],times=3,length_out=3)
6/334: rep([1,2,3],each=[2],times=3,length_out=20)
6/335: rep([1,2,3],each=[1,2,3],times=3,length_out=20)
6/336: rep(letters[0:3],each=[3],times=2)
6/337: rep(letters[0:3],each=[1,2],times=2)
6/338:
import numpy as np
class list_rep(list):
    def __init__(self, *args):
        super().__init__(*args)
    def __rep__(self, each=[1] ,times=1  , length_out= -1):
        print('rep')
6/339: list_rep=[1,2,3]
6/340: list_rep.__rep__()
6/341:
import numpy as np
class list_rep(list):
    def __init__(self, *args):
        super().__init__(*args)
    def __rep__(self, each=[1] ,times=1  , length_out= -1):
        print('rep')
6/342:
import numpy as np
class list_rep(list):
    def __init__(self, *args):
        super().__init__(*args)
    def __rep__(self, each=[1] ,times=1  , length_out= -1):
        print('rep')
6/343: ls=list_rep([1,2,3])
6/344: ls.__rep__()
6/345:
import numpy as np
class list_rep(list):
    def __init__(self, *args):
        super().__init__(*args)
    def __rep__(self, each=[1] ,times=1  , length_out= -1):
        if len(each) < len(list(self)):
        mul_each = len(list(self)) // len(each) + 1
        each = each * mul_each
        each=each[:len(list(self))] 
    ls=np.repeat(list(self),repeats=each)
    ls=ls.tolist() * times
    if length_out != -1:
        if length_out < len(ls):
            ls[:length_out]
        else:
            mul = length_out // len(ls) + 1
            ls = ls * mul
        return ls[:length_out]
    return ls
6/346:
import numpy as np
class list_rep(list):
    def __init__(self, *args):
        super().__init__(*args)
    def __rep__(self, each=[1] ,times=1  , length_out= -1):
        
        if len(each) < len(list(self)):
            mul_each = len(list(self)) // len(each) + 1
            each = each * mul_each
            each=each[:len(list(self))]
        ls=np.repeat(list(self),repeats=each)
        ls=ls.tolist() * times
        if length_out != -1:
            if length_out < len(ls):
                ls[:length_out]
        else:
            mul = length_out // len(ls) + 1
            ls = ls * mul
        return ls[:length_out]
    return ls
6/347:
import numpy as np
class list_rep(list):
    def __init__(self, *args):
        super().__init__(*args)
    def __rep__(self, each=[1] ,times=1  , length_out= -1):
        if len(each) < len(lst):
        mul_each = len(lst) // len(each) + 1
        each = each * mul_each
        each=each[:len(lst)] 
    ls=np.repeat(lst,repeats=each)
    ls=ls.tolist() * times
    if length_out != -1:
        if length_out < len(ls):
            ls[:length_out]
        else:
            mul = length_out // len(ls) + 1
            ls = ls * mul
        return ls[:length_out]
    return ls
6/348:
import numpy as np
class list_rep(list):
    def __init__(self, *args):
        super().__init__(*args)
    def __rep__(self, each=[1] ,times=1  , length_out= -1):
        
        if len(each) < len(lst):
            mul_each = len(lst) // len(each) + 1
            each = each * mul_each
            each=each[:len(lst)]
        ls=np.repeat(lst,repeats=each)
        ls=ls.tolist() * times
        if length_out != -1:
            if length_out < len(ls):
                ls[:length_out]
            else:
                mul = length_out // len(ls) + 1
                ls = ls * mul
        return ls[:length_out]
    return ls
6/349:
import numpy as np
class list_rep(list):
    def __init__(self, *args):
        super().__init__(*args)
    def __rep__(self, each=[1] ,times=1  , length_out= -1):
        
        if len(each) < len(lst):
            mul_each = len(lst) // len(each) + 1
            each = each * mul_each
            each=each[:len(lst)]
        ls=np.repeat(lst,repeats=each)
        ls=ls.tolist() * times
        if length_out != -1:
            if length_out < len(ls):
                ls[:length_out]
            else:
                mul = length_out // len(ls) + 1
                ls = ls * mul
            ls =ls[:length_out]
    return ls
6/350:
import numpy as np
class list_rep(list):
    def __init__(self, *args):
        super().__init__(*args)
    def __rep__(self, each=[1] ,times=1  , length_out= -1):
        
        if len(each) < len(lst):
            mul_each = len(lst) // len(each) + 1
            each = each * mul_each
            each=each[:len(lst)]
        ls=np.repeat(lst,repeats=each)
        ls=ls.tolist() * times
        if length_out != -1:
            if length_out < len(ls):
                ls[:length_out]
            else:
                mul = length_out // len(ls) + 1
                ls = ls * mul
            ls =ls[:length_out]
        return ls
6/351: ls=list_rep([1,2,3])
6/352: ls.__rep__(each=[2])
6/353:
import numpy as np
class list_rep(list):
    def __init__(self, *args):
        super().__init__(*args)
    def __rep__(self, each=[1] ,times=1  , length_out= -1):
        lst=list(self)
        if len(each) < len(lst):
            mul_each = len(lst) // len(each) + 1
            each = each * mul_each
            each=each[:len(lst)]
        ls=np.repeat(lst,repeats=each)
        ls=ls.tolist() * times
        if length_out != -1:
            if length_out < len(ls):
                ls[:length_out]
            else:
                mul = length_out // len(ls) + 1
                ls = ls * mul
            ls =ls[:length_out]
        return ls
6/354: ls=list_rep([1,2,3])
6/355: ls.__rep__(each=[2])
 7/1:
import numpy as np

def rep(lst, each=None, times=1, length_out=-1):
    each = each or [1]  # Use default argument instead of default value
    each *= len(lst) // len(each) + 1  # Repeat each element to match length of lst
    each = each[:len(lst)]

    ls = np.repeat(lst, repeats=each).tolist() * times
    ls_out = ls[:length_out] if length_out != -1 else ls

    return ls_out[:min(length_out, len(ls_out))]  # Use min() to ensure correct length
 7/2: ls=[1,2,3]
 7/3: rep(ls,each=[2])
 8/1: seq[1:3]
 8/2: x=[1,2,3]
 8/3:
x=[1,2,3]
y=(1,2,3)
 8/4: x*3
 8/5: 3*x
 8/6: x+x
 8/7:
class point:
    def __init__(self,x,y):
        self.x=x
        self.y=y
    def __rep__(self):
        print("point(x={},y={})".format(self.x,self.y))
 8/8: p1=point(2,5)
 8/9: p1
8/10:
class point:
    def __init__(self,x,y):
        self.x=x
        self.y=y
    def __repr__(self):
        print("point(x={},y={})".format(self.x,self.y))
8/11: p1=point(2,5)
8/12: p1
8/13:
class point:
    def __init__(self,x,y):
        self.x=x
        self.y=y
    def __repr__(self):
        print("point(x={},y={})")
8/14: p1=point(2,5)
8/15: p1
8/16:
class point:
    def __init__(self,x,y):
        self._x=x
        self._y=y
    def __repr__(self):
        print("point(x={},y={})")
8/17: p1=point(2,5)
8/18: p1
8/19:
class point:
    def __init__(self,x,y):
        self.x=x
        self.y=y
    def __repr__(self):
        print("point(x={},y={})")
8/20: p1=point(2,5)
8/21: p1
8/22:
class point:
    def __init__(self,x,y):
        self.x=x
        self.y=y
    def __repr__(self):
        return "point(x={},y={})"
8/23: p1=point(2,5)
8/24: p1
8/25:
class point:
    def __init__(self,x,y):
        self.x=x
        self.y=y
    def __repr__(self):
        return "point(x={},y={})".format(self.x,self.y)
8/26: p1=point(2,5)
8/27: p1
8/28: p1
8/29: x,y =p1
8/30:
class point:
    def __init__(self,x,y):
        self.x=x
        self.y=y
    def __repr__(self):
        return "point(x={},y={})".format(self.x,self.y)
    def __len__(self):
        return len(self)
8/31: p1=point(2,5)
8/32: p1
8/33: x,y =p1
8/34:
class point:
    def __init__(self,x,y):
        self.x=x
        self.y=y
    def __repr__(self):
        return "point(x={},y={})".format(self.x,self.y)
    def __len__(self):
        return len(self)
    def __getitem__(self,n):
        return self[n]
8/35: p1=point(2,5)
8/36: p1
 9/1:
class point:
    def __init__(self,x,y):
        self.xy=(x,y)
    def __repr__(self):
        return "point(x={},y={})".format(self.xy[1],self.xy[2])
    def __len__(self):
        return len(self)
    def __getitem__(self,n):
        return self[n]
 9/2: p1=point(2,5)
 9/3: p1
10/1: print(p1)
10/2:
class point:
    def __init__(self,x,y):
        self.xy=(x,y)
    def __repr__(self):
        return "point(x={},y={})".format(self.xy[1],self.xy[2])
    def __len__(self):
        return len(self.xy)
    def __getitem__(self,n):
        return self.xy[n]
10/3: p1=point(2,5)
10/4: p1
10/5: x,y =p1
10/6:
class point:
    def __init__(self,x,y):
        self.xy=(x,y)
    def __repr__(self):
        return "point(x={},y={})".format(self.xy[1],self.xy[2])
    def __len__(self):
        return len(self.xy)
    def __getitem__(self,n):
        return self.xy[n]
10/7: p1=point(2,5)
10/8: p1
10/9:
class point:
    def __init__(self,x,y):
        self.xy=(x,y)
    def __repr__(self):
        return "point(x={},y={})".format(self.xy[0],self.xy[1])
    def __len__(self):
        return len(self.xy)
    def __getitem__(self,n):
        return self.xy[n]
10/10: p1=point(2,5)
10/11: p1
10/12: x,y =p1
10/13: x
10/14: print(p1)
10/15:
class point:
    def __init__(self,x,y):
        self.xy=(x,y)
    def __repr__(self):
        return "point(x={},y={})".format(self.xy[0],self.xy[1])
    def __len__(self):
        return len(self.xy)
10/16: p1=point(2,5)
10/17: p1
10/18: x,y =p1
10/19: import number
10/20: import numbers
10/21:
class point:
    def __init__(self,x,y):
        if isinstance(x,numbers.Real) & isinstance(y,numbers.Real):
            self.xy=(x,y)
        else:
            raise TypeError
    def __repr__(self):
        return "point(x={},y={})".format(self.xy[0],self.xy[1])
    def __len__(self):
        return len(self.xy)
    def __getitem__(self,n):
        return self.xy[n]
10/22: p1=point(2,5)
10/23: p2=point('a',3)
10/24: p1=point(2,5)
10/25: x,y =p1
10/26: x
10/27: p1=point(2,5)
10/28: x,y =p1
10/29: x
10/30: y
10/31:
class polygon:
    def __init__(self,*pts):
        if pts:
            self._pts=[point(pt) for pt in *pts]
        else:
            self._pts=[]
        def __repr__(self):
            return "point(pts={})".format(self._pts)
10/32:
class polygon:
    def __init__(self,*pts):
        if pts:
            self._pts=[point(pt) for pt in *pts]
        else:
            self._pts=[]
    def __repr__(self):
        return "point(pts={})".format(self._pts)
10/33:
class polygon:
    def __init__(self,*pts):
        if pts:
            self._pts=[point(pt) for pt in pts]
        else:
            self._pts=[]
    def __repr__(self):
        return "point(pts={})".format(self._pts)
10/34: polygon((0,1),point(3,4))
10/35: polygon([(0,1),point(3,4)])
10/36:
class polygon:
    def __init__(self,*pts):
        if pts:
            self._pts=[point(*pt) for pt in pts]
        else:
            self._pts=[]
    def __repr__(self):
        return "point(pts={})".format(self._pts)
10/37: polygon([(0,1),point(3,4)])
10/38:
class point:
    def __init__(self,x,y):
        if isinstance(x,numbers.Real) & isinstance(y,numbers.Real):
            self._pt=(x,y)
        else:
            raise TypeError
    def __repr__(self):
        return "point(x={},y={})".format(self._pt[0],self._pt[1])
    def __len__(self):
        return len(self._pt)
    def __getitem__(self,n):
        return self._pt[n]
10/39: p1=point(2,5)
10/40: x,y =p1
10/41: x
10/42: y
10/43:
class polygon:
    def __init__(self,*pts):
        if pts:
            self._pts=[point(*pt) for pt in pts]
        else:
            self._pts=[]
    def __repr__(self):
        return "point(pts={})".format(self._pts)
10/44:
class polygon:
    def __init__(self,*pts):
        if pts:
            self._pts=[point(*pt) for pt in pts]
        else:
            self._pts=[]
    def __repr__(self):
        return "point(pts={})".format(self._pts)
10/45: polygon([(0,1),point(3,4)])
10/46:
class polygon:
    def __init__(self,*pts):
        if pts:
            self._pts=[point(*pt) for pt in pts]
        else:
            self._pts=[]
10/47: polygon([(0,1),point(3,4)])
10/48: polygon([(0,1),(3,4)])
10/49:
class polygon:
    def __init__(self,*pts):
        if pts:
            self._pts=[point(*pt) for pt in pts]
        else:
            self._pts=[]
    def __repr__(self):
        return "point(pts={})".format(self._pts)
10/50: polygon([(0,1),(3,4)])
10/51:
class polygon:
    def __init__(self,*pts):
        if pts:
            self._pts=[point(*pt) for pt in pts]
        else:
            self._pts=[]
    def __repr__(self):
        pts_str=', '.join([str(pt) for pt in self._pts])
        return "point(pts={})".format(pts_str)
10/52: polygon([(0,1),(3,4)])
10/53: point(2,5)
10/54:
class polygon:
    def __init__(self,*pts):
        if pts:
            self._pts=[point(*pt) for pt in pts]
        else:
            self._pts=[]
    def __repr__(self):
        pts_str=', '.join([str(pt) for pt in self._pts])
        return "point(pts={})".format(pts_str)
10/55: polygon([(0,1),(3,4)])
10/56:
class polygon:
    def __init__(self,*pts):
        if pts:
            self._pts=[point(pt) for pt in pts]
        else:
            self._pts=[]
    def __repr__(self):
        pts_str=', '.join([str(pt) for pt in self._pts])
        return "point(pts={})".format(pts_str)
10/57: polygon([(0,1),(3,4)])
10/58: polygon(((0,1),(3,4))
10/59:
class polygon:
    def __init__(self,*pts):
        if pts:
            self._pts=[point(pt) for pt in pts]
        else:
            self._pts=[]
    def __repr__(self):
        pts_str=', '.join([str(pt) for pt in self._pts])
        return "point(pts={})".format(pts_str)
10/60: polygon(((0,1),(3,4))
10/61: polygon((0,1),(3,4))
10/62: polygon([(0,1),(3,4)])
10/63:
class polygon:
    def __init__(self,*pts):
        if pts:
            self._pts=[point(pt) for pt in pts]
        else:
            self._pts=[]
    def __repr__(self):
        pts_str=', '.join([str(pt) for pt in self._pts])
        return "point(pts={})".format(pts_str)
10/64: polygon([(0,1),(3,4)])
10/65:
class polygon:
    def __init__(self,*pts):
        if pts:
            self._pts=[point(*pt) for pt in pts]
        else:
            self._pts=[]
    def __repr__(self):
        pts_str=', '.join([str(pt) for pt in self._pts])
        return "point(pts={})".format(pts_str)
10/66: [point(*pt) for pt in point(3,4)]
10/67: [*pt for pt in point(3,4)]
10/68: [*pt for pt in [(3,4)]
10/69: [*pt for pt in [(3,4)]]
10/70: [*pt for pt in list((3,4))]
10/71: [pt for pt in list((3,4))]
10/72:
class polygon:
    def __init__(self,*pts):
        if pts:
            self._pts=[point(pt) for pt in pts]
        else:
            self._pts=[]
    def __repr__(self):
        pts_str=', '.join([str(pt) for pt in self._pts])
        return "point(pts={})".format(pts_str)
10/73: polygon([(0,1),(3,4)])
10/74:
class point:
    def __init__(self,x,y):
        if isinstance(x,numbers.Real) & isinstance(y,numbers.Real):
            self._pt=(x,y)
        else:
            raise TypeError
    def __repr__(self):
        return "point(x={},y={})".format(self._pt[0],self._pt[1])
    def __len__(self):
        return len(self._pt)
    def __getitem__(self,n):
        return self._pt[n]
10/75: p1=point(2,5)
10/76: x,y =p1
10/77: x
10/78: point(2,5)
10/79:
class polygon:
    def __init__(self,*pts):
        if pts:
            self._pts=[point(*pt) for pt in pts]
        else:
            self._pts=[]
    def __repr__(self):
        pts_str=', '.join([str(pt) for pt in self._pts])
        return "point(pts={})".format(pts_str)
10/80: polygon([(0,1),(3,4)])
10/81:
class point:
    def __init__(self,x,y):
        if isinstance(x,numbers.Real) & isinstance(y,numbers.Real):
            self._pt=(x,y)
        else:
            raise TypeError('error 401')
    
    def __repr__(self):
        return "point(x={},y={})".format(self._pt[0],self._pt[1])
    def __len__(self):
        return len(self._pt)
    def __getitem__(self,s):
        return self._pt[s]
10/82: p1=point(2,5)
10/83: x,y =p1
10/84: x
10/85: point(2,5)
10/86:
class Point:
    def __init__(self, x, y):
        if isinstance(x, numbers.Real) and isinstance(y, numbers.Real):
            self._pt = (x, y)
        else:
            raise TypeError('Point co-ordinates must be real numbers.')
            
    def __repr__(self):
        return f'Point(x={self._pt[0]}, y={self._pt[1]})'
    
    def __len__(self):
        return 2
    
    def __getitem__(self, s):
        return self._pt[s]
10/87:
lass Polygon:
    def __init__(self, *pts):
        if pts:
            self._pts = [Point(*pt) for pt in pts]
        else:
            self._pts = []
            
    def __repr__(self):
        pts_str = ', '.join(self._pts)
        return f'Polygon({pts_str})'
10/88:
class Polygon:
    def __init__(self, *pts):
        if pts:
            self._pts = [Point(*pt) for pt in pts]
        else:
            self._pts = []
            
    def __repr__(self):
        pts_str = ', '.join(self._pts)
        return f'Polygon({pts_str})'
10/89:
class Polygon:
    def __init__(self, *pts):
        if pts:
            self._pts = [Point(*pt) for pt in pts]
        else:
            self._pts = []
            
    def __repr__(self):
        pts_str = ', '.join([str(pt) for pt in self._pts])
        return f'Polygon({pts_str})'
10/90: p = Polygon((0,0), (1,1))
10/91: p
10/92:
class polygon:
    def __init__(self,*pts):
        if pts:
            self._pts=[point(*pt) for pt in pts]
        else:
            self._pts=[]
    def __repr__(self):
        pts_str=', '.join([str(pt) for pt in self._pts])
        return "point(pts={})".format(pts_str)
10/93: polygon([(0,1),(3,4)])
10/94:
class point:
    def __init__(self, x, y):
        if isinstance(x, numbers.Real) and isinstance(y, numbers.Real):
            self._pt = (x, y)
        else:
            raise TypeError('Point co-ordinates must be real numbers.')
            
    def __repr__(self):
        return f'Point(x={self._pt[0]}, y={self._pt[1]})'
    
    def __len__(self):
        return 2
    
    def __getitem__(self, s):
        return self._pt[s]
10/95:
class polygon:
    def __init__(self,*pts):
        if pts:
            self._pts=[point(*pt) for pt in pts]
        else:
            self._pts=[]
    def __repr__(self):
        pts_str=', '.join([str(pt) for pt in self._pts])
        return "point(pts={})".format(pts_str)
10/96: polygon([(0,1),(3,4)])
10/97:
class Point:
    def __init__(self,x,y):
        if isinstance(x,numbers.Real) & isinstance(y,numbers.Real):
            self._pt=(x,y)
        else:
            raise TypeError('error 401')
    
    def __repr__(self):
        return "point(x={},y={})".format(self._pt[0],self._pt[1])
    def __len__(self):
        return len(self._pt)
    def __getitem__(self,s):
        return self._pt[s]
10/98:
class Polygon:
    def __init__(self, *pts):
        if pts:
            self._pts = [Point(*pt) for pt in pts]
        else:
            self._pts = []
            
    def __repr__(self):
        pts_str = ', '.join([str(pt) for pt in self._pts])
        return f'Polygon({pts_str})'
10/99: p = Polygon((0,0), (1,1))
10/100: p
10/101:
class polygon:
    def __init__(self,*pts):
        if pts:
            self._pts=[point(*pt) for pt in pts]
        else:
            self._pts=[]
    def __repr__(self):
        pts_str=', '.join([str(pt) for pt in self._pts])
        return "point(pts={})".format(pts_str)
10/102:
class polygon:
    def __init__(self,*pts):
        if pts:
            self._pts=[Point(*pt) for pt in pts]
        else:
            self._pts=[]
    def __repr__(self):
        pts_str=', '.join([str(pt) for pt in self._pts])
        return "point(pts={})".format(pts_str)
10/103: p = polygon((0,0), (1,1))
10/104:
class polygon1:
    def __init__(self,*pts):
        if pts:
            self._pts=[Point(*pt) for pt in pts]
        else:
            self._pts=[]
    def __repr__(self):
        pts_str=', '.join([str(pt) for pt in self._pts])
        return "point(pts={})".format(pts_str)
10/105: p = polygon1((0,0), (1,1))
10/106: p = polygon1((0,0), Point(1,1))
10/107: p
10/108:
class Point:
    def __init__(self, x, y):
        if isinstance(x, numbers.Real) and isinstance(y, numbers.Real):
            self._pt = (x, y)
        else:
            raise TypeError('Point co-ordinates must be real numbers.')
            
    def __repr__(self):
        return f'Point(x={self._pt[0]}, y={self._pt[1]})'
    
    def __len__(self):
        return 2
    
    def __getitem__(self, s):
        return self._pt[s]
10/109:
class Polygon:
    def __init__(self, *pts):
        if pts:
            self._pts = [Point(*pt) for pt in pts]
        else:
            self._pts = []
            
    def __repr__(self):
        pts_str = ', '.join([str(pt) for pt in self._pts])
        return f'Polygon({pts_str})'
    
    def __len__(self):
        return len(self._pts)
    
    def __getitem__(self, s):
        return self._pts[s]
    
    def __setitem__(self, s, value):
        # value could be a single Point (or compatible type) for s an int
        # or it could be an iterable of Points if s is a slice
        # let's start by handling slices only first
        self._pts[s] = [Point(*pt) for pt in value]
            
    def __add__(self, pt):
        if isinstance(pt, Polygon):
            new_pts = self._pts + pt._pts
            return Polygon(*new_pts)
        else:
            raise TypeError('can only concatenate with another Polygon')

    def append(self, pt):
        self._pts.append(Point(*pt))
        
    def extend(self, pts):
        if isinstance(pts, Polygon):
            self._pts = self._pts + pts._pts
        else:
            # assume we are being passed an iterable containing Points
            # or something compatible with Points
            points = [Point(*pt) for pt in pts]
            self._pts = self._pts + points
    
    def __iadd__(self, pts):
        self.extend(pts)
        return self
    
    def insert(self, i, pt):
        self._pts.insert(i, Point(*pt))
10/110:
class Polygon:
    def __init__(self, *pts):
        if pts:
            self._pts = [Point(*pt) for pt in pts]
        else:
            self._pts = []
            
    def __repr__(self):
        pts_str = ', '.join([str(pt) for pt in self._pts])
        return f'Polygon({pts_str})'
    
    def __len__(self):
        return len(self._pts)
    
    def __getitem__(self, s):
        return self._pts[s]
    
    def __setitem__(self, s, value):
        # value could be a single Point (or compatible type) for s an int
        # or it could be an iterable of Points if s is a slice
        # let's start by handling slices only first
        self._pts[s] = [Point(*pt) for pt in value]
            
    def __add__(self, pt):
        if isinstance(pt, Polygon):
            new_pts = self._pts + pt._pts
            return Polygon(*new_pts)
        else:
            raise TypeError('can only concatenate with another Polygon')

    def append(self, pt):
        self._pts.append(Point(*pt))
        
    def extend(self, pts):
        if isinstance(pts, Polygon):
            self._pts = self._pts + pts._pts
        else:
            # assume we are being passed an iterable containing Points
            # or something compatible with Points
            points = [Point(*pt) for pt in pts]
            self._pts = self._pts + points
    
    def __iadd__(self, pts):
        self.extend(pts)
        return self
    
    def insert(self, i, pt):
        self._pts.insert(i, Point(*pt))
10/111:
class Polygon:
    def __init__(self, *pts):
        if pts:
            self._pts = [Point(*pt) for pt in pts]
        else:
            self._pts = []
            
    def __repr__(self):
        pts_str = ', '.join([str(pt) for pt in self._pts])
        return f'Polygon({pts_str})'
    
    def __len__(self):
        return len(self._pts)
    
    def __getitem__(self, s):
        return self._pts[s]
10/112: p = Polygon((0,0), (1,1))
10/113: p
10/114: x,y=p
10/115: x
10/116:
p1 = Polygon((0,0), (1,1))
p2 = Polygon((2,2), (3,3))
10/117: result = p1 + p2
10/118:
class Polygon:
    def __init__(self, *pts):
        if pts:
            self._pts = [Point(*pt) for pt in pts]
        else:
            self._pts = []
            
    def __repr__(self):
        pts_str = ', '.join([str(pt) for pt in self._pts])
        return f'Polygon({pts_str})'
    
    def __len__(self):
        return len(self._pts)
    
    def __getitem__(self, s):
        return self._pts[s]
    
    def __setitem__(self, s, value):
        # value could be a single Point (or compatible type) for s an int
        # or it could be an iterable of Points if s is a slice
        # let's start by handling slices only first
        self._pts[s] = [Point(*pt) for pt in value]
            
    def __add__(self, pt):
        if isinstance(pt, Polygon):
            new_pts = self._pts + pt._pts
            return Polygon(*new_pts)
        else:
            raise TypeError('can only concatenate with another Polygon')
10/119: p = Polygon((0,0), (1,1))
10/120:
p1 = Polygon((0,0), (1,1))
p2 = Polygon((2,2), (3,3))
10/121: result = p1 + p2
10/122: p1 + p2
10/123:
class Polygon:
    def __init__(self, *pts):
        if pts:
            self._pts = [Point(*pt) for pt in pts]
        else:
            self._pts = []
            
    def __repr__(self):
        pts_str = ', '.join([str(pt) for pt in self._pts])
        return f'Polygon({pts_str})'
    
    def __len__(self):
        return len(self._pts)
    
    def __getitem__(self, s):
        return self._pts[s]
    
    
            
    def __add__(self, pt):
        if isinstance(pt, Polygon):
            new_pts = self._pts + pt._pts
            return Polygon(*new_pts)
        else:
            raise TypeError('can only concatenate with another Polygon')
10/124: p = Polygon((0,0), (1,1))
10/125:
p1 = Polygon((0,0), (1,1))
p2 = Polygon((2,2), (3,3))
10/126: p1 + p2
10/127: p1 += p2
10/128: 1
10/129: p1
10/130: p1 += (1,2)
10/131:
class Polygon:
    def __init__(self, *pts):
        if pts:
            self._pts = [Point(*pt) for pt in pts]
        else:
            self._pts = []
            
    def __repr__(self):
        pts_str = ', '.join([str(pt) for pt in self._pts])
        return f'Polygon({pts_str})'
    
    def __len__(self):
        return len(self._pts)
    
    def __getitem__(self, s):
        return self._pts[s]
    
    
            
    def __add__(self, pt):
        if isinstance(pt, Polygon):
            new_pts = self._pts + pt._pts
            return Polygon(*new_pts)
        else:
            raise TypeError('can only concatenate with another Polygon')
    def extend(self, pts):
        if isinstance(pts, Polygon):
            self._pts = self._pts + pts._pts
        else:
            # assume we are being passed an iterable containing Points
            # or something compatible with Points
            points = [Point(*pt) for pt in pts]
            self._pts = self._pts + points
    
    def __iadd__(self, pts):
        self.extend(pts)
        return self
10/132: p = Polygon((0,0), (1,1))
10/133:
p1 = Polygon((0,0), (1,1))
p2 = Polygon((2,2), (3,3))
10/134: p1 += (1,2)
10/135:
class Polygon:
    def __init__(self, *pts):
        if pts:
            self._pts = [Point(*pt) for pt in pts]
        else:
            self._pts = []
            
    def __repr__(self):
        pts_str = ', '.join([str(pt) for pt in self._pts])
        return f'Polygon({pts_str})'
    
    def __len__(self):
        return len(self._pts)
    
    def __getitem__(self, s):
        return self._pts[s]
    
    def __setitem__(self, s, value):
        # value could be a single Point (or compatible type) for s an int
        # or it could be an iterable of Points if s is a slice
        # let's start by handling slices only first
        self._pts[s] = [Point(*pt) for pt in value]
            
    def __add__(self, pt):
        if isinstance(pt, Polygon):
            new_pts = self._pts + pt._pts
            return Polygon(*new_pts)
        else:
            raise TypeError('can only concatenate with another Polygon')

    def append(self, pt):
        self._pts.append(Point(*pt))
        
    def extend(self, pts):
        if isinstance(pts, Polygon):
            self._pts = self._pts + pts._pts
        else:
            # assume we are being passed an iterable containing Points
            # or something compatible with Points
            points = [Point(*pt) for pt in pts]
            self._pts = self._pts + points
    
    def __iadd__(self, pts):
        self.extend(pts)
        return self
    
    def insert(self, i, pt):
        self._pts.insert(i, Point(*pt))
10/136: p = Polygon((0,0), (1,1))
10/137:
p1 = Polygon((0,0), (1,1))
p2 = Polygon((2,2), (3,3))
10/138: p1 += (1,2)
10/139: p1 += [(1,2)]
10/140:
class Polygon:
    def __init__(self, *pts):
        if pts:
            self._pts = [Point(*pt) for pt in pts]
        else:
            self._pts = []
            
    def __repr__(self):
        pts_str = ', '.join([str(pt) for pt in self._pts])
        return f'Polygon({pts_str})'
    
    def __len__(self):
        return len(self._pts)
    
    def __getitem__(self, s):
        return self._pts[s]
    
    
            
    def __add__(self, pt):
        if isinstance(pt, Polygon):
            new_pts = self._pts + pt._pts
            return Polygon(*new_pts)
        else:
            raise TypeError('can only concatenate with another Polygon')
    def extend(self, pts):
        if isinstance(pts, Polygon):
            self._pts = self._pts + pts._pts
        else:
            # assume we are being passed an iterable containing Points
            # or something compatible with Points
            points = [Point(*pt) for pt in pts]
            self._pts = self._pts + points
    
    def __iadd__(self, pts):
        self.extend(pts)
        return self
10/141: p = Polygon((0,0), (1,1))
10/142:
p1 = Polygon((0,0), (1,1))
p2 = Polygon((2,2), (3,3))
10/143: p1 += [(1,2)]
10/144: p1
10/145:
class Polygon:
    def __init__(self, *pts):
        if pts:
            self._pts = [Point(*pt) for pt in pts]
        else:
            self._pts = []
            
    def __repr__(self):
        pts_str = ', '.join([str(pt) for pt in self._pts])
        return f'Polygon({pts_str})'
    
    def __len__(self):
        return len(self._pts)
    
    def __getitem__(self, s):
        return self._pts[s]
    
    
            
    def __add__(self, pt):
        if isinstance(pt, Polygon):
            new_pts = self._pts + pt._pts
            return Polygon(*new_pts)
        else:
            raise TypeError('can only concatenate with another Polygon')
    def extend(self, pts):
        self._pts = self._pts + pts._pts
        
    
    def __iadd__(self, pts):
        self.extend(pts)
        return self
10/146: p = Polygon((0,0), (1,1))
10/147:
p1 = Polygon((0,0), (1,1))
p2 = Polygon((2,2), (3,3))
10/148: p1 += [(1,2)]
10/149: p1 += [(2,2), (3,3)]
10/150:
class Polygon:
    def __init__(self, *pts):
        if pts:
            self._pts = [Point(*pt) for pt in pts]
        else:
            self._pts = []
            
    def __repr__(self):
        pts_str = ', '.join([str(pt) for pt in self._pts])
        return f'Polygon({pts_str})'
    
    def __len__(self):
        return len(self._pts)
    
    def __getitem__(self, s):
        return self._pts[s]
    
    def __setitem__(self, s, value):
        # value could be a single Point (or compatible type) for s an int
        # or it could be an iterable of Points if s is a slice
        # let's start by handling slices only first
        self._pts[s] = [Point(*pt) for pt in value]
            
    def __add__(self, pt):
        if isinstance(pt, Polygon):
            new_pts = self._pts + pt._pts
            return Polygon(*new_pts)
        else:
            raise TypeError('can only concatenate with another Polygon')

    def append(self, pt):
        self._pts.append(Point(*pt))
        
    def extend(self, pts):
        if isinstance(pts, Polygon):
            self._pts = self._pts + pts._pts
        else:
            # assume we are being passed an iterable containing Points
            # or something compatible with Points
            points = [Point(*pt) for pt in pts]
            self._pts = self._pts + points
    
    def __iadd__(self, pts):
        self.extend(pts)
        return self
    
    def insert(self, i, pt):
        self._pts.insert(i, Point(*pt))
10/151: p = Polygon((0,0), (1,1))
10/152:
p1 = Polygon((0,0), (1,1))
p2 = Polygon((2,2), (3,3))
10/153: p1 += [(2,2), (3,3)]
10/154:
class Polygon:
    def __init__(self, *pts):
        if pts:
            self._pts = [Point(*pt) for pt in pts]
        else:
            self._pts = []
            
    def __repr__(self):
        pts_str = ', '.join([str(pt) for pt in self._pts])
        return f'Polygon({pts_str})'
    
    def __len__(self):
        return len(self._pts)
    
    def __getitem__(self, s):
        return self._pts[s]
    
    def __setitem__(self, s, value):
        # value could be a single Point (or compatible type) for s an int
        # or it could be an iterable of Points if s is a slice
        # let's start by handling slices only first
        self._pts[s] = [Point(*pt) for pt in value]
            
    def __add__(self, pt):
        if isinstance(pt, Polygon):
            new_pts = self._pts + pt._pts
            return Polygon(*new_pts)
        else:
            raise TypeError('can only concatenate with another Polygon')

    def append(self, pt):
        self._pts.append(Point(*pt))
        
    def extend(self, pts):
        if isinstance(pts, Polygon):
            self._pts = self._pts + pts._pts
        else:
            # assume we are being passed an iterable containing Points
            # or something compatible with Points
            points = [Point(*pt) for pt in pts]
            self._pts = self._pts + points
    
    def __iadd__(self, pts):
        self.extend(pts)
        return self
    
    def insert(self, i, pt):
        self._pts.insert(i, Point(*pt))
10/155: p = Polygon((0,0), (1,1))
10/156:
p1 = Polygon((0,0), (1,1))
p2 = Polygon((2,2), (3,3))
10/157: p1 += [(2,2), (3,3)]
10/158: p1
10/159:
class Polygon:
    def __init__(self, *pts):
        if pts:
            self._pts = [Point(*pt) for pt in pts]
        else:
            self._pts = []
            
    def __repr__(self):
        pts_str = ', '.join([str(pt) for pt in self._pts])
        return f'Polygon({pts_str})'
    
    def __len__(self):
        return len(self._pts)
    
    def __getitem__(self, s):
        return self._pts[s]
    
    def __setitem__(self, s, value):
        # value could be a single Point (or compatible type) for s an int
        # or it could be an iterable of Points if s is a slice
        # let's start by handling slices only first
        self._pts[s] = [Point(*pt) for pt in value]
            
    def __add__(self, pt):
        if isinstance(pt, Polygon):
            new_pts = self._pts + pt._pts
            return Polygon(*new_pts)
        else:
            raise TypeError('can only concatenate with another Polygon')

    def append(self, pt):
        self._pts.append(Point(*pt))
        
    def extend(self, pts):
        if isinstance(pts, Polygon):
            self._pts = self._pts + pts._pts
        else:
            # assume we are being passed an iterable containing Points
            # or something compatible with Points
            points = [Point(*pt) for pt in pts]
            self._pts = self._pts + points
    
    def __iadd__(self, pts):
        self.extend(pts)
        return self
    
    def insert(self, i, pt):
        self._pts.insert(i, Point(*pt))
10/160:
p = Polygon((0,0), (1,1), (2,2))
print(id(p), p)
10/161: p[0] = Point(100, 100)
10/162: p[0] = Point(100, 100)
10/163:
class Polygon:
    def __init__(self, *pts):
        if pts:
            self._pts = [Point(*pt) for pt in pts]
        else:
            self._pts = []
            
    def __repr__(self):
        pts_str = ', '.join([str(pt) for pt in self._pts])
        return f'Polygon({pts_str})'
    
    def __len__(self):
        return len(self._pts)
    
    def __getitem__(self, s):
        return self._pts[s]
    
    def __setitem__(self, s, value):
        # we first should see if we have a single Point
        # or an iterable of Points in value
        try:
            rhs = [Point(*pt) for pt in value]
            is_single = False
        except TypeError:
            # not a valid iterable of Points
            # maybe a single Point?
            try:
                rhs = Point(*value)
                is_single = True
            except TypeError:
                # still no go
                raise TypeError('Invalid Point or iterable of Points')
        
        # reached here, so rhs is either an iterable of Points, or a Point
        # we want to make sure we are assigning to a slice only if we 
        # have an iterable of points, and assigning to an index if we 
        # have a single Point only
        if (isinstance(s, int) and is_single) \
            or isinstance(s, slice) and not is_single:
            self._pts[s] = rhs
        else:
            raise TypeError('Incompatible index/slice assignment')
                
    def __add__(self, pt):
        if isinstance(pt, Polygon):
            new_pts = self._pts + pt._pts
            return Polygon(*new_pts)
        else:
            raise TypeError('can only concatenate with another Polygon')

    def append(self, pt):
        self._pts.append(Point(*pt))
        
    def extend(self, pts):
        if isinstance(pts, Polygon):
            self._pts = self._pts + pts._pts
        else:
            # assume we are being passed an iterable containing Points
            # or something compatible with Points
            points = [Point(*pt) for pt in pts]
            self._pts = self._pts + points
    
    def __iadd__(self, pts):
        self.extend(pts)
        return self
    
    def insert(self, i, pt):
        self._pts.insert(i, Point(*pt))
        
    def __delitem__(self, s):
        del self._pts[s]
        
    def pop(self, i):
        return self._pts.pop(i)
10/164: p = Polygon((0,0), (1,1))
10/165:
p1 = Polygon((0,0), (1,1))
p2 = Polygon((2,2), (3,3))
10/166: p1 += [(2,2), (3,3)]
10/167: p1
10/168:
p = Polygon((0,0), (1,1), (2,2))
print(id(p), p)
10/169: p[0] = Point(100, 100)
10/170: p
10/171:
class Polygon:
    def __init__(self, *pts):
        if pts:
            self._pts = [Point(*pt) for pt in pts]
        else:
            self._pts = []
            
    def __repr__(self):
        pts_str = ', '.join([str(pt) for pt in self._pts])
        return f'Polygon({pts_str})'
    
    def __len__(self):
        return len(self._pts)
    
    def __getitem__(self, s):
        return self._pts[s]
    
    def __setitem__(self, s, value):
        # we first should see if we have a single Point
        # or an iterable of Points in value
        try:
            rhs = [Point(*pt) for pt in value]
            is_single = False
        except TypeError:
            # not a valid iterable of Points
            # maybe a single Point?
            try:
                rhs = Point(*value)
                is_single = True
            except TypeError:
                # still no go
                raise TypeError('Invalid Point or iterable of Points')
        
        # reached here, so rhs is either an iterable of Points, or a Point
        # we want to make sure we are assigning to a slice only if we 
        # have an iterable of points, and assigning to an index if we 
        # have a single Point only
        if (isinstance(s, int) and is_single) \
            or isinstance(s, slice) and not is_single:
            self._pts[s] = rhs
        else:
            raise TypeError('Incompatible index/slice assignment')
                
    def __add__(self, pt):
        if isinstance(pt, Polygon):
            new_pts = self._pts + pt._pts
            return Polygon(*new_pts)
        else:
            raise TypeError('can only concatenate with another Polygon')

    def append(self, pt):
        self._pts.append(Point(*pt))
        
    def extend(self, pts):
        if isinstance(pts, Polygon):
            self._pts = self._pts + pts._pts
        else:
            # assume we are being passed an iterable containing Points
            # or something compatible with Points
            points = [Point(*pt) for pt in pts]
            self._pts = self._pts + points
    
    def __iadd__(self, pts):
        self.extend(pts)
        return self
    
    def insert(self, i, pt):
        self._pts.insert(i, Point(*pt))
        
    def __delitem__(self, s):
        del self._pts[s]
        
    def pop(self, i):
        return self._pts.pop(i)
10/172:
class Point:
    def __init__(self, x, y):
        if isinstance(x, numbers.Real) and isinstance(y, numbers.Real):
            self._pt = (x, y)
        else:
            raise TypeError('Point co-ordinates must be real numbers.')
            
    def __repr__(self):
        return f'Point(x={self._pt[0]}, y={self._pt[1]})'
    
    def __len__(self):
        return 2
    
    def __getitem__(self, s):
        return self._pt[s]
12/1:
class Point:
    def __init__(self, x, y):
        if isinstance(x, numbers.Real) and isinstance(y, numbers.Real):
            self._pt = (x, y)
        else:
            raise TypeError('Point co-ordinates must be real numbers.')
            
    def __repr__(self):
        return f'Point(x={self._pt[0]}, y={self._pt[1]})'
    
    def __len__(self):
        return 2
    
    def __getitem__(self, s):
        return self._pt[s]
12/2: p1=Point(2,1)
12/3:
class Point:
    def __init__(self, x, y):
        if isinstance(x, numbers.Real) and isinstance(y, numbers.Real):
            self._pt = (x, y)
        else:
            raise TypeError('Point co-ordinates must be real numbers.')
            
    def __repr__(self):
        return f'Point(x={self._pt[0]}, y={self._pt[1]})'
    
    def __len__(self):
        return 2
    
    def __getitem__(self, s):
        return self._pt[s]
12/4: p1=Point(2,1)
12/5:
import numbers
class Point:
    def __init__(self, x, y):
        if isinstance(x, numbers.Real) and isinstance(y, numbers.Real):
            self._pt = (x, y)
        else:
            raise TypeError('Point co-ordinates must be real numbers.')
            
    def __repr__(self):
        return f'Point(x={self._pt[0]}, y={self._pt[1]})'
    
    def __len__(self):
        return 2
    
    def __getitem__(self, s):
        return self._pt[s]
12/6: p1=Point(2,1)
12/7: p1
12/8: p1[1]
12/9:
import numbers
class Point:
    def __init__(self, x, y):
        if isinstance(x, numbers.Real) and isinstance(y, numbers.Real):
            self._pt = (x, y)
        else:
            raise TypeError('Point co-ordinates must be real numbers.')
            
    def __repr__(self):
        return f'Point(x={self._pt[0]}, y={self._pt[1]})'
    
    def __len__(self):
        return 2
    
    def __getitem__(self, s):
        #return self._pt[s]
        return 56
12/10: p1=Point(2,1)
12/11: p1
12/12: p1[1]
12/13:
import numbers
class Point:
    def __init__(self, x, y):
        if isinstance(x, numbers.Real) and isinstance(y, numbers.Real):
            self._pt = (x, y)
        else:
            raise TypeError('Point co-ordinates must be real numbers.')
            
    def __repr__(self):
        return f'Point(x={self._pt[0]}, y={self._pt[1]})'
    
    def __len__(self):
        return 2
    
    def __getitem__(self, s):
        return self._pt[s]
12/14: p1=Point(2,1)
12/15: p1
12/16: p1[1]
12/17: p1[1];p1[2]
12/18: p1[0];p1[1]
12/19: p1[1]
12/20: p1[0]
12/21: p1[1]
12/22: p1=Point(2,'a')
12/23:
import numbers
class Point:
    def __init__(self, x, y):
        if isinstance(x, numbers.Real) and isinstance(y, numbers.Real):
            self._pt = (x, y)
        else:
            raise TypeError('Point co-ordinates must be real numbers.')
            
    def __repr__(self):
        return f'Point(x={self._pt[0]}, y={self._pt[1]})'
    
    def __len__(self):
        return 2
    
    def __getitem__(self, s):
        return self._pt[s]
12/24: *p1
12/25: [*p1]
12/26: range([*p1])
12/27:
import numbers
class Point:
    def __init__(self, x, y):
        if isinstance(x, numbers.Real) and isinstance(y, numbers.Real):
            self._pt = (x, y)
        else:
            raise TypeError('Point co-ordinates must be real numbers.')
            
    def __repr__(self):
        return f'Point(x={self._pt[0]}, y={self._pt[1]})'
    
    def __len__(self):
        return 2
    
    def __getitem__(self, s):
        return 5#self._pt[s]
12/28: p1=Point(2,'a')
12/29: p1
12/30: p1[0]
12/31: p1[1]
12/32: [*p1]
12/33: [*p1]
12/34:
import numbers
class Point:
    def __init__(self, x, y):
        if isinstance(x, numbers.Real) and isinstance(y, numbers.Real):
            self._pt = (x, y)
        else:
            raise TypeError('Point co-ordinates must be real numbers.')
            
    def __repr__(self):
        return f'Point(x={self._pt[0]}, y={self._pt[1]})'
    
    def __len__(self):
        return 2
    
    def __getitem__(self, s):
        return 5#self._pt[s]
12/35: p1=Point(2,'a')
12/36: p1
12/37: p1[0]
12/38: p1[1]
12/39: [*p1]
12/40:
import numbers
class Point:
    def __init__(self, x, y):
        if isinstance(x, numbers.Real) and isinstance(y, numbers.Real):
            self._pt = (x, y)
        else:
            raise TypeError('Point co-ordinates must be real numbers.')
            
    def __repr__(self):
        return f'Point(x={self._pt[0]}, y={self._pt[1]})'
    
    def __len__(self):
        return 2
    
    def __getitem__(self, s):
        return self._pt[s]
12/41: p1=Point(2,'a')
12/42: p1
12/43: p1[0]
12/44: p1[1]
12/45: [*p1]
12/46: x=(1,2,3)
12/47: *x
12/48: [*x]
12/49:
import numbers
class Point:
    def __init__(self, x, y):
        if isinstance(x, numbers.Real) and isinstance(y, numbers.Real):
            self._pt = (x*x, y*y)
        else:
            raise TypeError('Point co-ordinates must be real numbers.')
            
    def __repr__(self):
        return f'Point(x={self._pt[0]}, y={self._pt[1]})'
    
    def __len__(self):
        return 2
    
    def __getitem__(self, s):
        return self._pt[s]
12/50: p1=Point(2,'a')
12/51:
import numbers
class Point:
    def __init__(self, x, y):
        if isinstance(x, numbers.Real) and isinstance(y, numbers.Real):
            self._pt = (2*x, 2*y)
        else:
            raise TypeError('Point co-ordinates must be real numbers.')
            
    def __repr__(self):
        return f'Point(x={self._pt[0]}, y={self._pt[1]})'
    
    def __len__(self):
        return 2
    
    def __getitem__(self, s):
        return self._pt[s]
12/52: p1=Point(2,'a')
12/53: p1=Point(2,1)
12/54: p1
12/55: p1[0]
12/56: p1[1]
12/57: [*p1]
12/58:
import numbers
class Point:
    def __init__(self, x, y):
        if isinstance(x, numbers.Real) and isinstance(y, numbers.Real):
            self._pt = (x, y)
        else:
            raise TypeError('Point co-ordinates must be real numbers.')
            
    def __repr__(self):
        return f'Point(x={self._pt[0]}, y={self._pt[1]})'
    
    def __len__(self):
        return 2
    
    def __getitem__(self, s):
        return self._pt[s]
p1=Point(2,1)       
[*p1]
12/59:
import numbers
class Point:
    def __init__(self, x, y):
        if isinstance(x, numbers.Real) and isinstance(y, numbers.Real):
            self._pt = (x, y)
        else:
            raise TypeError('Point co-ordinates must be real numbers.')
            
    def __len__(self):
        return 2
    
p1=Point(2,1)       
[*p1]
12/60:
import numbers
class Point:
    def __init__(self, x, y):
        if isinstance(x, numbers.Real) and isinstance(y, numbers.Real):
            self._pt = (x, y)
        else:
            raise TypeError('Point co-ordinates must be real numbers.')
            
    def __len__(self):
        return 2
    
p1=Point(2,1)
12/61: [*p1]
12/62:
import numbers
class Point:
    def __init__(self, x, y):
        if isinstance(x, numbers.Real) and isinstance(y, numbers.Real):
            self._pt = (x, y)
        else:
            raise TypeError('Point co-ordinates must be real numbers.')
    def __repr__(self):
        return f'Point(x={self._pt[0]}, y={self._pt[1]})'
    
    def __len__(self):
        return 2
    
p1=Point(2,1)
12/63: [*p1]
12/64:
import numbers
class Point:
    def __init__(self, x, y):
        if isinstance(x, numbers.Real) and isinstance(y, numbers.Real):
            self._pt = (x, y)
        else:
            raise TypeError('Point co-ordinates must be real numbers.')
    def __repr__(self):
        return f'Point(x={self._pt[0]}, y={self._pt[1]})'
    
    def __len__(self):
        return 2
    def __getitem__(self, s):
        return self._pt[s]
    
p1=Point(2,1)
12/65: [*p1]
12/66: (*p)
12/67: (*p,)
12/68: (*p1)
12/69: ([*p1])
12/70: [*p1]
12/71: (1,2)
12/72: (*p1)
12/73: tuple(*p1)
12/74: tuple(p1)
12/75:
import numbers
class Point:
    def __init__(self, x, y):
        if isinstance(x, numbers.Real) and isinstance(y, numbers.Real):
            self._pt = (x, y)
        else:
            raise TypeError('Point co-ordinates must be real numbers.')
    def __repr__(self):
        return f'Point(x={self._pt[0]}, y={self._pt[1]})'
    
    def __len__(self):
        return 3
    def __getitem__(self, s):
        return self._pt[s]
    
p1=Point(2,1)
12/76: [*p1]
12/77: [*p1]
12/78: (1,2)
12/79: tuple(p1)
12/80:
import numbers
class Point:
    def __init__(self, x, y):
        if isinstance(x, numbers.Real) and isinstance(y, numbers.Real):
            self._pt = (x, y)
        else:
            raise TypeError('Point co-ordinates must be real numbers.')
    def __repr__(self):
        return f'Point(x={self._pt[0]}, y={self._pt[1]})'
    
    def __len__(self):
        return 2
    def __getitem__(self, s):
        return self._pt[s]
    
p1=Point(2,1)
12/81:
import numbers
class Point:
    def __init__(self, x, y):
        if isinstance(x, numbers.Real) and isinstance(y, numbers.Real):
            self._pt = (x, y)
        else:
            raise TypeError('Point co-ordinates must be real numbers.')
    def __repr__(self):
        return f'Point(x={self._pt[0]}, y={self._pt[1]})'
    
    def __len__(self):
        return 1
    def __getitem__(self, s):
        return self._pt[s]
    
p1=Point(2,1)
12/82: [*p1]
12/83: [*p1]
12/84: (1,2)
12/85: tuple(p1)
12/86:
import numbers
class Point:
    def __init__(self, x, y):
        if isinstance(x, numbers.Real) and isinstance(y, numbers.Real):
            self._pt = (x, y)
        else:
            raise TypeError('Point co-ordinates must be real numbers.')
    def __repr__(self):
        return f'Point(x={self._pt[0]}, y={self._pt[1]})'
    
    def __len__(self):
        return 1
    def __getitem__(self, s):
        return self._pt[0]
    
p1=Point(2,1)
12/87: [*p1]
13/1: x=(1,2,3,7)
13/2: *x
13/3: [*x]
13/4: type([*x])
13/5: tuple(x)
13/6: x
13/7: [*x]
13/8: [i for i in x]
13/9: [i for i in x]==[*]
13/10: [i for i in x]==[*x]
14/1:
class Polygon:
    def __init__(self, *pts):
        if pts:
            self._pts = [Point(*pt) for pt in pts]
        else:
            self._pts = []
            
    def __repr__(self):
        pts_str = ', '.join([str(pt) for pt in self._pts])
        return f'Polygon({pts_str})'
    
    def __len__(self):
        return len(self._pts)
    
    def __getitem__(self, s):
        return self._pts[s]
    
    def __setitem__(self, s, value):
        # we first should see if we have a single Point
        # or an iterable of Points in value
        try:
            rhs = [Point(*pt) for pt in value]
            is_single = False
        except TypeError:
            # not a valid iterable of Points
            # maybe a single Point?
            try:
                rhs = Point(*value)
                is_single = True
            except TypeError:
                # still no go
                raise TypeError('Invalid Point or iterable of Points')
        
        # reached here, so rhs is either an iterable of Points, or a Point
        # we want to make sure we are assigning to a slice only if we 
        # have an iterable of points, and assigning to an index if we 
        # have a single Point only
        if (isinstance(s, int) and is_single) \
            or isinstance(s, slice) and not is_single:
            self._pts[s] = rhs
        else:
            raise TypeError('Incompatible index/slice assignment')
                
    def __add__(self, pt):
        if isinstance(pt, Polygon):
            new_pts = self._pts + pt._pts
            return Polygon(*new_pts)
        else:
            raise TypeError('can only concatenate with another Polygon')

    def append(self, pt):
        self._pts.append(Point(*pt))
        
    def extend(self, pts):
        if isinstance(pts, Polygon):
            self._pts = self._pts + pts._pts
        else:
            # assume we are being passed an iterable containing Points
            # or something compatible with Points
            points = [Point(*pt) for pt in pts]
            self._pts = self._pts + points
    
    def __iadd__(self, pts):
        self.extend(pts)
        return self
    
    def insert(self, i, pt):
        self._pts.insert(i, Point(*pt))
        
    def __delitem__(self, s):
        del self._pts[s]
        
    def pop(self, i):
        return self._pts.pop(i)
14/2:
import numbers
class Point:
    def __init__(self, x, y):
        if isinstance(x, numbers.Real) and isinstance(y, numbers.Real):
            self._pt = (x, y)
        else:
            raise TypeError('Point co-ordinates must be real numbers.')
            
    def __repr__(self):
        return f'Point(x={self._pt[0]}, y={self._pt[1]})'
    
    def __len__(self):
        return 2
    
    def __getitem__(self, s):
        return self._pt[s]
p1=Point(2,1)       
[*p1]
14/3:
p1=Point(2,1)       
[*p1]
14/4: 2 in p1
14/5: p1.__contains__(1)
14/6:
import numbers
class Point:
    def __init__(self, x, y):
        if isinstance(x, numbers.Real) and isinstance(y, numbers.Real):
            self._pt = (x, y)
        else:
            raise TypeError('Point co-ordinates must be real numbers.')
            
    def __repr__(self):
        return f'Point(x={self._pt[0]}, y={self._pt[1]})'
    
    def __len__(self):
        return 2
    
    def __getitem__(self, s):
        return self._pt[s]
    
    def __getitem__(self, value):
        return value in self._pt
14/7:
p1=Point(2,1)       
[*p1]
14/8:
class Polygon:
    def __init__(self, *pts):
        if pts:
            self._pts = [Point(*pt) for pt in pts]
        else:
            self._pts = []
            
    def __repr__(self):
        pts_str = ', '.join([str(pt) for pt in self._pts])
        return f'Polygon({pts_str})'
    
    def __len__(self):
        return len(self._pts)
    
    def __getitem__(self, s):
        return self._pts[s]
    
    def __setitem__(self, s, value):
        # we first should see if we have a single Point
        # or an iterable of Points in value
        try:
            rhs = [Point(*pt) for pt in value]
            is_single = False
        except TypeError:
            # not a valid iterable of Points
            # maybe a single Point?
            try:
                rhs = Point(*value)
                is_single = True
            except TypeError:
                # still no go
                raise TypeError('Invalid Point or iterable of Points')
        
        # reached here, so rhs is either an iterable of Points, or a Point
        # we want to make sure we are assigning to a slice only if we 
        # have an iterable of points, and assigning to an index if we 
        # have a single Point only
        if (isinstance(s, int) and is_single) \
            or isinstance(s, slice) and not is_single:
            self._pts[s] = rhs
        else:
            raise TypeError('Incompatible index/slice assignment')
                
    def __add__(self, pt):
        if isinstance(pt, Polygon):
            new_pts = self._pts + pt._pts
            return Polygon(*new_pts)
        else:
            raise TypeError('can only concatenate with another Polygon')

    def append(self, pt):
        self._pts.append(Point(*pt))
        
    def extend(self, pts):
        if isinstance(pts, Polygon):
            self._pts = self._pts + pts._pts
        else:
            # assume we are being passed an iterable containing Points
            # or something compatible with Points
            points = [Point(*pt) for pt in pts]
            self._pts = self._pts + points
    
    def __iadd__(self, pts):
        self.extend(pts)
        return self
    
    def insert(self, i, pt):
        self._pts.insert(i, Point(*pt))
        
    def __delitem__(self, s):
        del self._pts[s]
        
    def pop(self, i):
        return self._pts.pop(i)
14/9:
import numbers
class Point:
    def __init__(self, x, y):
        if isinstance(x, numbers.Real) and isinstance(y, numbers.Real):
            self._pt = (x, y)
        else:
            raise TypeError('Point co-ordinates must be real numbers.')
            
    def __repr__(self):
        return f'Point(x={self._pt[0]}, y={self._pt[1]})'
    
    def __len__(self):
        return 2
    
    def __getitem__(self, s):
        return self._pt[s]
    
    def __contains__(self, value):
        return (value in self._pt)
14/10: p1=Point(2,1)
14/11: 2 in p1
14/12: p1.__contains__([1])
14/13: p1.__contains__(1)
14/14:
import numbers
class Point:
    def __init__(self, x, y):
        if isinstance(x, numbers.Real) and isinstance(y, numbers.Real):
            self._pt = (x, y)
        else:
            raise TypeError('Point co-ordinates must be real numbers.')
            
    def __repr__(self):
        return f'Point(x={self._pt[0]}, y={self._pt[1]})'
    
    def __len__(self):
        return 2
    
    def __getitem__(self, s):
        return self._pt[s]
    
    def __contains__(self, *value):
        return (value in self._pt)
14/15: p1=Point(2,1)
14/16: 2 in p1
14/17: p1.__contains__(1)
14/18:
import numbers
class Point:
    def __init__(self, x, y):
        if isinstance(x, numbers.Real) and isinstance(y, numbers.Real):
            self._pt = (x, y)
        else:
            raise TypeError('Point co-ordinates must be real numbers.')
            
    def __repr__(self):
        return f'Point(x={self._pt[0]}, y={self._pt[1]})'
    
    def __len__(self):
        return 2
    
    def __getitem__(self, s):
        return self._pt[s]
    
    def __contains__(self, value):
        return (value in self._pt)
14/19: p1=Point(2,1)
14/20: 2 in p1
14/21: p1.__contains__(1)
14/22: p1[1]
14/23: [*p1]
14/24: [*p1]
14/25:
class Polygon:
    def __init__(self, *pts):
        if pts:
            self._pts = [Point(*pt) for pt in pts]
        else:
            self._pts = []
            
    def __repr__(self):
        #pts_str = ', '.join([str(pt) for pt in self._pts])
        #return f'Polygon({pts_str})'
        return "Polygon({})".format(self_pts)
    
    def __len__(self):
        return len(self._pts)
    
    def __getitem__(self, s):
        return self._pts[s]
14/26: pl=Polygon(1,2)
14/27:
import numbers
class Point:
    def __init__(self, x, y):
        if isinstance(x, numbers.Real) and isinstance(y, numbers.Real):
            self._pt = (x, y)
        else:
            raise TypeError('Point co-ordinates must be real numbers.')
    def __repr__(self):
        return f'Point(x={self._pt[0]}, y={self._pt[1]})'
    
    def __len__(self):
        return 2
    
    def __getitem__(self, s):
        return self._pt[s]
    
p2=Point(2,1)
14/28:
class Polygon:
    def __init__(self, *pts):
        if pts:
            self._pts = [Point(*pt) for pt in pts]
        else:
            self._pts = []
            
    def __repr__(self):
        #pts_str = ', '.join([str(pt) for pt in self._pts])
        #return f'Polygon({pts_str})'
        return "Polygon({})".format(self_pts)
    
    def __len__(self):
        return len(self._pts)
    
    def __getitem__(self, s):
        return self._pts[s]
14/29: pl=Polygon(1,2)
14/30:
import numbers
class Point:
    def __init__(self, x, y):
        if isinstance(x, numbers.Real) and isinstance(y, numbers.Real):
            self._pt = (x, y)
        else:
            raise TypeError('Point co-ordinates must be real numbers.')
    def __repr__(self):
        return f'Point(x={self._pt[0]}, y={self._pt[1]})'
    
    def __len__(self):
        return 2
    
    def __getitem__(self, s):
        return self._pt[s]
14/31: p2
14/32: [*p1]
14/33: [*p1]
14/34:
import numbers
class Point:
    def __init__(self, x, y):
        if isinstance(x, numbers.Real) and isinstance(y, numbers.Real):
            self._pt = (x, y)
        else:
            raise TypeError('Point co-ordinates must be real numbers.')
    def __repr__(self):
        return f'Point(x={self._pt[0]}, y={self._pt[1]})'
    
    def __len__(self):
        return 2
    
    def __getitem__(self, s):
        return self._pt[s]
14/35:
class Polygon:
    def __init__(self, *pts):
        if pts:
            self._pts = [Point(*pt) for pt in pts]
        else:
            self._pts = []
            
    def __repr__(self):
        #pts_str = ', '.join([str(pt) for pt in self._pts])
        #return f'Polygon({pts_str})'
        return "Polygon({})".format(self_pts)
    
    def __len__(self):
        return len(self._pts)
    
    def __getitem__(self, s):
        return self._pts[s]
14/36: pl=Polygon(1,2)
14/37: pl = Polygon(1,2)
14/38: Polygon(1,2)
14/39: Polygon([1,2])
14/40: Polygon((1,2)
14/41: Polygon((1,2))
14/42:
class Polygon:
    def __init__(self, *pts):
        if pts:
            self._pts = [Point(*pt) for pt in pts]
        else:
            self._pts = []
            
    def __repr__(self):
        #pts_str = ', '.join([str(pt) for pt in self._pts])
        #return f'Polygon({pts_str})'
        return f'Polygon({self_pts})'#"Polygon({})".format(self_pts)
    
    def __len__(self):
        return len(self._pts)
    
    def __getitem__(self, s):
        return self._pts[s]
14/43: Polygon((1,2))
14/44:
class Polygon:
    def __init__(self, *pts):
        if pts:
            self._pts = [Point(*pt) for pt in pts]
        else:
            self._pts = []
            
    def __repr__(self):
        #pts_str = ', '.join([str(pt) for pt in self._pts])
        #return f'Polygon({pts_str})'
        print(self_pts)
        return f'Polygon({self_pts})'#"Polygon({})".format(self_pts)
    
    def __len__(self):
        return len(self._pts)
    
    def __getitem__(self, s):
        return self._pts[s]
14/45: Polygon((1,2))
14/46:
class Polygon:
    def __init__(self, *pts):
        if pts:
            self._pts = [Point(*pt) for pt in pts]
        else:
            self._pts = []
            
    def __repr__(self):
        #pts_str = ', '.join([str(pt) for pt in self._pts])
        #return f'Polygon({pts_str})'
        print(self_pts)
        #return f'Polygon({self_pts})'#"Polygon({})".format(self_pts)
    
    def __len__(self):
        return len(self._pts)
    
    def __getitem__(self, s):
        return self._pts[s]
14/47: Polygon((1,2))
14/48: Polygon(1,2)
14/49: Polygon([1,2])
14/50:
import numbers
class Point:
    def __init__(self, x, y):
        if isinstance(x, numbers.Real) and isinstance(y, numbers.Real):
            self._pt = (x, y)
        else:
            raise TypeError('Point co-ordinates must be real numbers.')
    def __repr__(self):
        return f'Point(x={self._pt[0]}, y={self._pt[1]})'
    
    def __len__(self):
        return 2
    
    def __getitem__(self, s):
        return self._pt[s]
14/51:
class Polygon:
    def __init__(self, *pts):
        if pts:
            self._pts = [Point(*pt) for pt in pts]
        else:
            self._pts = []
            
    def __repr__(self):
        #pts_str = ', '.join([str(pt) for pt in self._pts])
        #return f'Polygon({pts_str})'
        print(self_pts)
        #return f'Polygon({self_pts})'#"Polygon({})".format(self_pts)
    
    def __len__(self):
        return len(self._pts)
    
    def __getitem__(self, s):
        return self._pts[s]
14/52: Polygon([1,2])
14/53: Polygon(Point(1,2))
14/54:
class Polygon:
    def __init__(self, *pts):
        if pts:
            self._pts = [Point(*pt) for pt in pts]
        else:
            self._pts = []
            
    def __repr__(self):
        #pts_str = ', '.join([str(pt) for pt in self._pts])
        #return f'Polygon({pts_str})'
        print(self._pts)
        #return f'Polygon({self_pts})'#"Polygon({})".format(self_pts)
    
    def __len__(self):
        return len(self._pts)
    
    def __getitem__(self, s):
        return self._pts[s]
14/55: Polygon(Point(1,2))
14/56:
class Polygon:
    def __init__(self, *pts):
        if pts:
            self._pts = [Point(*pt) for pt in pts]
        else:
            self._pts = []
            
    def __repr__(self):
        #pts_str = ', '.join([str(pt) for pt in self._pts])
        #return f'Polygon({pts_str})'
        print(self._pts)
        #return f'Polygon({self_pts})'#"Polygon({})".format(self_pts)
    
    def __len__(self):
        return len(self._pts)
    
    def __getitem__(self, s):
        return self._pts[s]
14/57: Polygon(Point(1,2))
14/58: Polygon(1,2)
14/59:
class Polygon:
    def __init__(self, *pts):
        if pts:
            self._pts = [Point(*pt) for pt in pts]
        else:
            self._pts = []
            
    def __repr__(self):
        #pts_str = ', '.join([str(pt) for pt in self._pts])
        #return f'Polygon({pts_str})'
        print(self._pts)
        return f'Polygon({self._pts})'#"Polygon({})".format(self_pts)
    
    def __len__(self):
        return len(self._pts)
    
    def __getitem__(self, s):
        return self._pts[s]
14/60: Polygon(1,2)
14/61: Polygon((1,2))
14/62: p3=Polygon((1,2))
14/63: p3
14/64: Polygon((1,2),(2,3))
14/65: p3=Polygon((1,2))
14/66: p3=Polygon((1,2),(2,3))
14/67: p3
14/68: p3=Polygon((1,2),(2,3),Point(1,2))
14/69: p3
14/70:
class Polygon:
    def __init__(self, *pts):
        if pts:
            self._pts = [Point(*pt) for pt in pts]
        else:
            self._pts = []
            
    def __repr__(self):
        #pts_str = ', '.join([str(pt) for pt in self._pts])
        #return f'Polygon({pts_str})'
        print(self._pts)
        return f'Polygon({self._pts})'#"Polygon({})".format(self_pts)
14/71: Polygon((1,2),(2,3))
14/72: p3=Polygon((1,2),(2,3),Point(1,2))
14/73: p3
14/74: p3=Polygon((1,2),(2.5,3.5),Point(10,20))
14/75: p3
14/76:
class Polygon:
    def __init__(self, *pts):
        if pts:
            self._pts = [Point(*pt) for pt in pts]
        else:
            self._pts = []
            
    def __repr__(self):
        #pts_str = ', '.join([str(pt) for pt in self._pts])
        #return f'Polygon({pts_str})'
        #print(self._pts)
        return f'Polygon({self._pts})'#"Polygon({})".format(self_pts)
14/77: Polygon((1,2),(2,3))
14/78: p3=Polygon((1,2),(2.5,3.5),Point(10,20))
14/79: Polygon((1,'a'),(2,3))
14/80: Polygon((1,2),(2,3))
14/81: p3=Polygon((1,2),(2.5,3.5),Point(10,20))
14/82: p3
14/83: p3=Polygon(Point(1,2),(2.5,3.5),Point(10,20))
14/84: p3
14/85: p3=Polygon(Point(0.1,2),(2.5,3.5),Point(10,20))
14/86: p3
14/87: p3=Polygon(Point(0.1,2),Point(10,20))
14/88: p3
14/89:
class Polygon:
    def __init__(self, *pts):
        if pts:
            self._pts = [Point(*pt) for pt in pts]
        else:
            self._pts = []
            
    def __repr__(self):
        pts_str = ', '.join([str(pt) for pt in self._pts])
        return f'Polygon({pts_str})'
    
    def __len__(self):
        return len(self._pts)
    
    def __getitem__(self, s):
        return self._pts[s]
    
    def __setitem__(self, s, value):
        # we first should see if we have a single Point
        # or an iterable of Points in value
        try:
            rhs = [Point(*pt) for pt in value]
            is_single = False
        except TypeError:
            # not a valid iterable of Points
            # maybe a single Point?
            try:
                rhs = Point(*value)
                is_single = True
            except TypeError:
                # still no go
                raise TypeError('Invalid Point or iterable of Points')
        
        # reached here, so rhs is either an iterable of Points, or a Point
        # we want to make sure we are assigning to a slice only if we 
        # have an iterable of points, and assigning to an index if we 
        # have a single Point only
        if (isinstance(s, int) and is_single) \
            or isinstance(s, slice) and not is_single:
            self._pts[s] = rhs
        else:
            raise TypeError('Incompatible index/slice assignment')
                
    def __add__(self, pt):
        if isinstance(pt, Polygon):
            new_pts = self._pts + pt._pts
            return Polygon(*new_pts)
        else:
            raise TypeError('can only concatenate with another Polygon')

    def append(self, pt):
        self._pts.append(Point(*pt))
        
    def extend(self, pts):
        if isinstance(pts, Polygon):
            self._pts = self._pts + pts._pts
        else:
            # assume we are being passed an iterable containing Points
            # or something compatible with Points
            points = [Point(*pt) for pt in pts]
            self._pts = self._pts + points
    
    def __iadd__(self, pts):
        self.extend(pts)
        return self
    
    def insert(self, i, pt):
        self._pts.insert(i, Point(*pt))
        
    def __delitem__(self, s):
        del self._pts[s]
        
    def pop(self, i):
        return self._pts.pop(i)
14/90:
import numbers
class Point:
    def __init__(self, x, y):
        if isinstance(x, numbers.Real) and isinstance(y, numbers.Real):
            self._pt = (x, y)
        else:
            raise TypeError('Point co-ordinates must be real numbers.')
            
    def __repr__(self):
        return f'Point(x={self._pt[0]}, y={self._pt[1]})'
    
    def __len__(self):
        return 2
    
    def __getitem__(self, s):
        return self._pt[s]
    
    def __contains__(self, value):
        return (value in self._pt)
14/91: pl1=Polygon((1,2),(2,4))
14/92: 2 in p1
14/93: p1
14/94: pl1
14/95:
pl1=Polygon((1,2),Point(2,4)) 
pl1
14/96: pl1
14/97: extend(pl1,pl1)
14/98: pl1.extend(pl1)
14/99: pl1
14/100: pl1=Polygon((1,2),(2,4))
14/101: 2 in p1
14/102: pl1
14/103: pl1.extend((1,0))
14/104: pl1.extend(Point(1,0))
14/105: pl1.extend(Polygon(Point(1,0)))
14/106: pl1
14/107: pl1.extend(Point(1,0))
14/108: pl1._pts
14/109: [Point(pt) for pt in [(1,2)]]
14/110: [Point(*pt) for pt in [(1,2)]]
14/111: [Point(*pt) for pt in [(1,2),(9,2)]]
14/112: pl1._pts+[Point(*pt) for pt in [(1,2),(9,2)]]
14/113:
import numbers
class Point:
    def __init__(self, x, y):
        if isinstance(x, numbers.Real) and isinstance(y, numbers.Real):
            self._pt = (x, y)
        else:
            raise TypeError('Point co-ordinates must be real numbers.')
            
    def __repr__(self):
        return f'Point(x={self._pt[0]}, y={self._pt[1]})'
    
    def __len__(self):
        return 2
    
    def __getitem__(self, s):
        return self._pt[s]
    
    def __contains__(self, value):
        return (value in self._pt)
14/114: pl1=Polygon((1,2),(2,4))
14/115: 2 in p1
14/116: pl1
14/117: pl1.extend(pl1)
14/118: pl1
14/119: pl1.extend(Point(1,0))
14/120:
class Polygon:
    def __init__(self, *pts):
        if pts:
            self._pts = [Point(*pt) for pt in pts]
        else:
            self._pts = []
            
    def __repr__(self):
        pts_str = ', '.join([str(pt) for pt in self._pts])
        return f'Polygon({pts_str})'
    
    def __len__(self):
        return len(self._pts)
    
    def __getitem__(self, s):
        return self._pts[s]
    
    def __setitem__(self, s, value):
        # we first should see if we have a single Point
        # or an iterable of Points in value
        try:
            rhs = [Point(*pt) for pt in value]
            is_single = False
        except TypeError:
            # not a valid iterable of Points
            # maybe a single Point?
            try:
                rhs = Point(*value)
                is_single = True
            except TypeError:
                # still no go
                raise TypeError('Invalid Point or iterable of Points')
        
        # reached here, so rhs is either an iterable of Points, or a Point
        # we want to make sure we are assigning to a slice only if we 
        # have an iterable of points, and assigning to an index if we 
        # have a single Point only
        if (isinstance(s, int) and is_single) \
            or isinstance(s, slice) and not is_single:
            self._pts[s] = rhs
        else:
            raise TypeError('Incompatible index/slice assignment')
                
    def __add__(self, pt):
        if isinstance(pt, Polygon):
            new_pts = self._pts + pt._pts
            return Polygon(*new_pts)
        else:
            new_pts = self._pts + [Point(*pt) for pt in pt._pts]
            return Polygon(*new_pts)
            #raise TypeError('can only concatenate with another Polygon')

    def append(self, pt):
        self._pts.append(Point(*pt))
        
    def extend(self, pts):
        if isinstance(pts, Polygon):
            self._pts = self._pts + pts._pts
        else:
            # assume we are being passed an iterable containing Points
            # or something compatible with Points
            points = [Point(*pt) for pt in pts]
            self._pts = self._pts + points
    
    def __iadd__(self, pts):
        self.extend(pts)
        return self
    
    def insert(self, i, pt):
        self._pts.insert(i, Point(*pt))
        
    def __delitem__(self, s):
        del self._pts[s]
        
    def pop(self, i):
        return self._pts.pop(i)
14/121:
import numbers
class Point:
    def __init__(self, x, y):
        if isinstance(x, numbers.Real) and isinstance(y, numbers.Real):
            self._pt = (x, y)
        else:
            raise TypeError('Point co-ordinates must be real numbers.')
            
    def __repr__(self):
        return f'Point(x={self._pt[0]}, y={self._pt[1]})'
    
    def __len__(self):
        return 2
    
    def __getitem__(self, s):
        return self._pt[s]
    
    def __contains__(self, value):
        return (value in self._pt)
14/122: pl1=Polygon((1,2),(2,4))
14/123: pl1
14/124: pl1.extend(pl1)
14/125: pl1
14/126: pl1.extend(Point(1,0))
14/127:
class Polygon:
    def __init__(self, *pts):
        if pts:
            self._pts = [Point(*pt) for pt in pts]
        else:
            self._pts = []
            
    def __repr__(self):
        pts_str = ', '.join([str(pt) for pt in self._pts])
        return f'Polygon({pts_str})'
    
    def __len__(self):
        return len(self._pts)
    
    def __getitem__(self, s):
        return self._pts[s]
    
    def __setitem__(self, s, value):
        # we first should see if we have a single Point
        # or an iterable of Points in value
        try:
            rhs = [Point(*pt) for pt in value]
            is_single = False
        except TypeError:
            # not a valid iterable of Points
            # maybe a single Point?
            try:
                rhs = Point(*value)
                is_single = True
            except TypeError:
                # still no go
                raise TypeError('Invalid Point or iterable of Points')
        
        # reached here, so rhs is either an iterable of Points, or a Point
        # we want to make sure we are assigning to a slice only if we 
        # have an iterable of points, and assigning to an index if we 
        # have a single Point only
        if (isinstance(s, int) and is_single) \
            or isinstance(s, slice) and not is_single:
            self._pts[s] = rhs
        else:
            raise TypeError('Incompatible index/slice assignment')
                
    def __add__(self, pt):
        if isinstance(pt, Polygon):
            new_pts = self._pts + pt._pts
            return Polygon(*new_pts)
        else:
            new_pts = self._pts + [Point(*pt) for pt in pt._pt]
            return Polygon(*new_pts)
            #raise TypeError('can only concatenate with another Polygon')

    def append(self, pt):
        self._pts.append(Point(*pt))
        
    def extend(self, pts):
        if isinstance(pts, Polygon):
            self._pts = self._pts + pts._pts
        else:
            # assume we are being passed an iterable containing Points
            # or something compatible with Points
            points = [Point(*pt) for pt in pts]
            self._pts = self._pts + points
    
    def __iadd__(self, pts):
        self.extend(pts)
        return self
    
    def insert(self, i, pt):
        self._pts.insert(i, Point(*pt))
        
    def __delitem__(self, s):
        del self._pts[s]
        
    def pop(self, i):
        return self._pts.pop(i)
14/128:
import numbers
class Point:
    def __init__(self, x, y):
        if isinstance(x, numbers.Real) and isinstance(y, numbers.Real):
            self._pt = (x, y)
        else:
            raise TypeError('Point co-ordinates must be real numbers.')
            
    def __repr__(self):
        return f'Point(x={self._pt[0]}, y={self._pt[1]})'
    
    def __len__(self):
        return 2
    
    def __getitem__(self, s):
        return self._pt[s]
    
    def __contains__(self, value):
        return (value in self._pt)
14/129: pl1=Polygon((1,2),(2,4))
14/130: pl1
14/131: pl1.extend(pl1)
14/132: pl1
14/133: pl1.extend(Point(1,0))
14/134:
class Polygon:
    def __init__(self, *pts):
        if pts:
            self._pts = [Point(*pt) for pt in pts]
        else:
            self._pts = []
            
    def __repr__(self):
        pts_str = ', '.join([str(pt) for pt in self._pts])
        return f'Polygon({pts_str})'
    
    def __len__(self):
        return len(self._pts)
    
    def __getitem__(self, s):
        return self._pts[s]
    
    def __setitem__(self, s, value):
        # we first should see if we have a single Point
        # or an iterable of Points in value
        try:
            rhs = [Point(*pt) for pt in value]
            is_single = False
        except TypeError:
            # not a valid iterable of Points
            # maybe a single Point?
            try:
                rhs = Point(*value)
                is_single = True
            except TypeError:
                # still no go
                raise TypeError('Invalid Point or iterable of Points')
        
        # reached here, so rhs is either an iterable of Points, or a Point
        # we want to make sure we are assigning to a slice only if we 
        # have an iterable of points, and assigning to an index if we 
        # have a single Point only
        if (isinstance(s, int) and is_single) \
            or isinstance(s, slice) and not is_single:
            self._pts[s] = rhs
        else:
            raise TypeError('Incompatible index/slice assignment')
                
    def __add__(self, pt):
        if isinstance(pt, Polygon):
            new_pts = self._pts + pt._pts
            return Polygon(*new_pts)
        else:
            new_pts = self._pts + [Point(*pt) for pt in pt._pt]
            return Polygon(*new_pts)
            #raise TypeError('can only concatenate with another Polygon')

    def append(self, pt):
        self._pts.append(Point(*pt))
        
    def extend(self, pts):
        if isinstance(pts, Polygon):
            self._pts = self._pts + pts._pts
        else:
            # assume we are being passed an iterable containing Points
            # or something compatible with Points
            print("pts{pts}".format(pts))
            #print("pts{pts}".format(pts))
            points = [Point(*pt) for pt in pts]
            self._pts = self._pts + points
    
    def __iadd__(self, pts):
        self.extend(pts)
        return self
    
    def insert(self, i, pt):
        self._pts.insert(i, Point(*pt))
        
    def __delitem__(self, s):
        del self._pts[s]
        
    def pop(self, i):
        return self._pts.pop(i)
14/135:
import numbers
class Point:
    def __init__(self, x, y):
        if isinstance(x, numbers.Real) and isinstance(y, numbers.Real):
            self._pt = (x, y)
        else:
            raise TypeError('Point co-ordinates must be real numbers.')
            
    def __repr__(self):
        return f'Point(x={self._pt[0]}, y={self._pt[1]})'
    
    def __len__(self):
        return 2
    
    def __getitem__(self, s):
        return self._pt[s]
    
    def __contains__(self, value):
        return (value in self._pt)
14/136: pl1=Polygon((1,2),(2,4))
14/137: pl1
14/138: pl1.extend(pl1)
14/139: pl1
14/140: pl1.extend(Point(1,0))
14/141:
class Polygon:
    def __init__(self, *pts):
        if pts:
            self._pts = [Point(*pt) for pt in pts]
        else:
            self._pts = []
            
    def __repr__(self):
        pts_str = ', '.join([str(pt) for pt in self._pts])
        return f'Polygon({pts_str})'
    
    def __len__(self):
        return len(self._pts)
    
    def __getitem__(self, s):
        return self._pts[s]
    
    def __setitem__(self, s, value):
        # we first should see if we have a single Point
        # or an iterable of Points in value
        try:
            rhs = [Point(*pt) for pt in value]
            is_single = False
        except TypeError:
            # not a valid iterable of Points
            # maybe a single Point?
            try:
                rhs = Point(*value)
                is_single = True
            except TypeError:
                # still no go
                raise TypeError('Invalid Point or iterable of Points')
        
        # reached here, so rhs is either an iterable of Points, or a Point
        # we want to make sure we are assigning to a slice only if we 
        # have an iterable of points, and assigning to an index if we 
        # have a single Point only
        if (isinstance(s, int) and is_single) \
            or isinstance(s, slice) and not is_single:
            self._pts[s] = rhs
        else:
            raise TypeError('Incompatible index/slice assignment')
                
    def __add__(self, pt):
        if isinstance(pt, Polygon):
            new_pts = self._pts + pt._pts
            return Polygon(*new_pts)
        else:
            new_pts = self._pts + [Point(*pt) for pt in pt]
            return Polygon(*new_pts)
            #raise TypeError('can only concatenate with another Polygon')

    def append(self, pt):
        self._pts.append(Point(*pt))
        
    def extend(self, pts):
        if isinstance(pts, Polygon):
            self._pts = self._pts + pts._pts
        else:
            # assume we are being passed an iterable containing Points
            # or something compatible with Points
            print("pts{pts}".format(pts))
            #print("pts{pts}".format(pts))
            points = [Point(*pt) for pt in pts]
            self._pts = self._pts + points
    
    def __iadd__(self, pts):
        self.extend(pts)
        return self
    
    def insert(self, i, pt):
        self._pts.insert(i, Point(*pt))
        
    def __delitem__(self, s):
        del self._pts[s]
        
    def pop(self, i):
        return self._pts.pop(i)
14/142:
import numbers
class Point:
    def __init__(self, x, y):
        if isinstance(x, numbers.Real) and isinstance(y, numbers.Real):
            self._pt = (x, y)
        else:
            raise TypeError('Point co-ordinates must be real numbers.')
            
    def __repr__(self):
        return f'Point(x={self._pt[0]}, y={self._pt[1]})'
    
    def __len__(self):
        return 2
    
    def __getitem__(self, s):
        return self._pt[s]
    
    def __contains__(self, value):
        return (value in self._pt)
14/143: pl1=Polygon((1,2),(2,4))
14/144: pl1
14/145: pl1.extend(pl1)
14/146: pl1
14/147: pl1.extend(Point(1,0))
14/148:
class Polygon:
    def __init__(self, *pts):
        if pts:
            self._pts = [Point(*pt) for pt in pts]
        else:
            self._pts = []
            
    def __repr__(self):
        pts_str = ', '.join([str(pt) for pt in self._pts])
        return f'Polygon({pts_str})'
    
    def __len__(self):
        return len(self._pts)
    
    def __getitem__(self, s):
        return self._pts[s]
    
    def __setitem__(self, s, value):
        # we first should see if we have a single Point
        # or an iterable of Points in value
        try:
            rhs = [Point(*pt) for pt in value]
            is_single = False
        except TypeError:
            # not a valid iterable of Points
            # maybe a single Point?
            try:
                rhs = Point(*value)
                is_single = True
            except TypeError:
                # still no go
                raise TypeError('Invalid Point or iterable of Points')
        
        # reached here, so rhs is either an iterable of Points, or a Point
        # we want to make sure we are assigning to a slice only if we 
        # have an iterable of points, and assigning to an index if we 
        # have a single Point only
        if (isinstance(s, int) and is_single) \
            or isinstance(s, slice) and not is_single:
            self._pts[s] = rhs
        else:
            raise TypeError('Incompatible index/slice assignment')
                
    def __add__(self, pt):
        if isinstance(pt, Polygon):
            new_pts = self._pts + pt._pts
            return Polygon(*new_pts)
        else:
            new_pts = self._pts + [Point(*pt) for pt in pt]
            return Polygon(*new_pts)
            #raise TypeError('can only concatenate with another Polygon')
      
    def extend(self, pts):
        if isinstance(pts, Polygon):
            self._pts = self._pts + pts._pts
        else:
            # assume we are being passed an iterable containing Points
            # or something compatible with Points
            print("pts{pts}".format(pts))
            #print("pts{pts}".format(pts))
            points = [Point(*pt) for pt in pts]
            self._pts = self._pts + points
14/149: pl1=Polygon((1,2),(2,4))
14/150: pl1
14/151:
class Polygon:
    def __init__(self, *pts):
        if pts:
            self._pts = [Point(*pt) for pt in pts]
        else:
            self._pts = []
            
    def __repr__(self):
        pts_str = ', '.join([str(pt) for pt in self._pts])
        return f'Polygon({pts_str})'
    
    def __len__(self):
        return len(self._pts)
    
    def __getitem__(self, s):
        return self._pts[s]
    
    def __setitem__(self, s, value):
        # we first should see if we have a single Point
        # or an iterable of Points in value
        try:
            rhs = [Point(*pt) for pt in value]
            is_single = False
        except TypeError:
            # not a valid iterable of Points
            # maybe a single Point?
            try:
                rhs = Point(*value)
                is_single = True
            except TypeError:
                # still no go
                raise TypeError('Invalid Point or iterable of Points')
        
        # reached here, so rhs is either an iterable of Points, or a Point
        # we want to make sure we are assigning to a slice only if we 
        # have an iterable of points, and assigning to an index if we 
        # have a single Point only
        if (isinstance(s, int) and is_single) \
            or isinstance(s, slice) and not is_single:
            self._pts[s] = rhs
        else:
            raise TypeError('Incompatible index/slice assignment')
                
    def __add__(self, pt):
        if isinstance(pt, Polygon):
            new_pts = self._pts + pt._pts
            return Polygon(*new_pts)
        else:
            new_pts = self._pts + [Point(*pt) for pt in pt]
            return Polygon(*new_pts)
            #raise TypeError('can only concatenate with another Polygon')
      
    def extend(self, pts):
        print("pts{pts}".format(pts))
        if isinstance(pts, Polygon):
            self._pts = self._pts + pts._pts
        else:
            # assume we are being passed an iterable containing Points
            # or something compatible with Points
           
            #print("pts{pts}".format(pts))
            points = [Point(*pt) for pt in pts]
            self._pts = self._pts + points
14/152: pl1=Polygon((1,2),(2,4))
14/153: pl1
14/154: pl1.extend(pl1)
14/155:
class Polygon:
    def __init__(self, *pts):
        if pts:
            self._pts = [Point(*pt) for pt in pts]
        else:
            self._pts = []
            
    def __repr__(self):
        pts_str = ', '.join([str(pt) for pt in self._pts])
        return f'Polygon({pts_str})'
    
    def __len__(self):
        return len(self._pts)
    
    def __getitem__(self, s):
        return self._pts[s]
    
    def __setitem__(self, s, value):
        # we first should see if we have a single Point
        # or an iterable of Points in value
        try:
            rhs = [Point(*pt) for pt in value]
            is_single = False
        except TypeError:
            # not a valid iterable of Points
            # maybe a single Point?
            try:
                rhs = Point(*value)
                is_single = True
            except TypeError:
                # still no go
                raise TypeError('Invalid Point or iterable of Points')
        
        # reached here, so rhs is either an iterable of Points, or a Point
        # we want to make sure we are assigning to a slice only if we 
        # have an iterable of points, and assigning to an index if we 
        # have a single Point only
        if (isinstance(s, int) and is_single) \
            or isinstance(s, slice) and not is_single:
            self._pts[s] = rhs
        else:
            raise TypeError('Incompatible index/slice assignment')
                
    def __add__(self, pt):
        if isinstance(pt, Polygon):
            new_pts = self._pts + pt._pts
            return Polygon(*new_pts)
        else:
            new_pts = self._pts + [Point(*pt) for pt in pt]
            return Polygon(*new_pts)
            #raise TypeError('can only concatenate with another Polygon')
      
    def extend(self, pts):
        print("pts{pts}".format(pts._pts))
        if isinstance(pts, Polygon):
            self._pts = self._pts + pts._pts
        else:
            # assume we are being passed an iterable containing Points
            # or something compatible with Points
           
            #print("pts{pts}".format(pts))
            points = [Point(*pt) for pt in pts]
            self._pts = self._pts + points
14/156: pl1=Polygon((1,2),(2,4))
14/157: pl1
14/158: pl1.extend(pl1)
14/159:
class Polygon:
    def __init__(self, *pts):
        if pts:
            self._pts = [Point(*pt) for pt in pts]
        else:
            self._pts = []
            
    def __repr__(self):
        pts_str = ', '.join([str(pt) for pt in self._pts])
        return f'Polygon({pts_str})'
    
    def __len__(self):
        return len(self._pts)
    
    def __getitem__(self, s):
        return self._pts[s]
    
    def __setitem__(self, s, value):
        # we first should see if we have a single Point
        # or an iterable of Points in value
        try:
            rhs = [Point(*pt) for pt in value]
            is_single = False
        except TypeError:
            # not a valid iterable of Points
            # maybe a single Point?
            try:
                rhs = Point(*value)
                is_single = True
            except TypeError:
                # still no go
                raise TypeError('Invalid Point or iterable of Points')
        
        # reached here, so rhs is either an iterable of Points, or a Point
        # we want to make sure we are assigning to a slice only if we 
        # have an iterable of points, and assigning to an index if we 
        # have a single Point only
        if (isinstance(s, int) and is_single) \
            or isinstance(s, slice) and not is_single:
            self._pts[s] = rhs
        else:
            raise TypeError('Incompatible index/slice assignment')
                
    def __add__(self, pt):
        if isinstance(pt, Polygon):
            new_pts = self._pts + pt._pts
            return Polygon(*new_pts)
        else:
            new_pts = self._pts + [Point(*pt) for pt in pt]
            return Polygon(*new_pts)
            #raise TypeError('can only concatenate with another Polygon')
      
    def extend(self, pts):
        print(pts._pts)
        if isinstance(pts, Polygon):
            self._pts = self._pts + pts._pts
        else:
            # assume we are being passed an iterable containing Points
            # or something compatible with Points
           
            #print("pts{pts}".format(pts))
            points = [Point(*pt) for pt in pts]
            self._pts = self._pts + points
14/160: pl1=Polygon((1,2),(2,4))
14/161: pl1
14/162: pl1.extend(pl1)
14/163: pl1.extend(Point(1,0))
14/164:
class Polygon:
    def __init__(self, *pts):
        if pts:
            self._pts = [Point(*pt) for pt in pts]
        else:
            self._pts = []
            
    def __repr__(self):
        pts_str = ', '.join([str(pt) for pt in self._pts])
        return f'Polygon({pts_str})'
    
    def __len__(self):
        return len(self._pts)
    
    def __getitem__(self, s):
        return self._pts[s]
    
    def __setitem__(self, s, value):
        # we first should see if we have a single Point
        # or an iterable of Points in value
        try:
            rhs = [Point(*pt) for pt in value]
            is_single = False
        except TypeError:
            # not a valid iterable of Points
            # maybe a single Point?
            try:
                rhs = Point(*value)
                is_single = True
            except TypeError:
                # still no go
                raise TypeError('Invalid Point or iterable of Points')
        
        # reached here, so rhs is either an iterable of Points, or a Point
        # we want to make sure we are assigning to a slice only if we 
        # have an iterable of points, and assigning to an index if we 
        # have a single Point only
        if (isinstance(s, int) and is_single) \
            or isinstance(s, slice) and not is_single:
            self._pts[s] = rhs
        else:
            raise TypeError('Incompatible index/slice assignment')
                
    def __add__(self, pt):
        if isinstance(pt, Polygon):
            new_pts = self._pts + pt._pts
            return Polygon(*new_pts)
        else:
            new_pts = self._pts + [Point(*pt) for pt in pt]
            return Polygon(*new_pts)
            #raise TypeError('can only concatenate with another Polygon')
      
    def extend(self, pts):
        print(pts)
        if isinstance(pts, Polygon):
            self._pts = self._pts + pts._pts
        else:
            # assume we are being passed an iterable containing Points
            # or something compatible with Points
           
            #print("pts{pts}".format(pts))
            points = [Point(*pt) for pt in pts]
            self._pts = self._pts + points
14/165: pl1=Polygon((1,2),(2,4))
14/166: pl1
14/167: pl1.extend(pl1)
14/168: pl1
14/169: pl1.extend(Point(1,0))
14/170:
class Polygon:
    def __init__(self, *pts):
        if pts:
            self._pts = [Point(*pt) for pt in pts]
        else:
            self._pts = []
            
    def __repr__(self):
        pts_str = ', '.join([str(pt) for pt in self._pts])
        return f'Polygon({pts_str})'
    
    def __len__(self):
        return len(self._pts)
    
    def __getitem__(self, s):
        return self._pts[s]
    
    def __setitem__(self, s, value):
        # we first should see if we have a single Point
        # or an iterable of Points in value
        try:
            rhs = [Point(*pt) for pt in value]
            is_single = False
        except TypeError:
            # not a valid iterable of Points
            # maybe a single Point?
            try:
                rhs = Point(*value)
                is_single = True
            except TypeError:
                # still no go
                raise TypeError('Invalid Point or iterable of Points')
        
        # reached here, so rhs is either an iterable of Points, or a Point
        # we want to make sure we are assigning to a slice only if we 
        # have an iterable of points, and assigning to an index if we 
        # have a single Point only
        if (isinstance(s, int) and is_single) \
            or isinstance(s, slice) and not is_single:
            self._pts[s] = rhs
        else:
            raise TypeError('Incompatible index/slice assignment')
                
    def __add__(self, pt):
        if isinstance(pt, Polygon):
            new_pts = self._pts + pt._pts
            return Polygon(*new_pts)
        else:
            new_pts = self._pts + [Point(*pt) for pt in pt]
            return Polygon(*new_pts)
            #raise TypeError('can only concatenate with another Polygon')
      
    def extend(self, pts):
        print(pts)
        if isinstance(pts, Polygon):
            self._pts = self._pts + pts._pts
        else:
            # assume we are being passed an iterable containing Points
            # or something compatible with Points
           
            #print("pts{pts}".format(pts))
            points = [pt for pt in pts]
            self._pts = self._pts + points
14/171: pl1=Polygon((1,2),(2,4))
14/172: pl1
14/173: pl1.extend(pl1)
14/174: pl1
14/175: pl1.extend(Point(1,0))
14/176: pl1._pts
14/177:
class Polygon:
    def __init__(self, *pts):
        if pts:
            self._pts = [Point(*pt) for pt in pts]
        else:
            self._pts = []
            
    def __repr__(self):
        pts_str = ', '.join([str(pt) for pt in self._pts])
        return f'Polygon({pts_str})'
    
    def __len__(self):
        return len(self._pts)
    
    def __getitem__(self, s):
        return self._pts[s]
    
    def __setitem__(self, s, value):
        # we first should see if we have a single Point
        # or an iterable of Points in value
        try:
            rhs = [Point(*pt) for pt in value]
            is_single = False
        except TypeError:
            # not a valid iterable of Points
            # maybe a single Point?
            try:
                rhs = Point(*value)
                is_single = True
            except TypeError:
                # still no go
                raise TypeError('Invalid Point or iterable of Points')
        
        # reached here, so rhs is either an iterable of Points, or a Point
        # we want to make sure we are assigning to a slice only if we 
        # have an iterable of points, and assigning to an index if we 
        # have a single Point only
        if (isinstance(s, int) and is_single) \
            or isinstance(s, slice) and not is_single:
            self._pts[s] = rhs
        else:
            raise TypeError('Incompatible index/slice assignment')
                
    def __add__(self, pt):
        if isinstance(pt, Polygon):
            new_pts = self._pts + pt._pts
            return Polygon(*new_pts)
        else:
            new_pts = self._pts + [Point(*pt) for pt in pt]
            return Polygon(*new_pts)
            #raise TypeError('can only concatenate with another Polygon')
      
    def extend(self, pts):
        print(pts)
        if isinstance(pts, Polygon):
            self._pts = self._pts + pts._pts
        else:
            # assume we are being passed an iterable containing Points
            # or something compatible with Points
           
            #print("pts{pts}".format(pts))
            points = [point(pt) for pt in pts]
            self._pts = self._pts + points
14/178: pl1=Polygon((1,2),(2,4))
14/179: pl1
14/180: pl1.extend(pl1)
14/181: pl1
14/182: pl1.extend(Point(1,0))
14/183: pl1.extend(1,0)
14/184:
class Polygon:
    def __init__(self, *pts):
        if pts:
            self._pts = [Point(*pt) for pt in pts]
        else:
            self._pts = []
            
    def __repr__(self):
        pts_str = ', '.join([str(pt) for pt in self._pts])
        return f'Polygon({pts_str})'
    
    def __len__(self):
        return len(self._pts)
    
    def __getitem__(self, s):
        return self._pts[s]
    
    def __setitem__(self, s, value):
        # we first should see if we have a single Point
        # or an iterable of Points in value
        try:
            rhs = [Point(*pt) for pt in value]
            is_single = False
        except TypeError:
            # not a valid iterable of Points
            # maybe a single Point?
            try:
                rhs = Point(*value)
                is_single = True
            except TypeError:
                # still no go
                raise TypeError('Invalid Point or iterable of Points')
        
        # reached here, so rhs is either an iterable of Points, or a Point
        # we want to make sure we are assigning to a slice only if we 
        # have an iterable of points, and assigning to an index if we 
        # have a single Point only
        if (isinstance(s, int) and is_single) \
            or isinstance(s, slice) and not is_single:
            self._pts[s] = rhs
        else:
            raise TypeError('Incompatible index/slice assignment')
                
    def __add__(self, pt):
        if isinstance(pt, Polygon):
            new_pts = self._pts + pt._pts
            return Polygon(*new_pts)
        else:
            new_pts = self._pts + [Point(*pt) for pt in pt]
            return Polygon(*new_pts)
            #raise TypeError('can only concatenate with another Polygon')
      
    def extend(self, pts):
        print(pts)
        if isinstance(pts, Polygon):
            self._pts = self._pts + pts._pts
        else:
            # assume we are being passed an iterable containing Points
            # or something compatible with Points
           
            #print("pts{pts}".format(pts))
            points = [point(*pt) for pt in pts]
            self._pts = self._pts + points
14/185: pl1=Polygon((1,2),(2,4))
14/186: pl1
14/187: pl1.extend(pl1)
14/188: pl1
14/189: pl1.extend(1,0)
14/190:
class Polygon:
    def __init__(self, *pts):
        if pts:
            self._pts = [Point(*pt) for pt in pts]
        else:
            self._pts = []
            
    def __repr__(self):
        pts_str = ', '.join([str(pt) for pt in self._pts])
        return f'Polygon({pts_str})'
    
    def __len__(self):
        return len(self._pts)
    
    def __getitem__(self, s):
        return self._pts[s]
    
    def __setitem__(self, s, value):
        # we first should see if we have a single Point
        # or an iterable of Points in value
        try:
            rhs = [Point(*pt) for pt in value]
            is_single = False
        except TypeError:
            # not a valid iterable of Points
            # maybe a single Point?
            try:
                rhs = Point(*value)
                is_single = True
            except TypeError:
                # still no go
                raise TypeError('Invalid Point or iterable of Points')
        
        # reached here, so rhs is either an iterable of Points, or a Point
        # we want to make sure we are assigning to a slice only if we 
        # have an iterable of points, and assigning to an index if we 
        # have a single Point only
        if (isinstance(s, int) and is_single) \
            or isinstance(s, slice) and not is_single:
            self._pts[s] = rhs
        else:
            raise TypeError('Incompatible index/slice assignment')
                
    def __add__(self, pt):
        if isinstance(pt, Polygon):
            new_pts = self._pts + pt._pts
            return Polygon(*new_pts)
        else:
            new_pts = self._pts + [Point(*pt) for pt in pt]
            return Polygon(*new_pts)
            #raise TypeError('can only concatenate with another Polygon')
      
    def extend(self, pts):
        print(pts)
        if isinstance(pts, Polygon):
            self._pts = self._pts + pts._pts
        else:
            # assume we are being passed an iterable containing Points
            # or something compatible with Points
           
            #print("pts{pts}".format(pts))
            points = [pt for pt in pts]
            self._pts = self._pts + points
14/191: pl1=Polygon((1,2),(2,4))
14/192: pl1
14/193: pl1.extend(pl1)
14/194: pl1
14/195: pl1.extend(1,0)
14/196: pl1.extend((1,0))
14/197: pl1=Polygon((1,2),(2,4))
14/198: pl1
14/199: pl1.extend(pl1)
14/200: pl1
14/201: pl1.extend((1,0))
14/202: pl1._pts
14/203:
class Polygon:
    def __init__(self, *pts):
        if pts:
            self._pts = [Point(*pt) for pt in pts]
        else:
            self._pts = []
            
    def __repr__(self):
        pts_str = ', '.join([str(pt) for pt in self._pts])
        return f'Polygon({pts_str})'
    
    def __len__(self):
        return len(self._pts)
    
    def __getitem__(self, s):
        return self._pts[s]
    
    def __setitem__(self, s, value):
        # we first should see if we have a single Point
        # or an iterable of Points in value
        try:
            rhs = [Point(*pt) for pt in value]
            is_single = False
        except TypeError:
            # not a valid iterable of Points
            # maybe a single Point?
            try:
                rhs = Point(*value)
                is_single = True
            except TypeError:
                # still no go
                raise TypeError('Invalid Point or iterable of Points')
        
        # reached here, so rhs is either an iterable of Points, or a Point
        # we want to make sure we are assigning to a slice only if we 
        # have an iterable of points, and assigning to an index if we 
        # have a single Point only
        if (isinstance(s, int) and is_single) \
            or isinstance(s, slice) and not is_single:
            self._pts[s] = rhs
        else:
            raise TypeError('Incompatible index/slice assignment')
                
    def __add__(self, pt):
        if isinstance(pt, Polygon):
            new_pts = self._pts + pt._pts
            return Polygon(*new_pts)
        else:
            new_pts = self._pts + [Point(*pt) for pt in pt]
            return Polygon(*new_pts)
            #raise TypeError('can only concatenate with another Polygon')
      
    def extend(self, pts):
        print(pts)
        if isinstance(pts, Polygon):
            self._pts = self._pts + pts._pts
        else:
            # assume we are being passed an iterable containing Points
            # or something compatible with Points
           
            #print("pts{pts}".format(pts))
            points = [Point(pt) for pt in pts]
            self._pts = self._pts + points
14/204: pl1=Polygon((1,2),(2,4))
14/205: pl1
14/206: pl1.extend(pl1)
14/207: pl1
14/208: pl1.extend((1,0))
14/209: pl1.extend(Point((1,0)))
14/210:
class Polygon:
    def __init__(self, *pts):
        if pts:
            self._pts = [Point(*pt) for pt in pts]
        else:
            self._pts = []
            
    def __repr__(self):
        pts_str = ', '.join([str(pt) for pt in self._pts])
        return f'Polygon({pts_str})'
    
    def __len__(self):
        return len(self._pts)
    
    def __getitem__(self, s):
        return self._pts[s]
    
    def __setitem__(self, s, value):
        # we first should see if we have a single Point
        # or an iterable of Points in value
        try:
            rhs = [Point(*pt) for pt in value]
            is_single = False
        except TypeError:
            # not a valid iterable of Points
            # maybe a single Point?
            try:
                rhs = Point(*value)
                is_single = True
            except TypeError:
                # still no go
                raise TypeError('Invalid Point or iterable of Points')
        
        # reached here, so rhs is either an iterable of Points, or a Point
        # we want to make sure we are assigning to a slice only if we 
        # have an iterable of points, and assigning to an index if we 
        # have a single Point only
        if (isinstance(s, int) and is_single) \
            or isinstance(s, slice) and not is_single:
            self._pts[s] = rhs
        else:
            raise TypeError('Incompatible index/slice assignment')
                
    def __add__(self, pt):
        if isinstance(pt, Polygon):
            new_pts = self._pts + pt._pts
            return Polygon(*new_pts)
        else:
            new_pts = self._pts + [Point(*pt) for pt in pt]
            return Polygon(*new_pts)
            #raise TypeError('can only concatenate with another Polygon')
      
    def extend(self, pts):
        print(pts)
        if isinstance(pts, Polygon):
            self._pts = self._pts + pts._pts
        else:
            # assume we are being passed an iterable containing Points
            # or something compatible with Points
           
            #print("pts{pts}".format(pts))
            points = [(pt) for pt in pts]
            self._pts = self._pts + points
14/211: pl1=Polygon((1,2),(2,4))
14/212: pl1
14/213: pl1.extend(pl1)
14/214: pl1
14/215: pl1.extend(Point((1,0)))
14/216:
class Polygon:
    def __init__(self, *pts):
        if pts:
            self._pts = [Point(*pt) for pt in pts]
        else:
            self._pts = []
            
    def __repr__(self):
        pts_str = ', '.join([str(pt) for pt in self._pts])
        return f'Polygon({pts_str})'
    
    def __len__(self):
        return len(self._pts)
    
    def __getitem__(self, s):
        return self._pts[s]
    
    def __setitem__(self, s, value):
        # we first should see if we have a single Point
        # or an iterable of Points in value
        try:
            rhs = [Point(*pt) for pt in value]
            is_single = False
        except TypeError:
            # not a valid iterable of Points
            # maybe a single Point?
            try:
                rhs = Point(*value)
                is_single = True
            except TypeError:
                # still no go
                raise TypeError('Invalid Point or iterable of Points')
        
        # reached here, so rhs is either an iterable of Points, or a Point
        # we want to make sure we are assigning to a slice only if we 
        # have an iterable of points, and assigning to an index if we 
        # have a single Point only
        if (isinstance(s, int) and is_single) \
            or isinstance(s, slice) and not is_single:
            self._pts[s] = rhs
        else:
            raise TypeError('Incompatible index/slice assignment')
                
    def __add__(self, pt):
        if isinstance(pt, Polygon):
            new_pts = self._pts + pt._pts
            return Polygon(*new_pts)
        else:
            new_pts = self._pts + [Point(*pt) for pt in pt]
            return Polygon(*new_pts)
            #raise TypeError('can only concatenate with another Polygon')
      
    def extend(self, pts):
        print(pts)
        if isinstance(pts, Polygon):
            self._pts = self._pts + pts._pts
        else:
            # assume we are being passed an iterable containing Points
            # or something compatible with Points
           
            #print("pts{pts}".format(pts))
            points = [*pt for pt in pts]
            self._pts = self._pts + points
14/217:
class Polygon:
    def __init__(self, *pts):
        if pts:
            self._pts = [Point(*pt) for pt in pts]
        else:
            self._pts = []
            
    def __repr__(self):
        pts_str = ', '.join([str(pt) for pt in self._pts])
        return f'Polygon({pts_str})'
    
    def __len__(self):
        return len(self._pts)
    
    def __getitem__(self, s):
        return self._pts[s]
    
    def __setitem__(self, s, value):
        # we first should see if we have a single Point
        # or an iterable of Points in value
        try:
            rhs = [Point(*pt) for pt in value]
            is_single = False
        except TypeError:
            # not a valid iterable of Points
            # maybe a single Point?
            try:
                rhs = Point(*value)
                is_single = True
            except TypeError:
                # still no go
                raise TypeError('Invalid Point or iterable of Points')
        
        # reached here, so rhs is either an iterable of Points, or a Point
        # we want to make sure we are assigning to a slice only if we 
        # have an iterable of points, and assigning to an index if we 
        # have a single Point only
        if (isinstance(s, int) and is_single) \
            or isinstance(s, slice) and not is_single:
            self._pts[s] = rhs
        else:
            raise TypeError('Incompatible index/slice assignment')
                
    def __add__(self, pt):
        if isinstance(pt, Polygon):
            new_pts = self._pts + pt._pts
            return Polygon(*new_pts)
        else:
            new_pts = self._pts + [Point(*pt) for pt in pt]
            return Polygon(*new_pts)
            #raise TypeError('can only concatenate with another Polygon')
      
    def extend(self, pts):
        print(pts)
        if isinstance(pts, Polygon):
            self._pts = self._pts + pts._pts
        else:
            # assume we are being passed an iterable containing Points
            # or something compatible with Points
           
            #print("pts{pts}".format(pts))
            points = [Point(*pt) for pt in pts]
            self._pts = self._pts + points
14/218: pl1=Polygon((1,2),(2,4))
14/219: pl1
14/220: pl1.extend(pl1)
14/221: pl1
14/222: pl1.extend(Point((1,0)))
14/223: pl1._pts
14/224: pl1.extend(Point((1,0)))
14/225:
class Polygon:
    def __init__(self, *pts):
        if pts:
            self._pts = [Point(*pt) for pt in pts]
        else:
            self._pts = []
            
    def __repr__(self):
        pts_str = ', '.join([str(pt) for pt in self._pts])
        return f'Polygon({pts_str})'
    
    def __len__(self):
        return len(self._pts)
    
    def __getitem__(self, s):
        return self._pts[s]
    
    def __setitem__(self, s, value):
        # we first should see if we have a single Point
        # or an iterable of Points in value
        try:
            rhs = [Point(*pt) for pt in value]
            is_single = False
        except TypeError:
            # not a valid iterable of Points
            # maybe a single Point?
            try:
                rhs = Point(*value)
                is_single = True
            except TypeError:
                # still no go
                raise TypeError('Invalid Point or iterable of Points')
        
        # reached here, so rhs is either an iterable of Points, or a Point
        # we want to make sure we are assigning to a slice only if we 
        # have an iterable of points, and assigning to an index if we 
        # have a single Point only
        if (isinstance(s, int) and is_single) \
            or isinstance(s, slice) and not is_single:
            self._pts[s] = rhs
        else:
            raise TypeError('Incompatible index/slice assignment')
                
    def __add__(self, pt):
        if isinstance(pt, Polygon):
            new_pts = self._pts + pt._pts
            return Polygon(*new_pts)
        else:
            new_pts = self._pts + [Point(pt) for pt in pt]
            return Polygon(*new_pts)
            #raise TypeError('can only concatenate with another Polygon')
      
    def extend(self, pts):
        print(pts)
        if isinstance(pts, Polygon):
            self._pts = self._pts + pts._pts
        else:
            # assume we are being passed an iterable containing Points
            # or something compatible with Points
           
            #print("pts{pts}".format(pts))
            points = [Point(*pt) for pt in pts]
            self._pts = self._pts + points
14/226: pl1=Polygon((1,2),(2,4))
14/227: pl1
14/228: pl1.extend(pl1)
14/229: pl1
14/230: pl1.extend(Point((1,0)))
14/231: range(1,11)*range(1,11)
14/232:
x=[]
for i in range(1,11):
    row=[]
    for j in range(1,11):
        row.append(j)   
    x.append(row)
14/233: x
14/234:
x=[]
for i in range(1,11):
    row=[]
    for j in range(1,11):
        row.append(j*i)   
    x.append(row)
14/235: x
14/236: *range(1,11)
14/237: [range(1,11)]
14/238: **range(1,11)
14/239: list(range(1,11))
14/240: list(range(1,11))*list(range(1,11))
14/241: list(range(1,11))%*%list(range(1,11))
14/242: list(range(1,11))%%list(range(1,11))
14/243: list(range(1,11)'*'%list(range(1,11))
14/244: list(range(1,11))'*'%list(range(1,11))
14/245: list(range(1,11))%*%list(range(1,11))
14/246: [[j*i for j in range(1,11)] for i in range(1,11)]
14/247: [[chr1+chr2 for chr in ['a','b','c']] for chr2 in ['A','B','C']]
14/248: [[chr1+chr2 for chr1 in ['a','b','c']] for chr2 in ['A','B','C']]
14/249: enumerate(range(1,11))
14/250: *enumerate(range(1,11))
14/251: i in enumerate(range(1,11))
14/252: for i in enumerate(range(1,11))
14/253: [for i in enumerate(range(1,11))]
14/254: [i for i in enumerate(range(1,11))]
14/255: [i for i ,j in enumerate(range(1,11))]
14/256: [i+j for i ,j in enumerate(range(1,11))]
14/257: [[i*j] for i ,j in enumerate(range(1,11))]
14/258: [[i,j] for i ,j in enumerate(range(1,11))]
14/259: globals()
14/260: import datetime
14/261:
def log_m(ms,time_c=datetime.datetime()):
    print('Log: {} \n {}'.format(ms,time_c))
14/262:
def log_m(ms,time_c=datetime.datetime.now()):
    print('Log: {} \n {}'.format(ms,time_c))
14/263: log_m(" start")
14/264: log_m("end")
14/265:
def dt1():
    dt3=datetime.datetime.now()
    def inner():
        nonlocal dt3
        return(dt3)
    return inner
14/266:

dt1_obj=dt1()
def log_m(ms,time_c=dt1_obj()):
    print('Log: {} \n {}'.format(ms,time_c))
14/267: log_m("123")
14/268: log_m("123")
14/269: x={'a',1,'c' ,'df'}
14/270: [[i,j] for i, j in enumerate(x)]
14/271: [[i,j] for i, j in enumerate(x)]
14/272: [[i,j] for i, j in enumerate(x)]
14/273: x={'a',1,'c' ,'df'}
14/274: [[i,j] for i, j in enumerate(x)]
15/1:
class Circle:
    def __init__(self,r):
        self.radius=r
    
    @property
    def radius(self):
        return self._radius
    
    @radius.setter
    def radius(self,r):
        self._radius=r
15/2:
class Circle:
    def __init__(self,r):
        print(__init__)
        self.radius=r
    
    @property
    def radius(self):
        print('property:radius(self)')
        return self._radius
    
    @radius.setter
    def radius(self,r):
        print('radius.setter: radius(self,r)')
        self._radius=r
15/3: cr=Cricle(2)
15/4: cr=Circle(2)
15/5:
class Circle:
    def __init__(self,r):
        print('__init__')
        self.radius=r
    
    @property
    def radius(self):
        print('property:radius(self)')
        return self._radius
    
    @radius.setter
    def radius(self,r):
        print('radius.setter: radius(self,r)')
        self._radius=r
15/6: cr=Circle(2)
15/7: cr.radius=5
15/8: cr.radius
15/9: x=range(10)
15/10:
for i in x:
    print(i)
15/11:
for i in x:
    print(i)
15/12: zp=zip(range(10),range(10))
15/13:
for i, j in zp:
    print(i,j,i+j)
15/14:
for i, j in zp:
    print(i,j,i+j)
15/15: en=enumerate(range(10))
15/16:
for i , j in en:
    print(i,j,i+j)
15/17: r=range(10)
15/18: r is iter(r)
15/19: "__iter__" in dir(r)
15/20: "__next__" in dir(r)
15/21: r==iter(r)
15/22: z=enumerate(100)
15/23: z=enumerate(range(10))
15/24: "__iter__" in dir(z)
15/25: "__next__" in dir(z)
15/26: z==iter(z)
15/27: z is iter(z)
16/1: ls=[1,2,3]
16/2: "__iter__" in dir(ls)
16/3: "__next__" in dir(ls)
16/4: "__getitem__" in dir(r)
16/5: "__getitem__" in dir(ls)
16/6: ls is iter(ls)
16/7:
def fn():
    yield 'line 1'
    yield 2
16/8: fn()
16/9: ff=fn()
16/10: ff.__next__()
16/11: ff()
16/12: next(ff)
16/13: next(ff)
16/14:
def factorials(n):
    for i in range(n):
        emit factorail(i)
        pause execution here
        wait for resume
    retrun 'done!'
16/15:
import math
def factorials(n):
    for i in range(n):
        emit math.factorail(i)
        pause execution here
        wait for resume
    retrun 'done!'
16/16:
def fn():
    yield 'line 1'
    yield 2
    if True:
        return 'done!'
    yield 3
16/17: gn=fn()
16/18:
for item in gn:
    print(item)
16/19: next(gn)
16/20:
def fn():
    yield 'line 1'
    yield 2
    if True:
        print('done')
        return 'done!'
    yield 3
16/21: gn=fn()
16/22:
for item in gn:
    print(item)
16/23: next(gn)
16/24:
def fn():
    yield 'line 1'
    yield 2
    if True:
        print('the last message')
        return 'done!'
    yield 3
16/25: gn=fn()
16/26:
for item in gn:
    print(item)
16/27: next(gn)
16/28: import math
16/29:
def fib(n):
    for i in range(n):
        yeilf math.fib(i)
16/30:
def fib(n):
    fib_0=1
    fib_1=1
    for i in range(n-1):
        fib_0,fib_1=fib_1,fib_0+fib_1
    return fib_1
16/31: fib(2)
16/32: fib(2000)
16/33:
def fc(n):
    fc_0=1
    fc_1=1
    for i in range(n-1):
        fc_0,fc_1=fc_1,fc_0*fc_1
    return fc_1
16/34: fc(3)
16/35:
def fc(n):
    fc_0=1
    fc_1=2
    for i in range(n-1):
        fc_0,fc_1=fc_1,fc_0*fc_1
    return fc_1
16/36: fc(3)
16/37:
def fc(n):
    fc_0=1
    fc_1=2
    for i in range(2,n-1):
        fc_0,fc_1=fc_1,fc_0*fc_1
    return fc_1
16/38: fc(3)
16/39:
def fc(n):
    fc_0=1
    fc_1=2
    for i in range(2,n):
        fc_0,fc_1=fc_1,fc_0*fc_1
    return fc_1
16/40: fc(3)
16/41:
def fc(n):
    fc_1=1
    fc_2=2
    for i in range(2,n):
        fc_1,fc_2=fc_2,fc_1*(n+1)
    return fc_1
16/42: fc(3)
16/43: fc(4)
16/44:
def fc(n):
    fc_1=1
    fc_2=2
    for i in range(2,n):
        print(fc_1,fc_2)
        fc_1,fc_2=fc_2,fc_1*(n+1)
    return fc_1
16/45: fc(3)
16/46:
def fc(n):
    fc_1=1
    fc_2=2
    for i in range(2,n+1):
        print(fc_1,fc_2)
        fc_1,fc_2=fc_2,fc_1*(n+1)
    return fc_1
16/47: fc(3)
16/48:
def fc(n):
    fc_1=1
    fc_2=2
    for i in range(2,n+1):
        print(fc_1,fc_2)
        fc_2=fc_1*(n+1)
    return fc_1
16/49: fc(3)
16/50: fc(2)
16/51: fc(1)
16/52: fc(2)
16/53:
def fc(n):
    fc_1=1
    fc_2=2
    for i in range(2,n+1):
        print(fc_1,fc_2)
        fc_1,fc_2=fc_2,fc_1*(n+1)
    return fc_1
16/54: fc(2)
16/55: fc(4)
16/56:
def fc(n):
    fc_1=1
    fc_2=2
    for i in range(2,n+1):
        print(fc_1,fc_2)
        fc_1,fc_2=fc_2,fc_1*(i+1)
    return fc_1
16/57: fc(2)
16/58: fc(4)
16/59: fc(3)
16/60:
def fc(n):
    fc_1=1
    fc_2=2
    for i in range(2,n+1):
        print(fc_1,fc_2)
        fc_1,fc_2=fc_2,fc_1*(i+1)
    return fc_2
16/61: fc(2)
16/62:
def fc(n):
    fc_1=1
    fc_2=2
    for i in range(2,n):
        print(fc_1,fc_2)
        fc_1,fc_2=fc_2,fc_1*(i+1)
    return fc_2
16/63: fc(2)
16/64: fc(3)
16/65:
def fc(n):
    fc_1=1
    fc_2=2
    for i in range(2,n):
        
        fc_1,fc_2=fc_2,fc_1*(i+1)
        print(fc_1,fc_2)
    return fc_2
16/66: fc(2)
16/67: fc(3)
16/68: fc(4)
16/69:
def fc(n):
    fc_1=1
    fc_2=2
    for i in range(2,n):
        temp=fc_2
        fc_2=fc_1*(i+1)
        fc_1=fc_2
        print(fc_1,fc_2)
    return fc_2
16/70: fc(2)
16/71: fc(4)
16/72: fc(2)
16/73: fc(3)
16/74:
def fc(n):
    fc_1=1
    fc_2=2
    for i in range(2,n):
        
        fc_2=fc_1*(i+1)
        fc_1=fc_2
        print(fc_1,fc_2)
    return fc_2
16/75: fc(2)
16/76: fc(3)
16/77: fc(4)
16/78:
def fc(n):
    fc_1=1
    fc_2=2
    for i in range(2,n):
        temp=fc_2
        fc_2=fc_1*(i+1)
        fc_1=temp
        print(fc_1,fc_2)
    return fc_2
16/79: fc(2)
16/80: fc(3)
16/81: fc(4)
16/82: fc(2)
16/83: fc(3)
16/84:
def fc(n):
    fc_1=1
    fc_2=2
    
    for i in range(2,n):
        print(fc_1,fc_2)
        temp=fc_2
        fc_2=fc_1*(i+1)
        fc_1=temp
        print(fc_1,fc_2)
    return fc_2
16/85: fc(2)
16/86: fc(3)
16/87:
def fc(n):
    fc_1=1
  
    for i in range(2,n):
        print(fc_1)
        
        fc_1=fc_1*(i+1)
        
        print(fc_1)
    return fc_2
16/88: fc(2)
16/89:
def fc(n):
    fc_1=2
  
    for i in range(3,n):
        print(fc_1)
        
        fc_1=fc_1*(i+1)
        
        print(fc_1)
    return fc_2
16/90: fc(2)
16/91:
def fc(n):
    fc_1=2
  
    for i in range(3,n):
        print(fc_1)
        
        fc_1=fc_1*(i+1)
        
        print(fc_1)
    return fc_1
16/92: fc(2)
16/93: fc(3)
16/94: fc(3)
16/95: fc(4)
16/96:
def fc(n):
    fc_1=2
  
    for i in range(n):
        print(fc_1)
        
        fc_1=fc_1*(i+1)
        
        print(fc_1)
    return fc_1
16/97: fc(2)
16/98:
def fc(n):
    fc_1=1
  
    for i in range(n):
        print(fc_1)
        
        fc_1=fc_1*(i+1)
        
        print(fc_1)
    return fc_1
16/99: fc(2)
16/100:
def fc(n):
    fc_1=1
  
    for i in range(2,n):
        print(fc_1)
        
        fc_1=fc_1*(i+1)
        
        print(fc_1)
    return fc_1
16/101: fc(2)
16/102:
def fc(n):
    fc_1=1
  
    for i in range(3,n):
        print(fc_1)
        
        fc_1=fc_1*(i+1)
        
        print(fc_1)
    return fc_1
16/103: fc(2)
16/104:
def fc(n):
    fc_1=1
  
    for i in range(2,n):
        print(fc_1)
        
        fc_1=fc_1*(i+1)
        
        print(fc_1)
    return fc_1
16/105: fc(2)
16/106:
def fc(n):
    fc_1=1
  
    for i in range(2,n+1):
        print(fc_1)
        
        fc_1=fc_1*(i+1)
        
        print(fc_1)
    return fc_1
16/107: fc(2)
16/108:
def fc(n):
    fc_1=1
  
    for i in range(2,n+1):
        print(fc_1)
        
        fc_1=fc_1*i
        
        print(fc_1)
    return fc_1
16/109: fc(2)
16/110: fc(3)
16/111: fc(4)
16/112:
def fc(n):
    fc_1=1
  
    for i in range(2,n+1):
        #print(fc_1)
        fc_1=fc_1*i
        #print(fc_1)
    return fc_1
16/113: import math
16/114: math.factorial(100)
16/115: math.factorial(1000)
16/116: math.factorial(10000)
16/117: fc(10000)
16/118: fc(1000)
16/119: math.factorial(1000)
17/1: ls=[1,2,3,4,5,6]
17/2: ls[0:5:2]
17/3: import itertools
17/4: ls[slice(1,2,3)]
17/5: ls[slice(0,5,2)]
17/6: slice(0,5,2)
17/7: lits(slice(0,5,2))
17/8: list(slice(0,5,2))
17/9: type(slice(0,5,2))
17/10: list(range(0,5))[slice(0,5,2)]
17/11: itertools.islice(ls,0,2)
17/12: *itertools.islice(ls,0,2)
17/13: [k for k in itertools.islice(ls,0,2)]
17/14: list(itertools.islice(ls,0,2))
17/15: import math
17/16:
def fc(n):
    for i in range(n):
        yield math.factorial(i)
17/17: fc1=fc(100)
17/18: list(fc1)
17/19: fc1=fc(10)
17/20: list(fc1)
17/21: fc1
17/22: list(fc1)
17/23: fc1=fc(10)
17/24: list(fc1)
17/25: itertools.islice(fc(10),0,6)
17/26: list(itertools.islice(fc(10),0,6))
17/27: list(itertools.islice(fc(10),0,6))
17/28: list(itertools.islice(fc(10),0,6,2))
17/29:
# R code
#> rep(letters[1:3],times=c(1,2,4))
#[1] "a" "b" "b" "c" "c" "c" "c"
# Python code 
# rep(letters[0:3], each=[1,2,4] ,times=1  , length_out= -1)
# output ['a', 'b', 'b', 'c', 'c', 'c', 'c']
17/30:
import string
letters =string.ascii_lowercase
letters =list(letters)
17/31: import numpy as np
17/32: np.repeat(letters[0:3],repeats=[1,2,4])
17/33: list(np.repeat(letters[0:3],repeats=[1,2,4]))
17/34:
import numpy as np
import itertools
17/35: list(np.repeat(letters[0:3],repeats=[1,2,4]))
17/36:
import numpy as np
import itertools
import string
letters =string.ascii_lowercase
letters =list(letters)
17/37: list(np.repeat(letters[0:3],repeats=[1,2,4]))
17/38: ls=list(np.repeat(letters[0:3],repeats=[1,2,4]))
17/39:
# R code
#> rep(letters[1:3],times=c(1,2,4))
#[1] "a" "b" "b" "c" "c" "c" "c"
# Python code 
#rep(letters[0:3], each=[1,2,4] ,times=1  , length_out= -1)
# output ['a', 'b', 'b', 'c', 'c', 'c', 'c']
17/40: list(np.repeat(letters[0:3],repeats=[1,2,4]))
17/41:
# R code
#> rep(letters[1:3],times=c(1,2,4))
#[1] "a" "b" "b" "c" "c" "c" "c"
# Python code 
#rep(letters[0:3], each=[1,2,4] ,times=1  , length_out= -1)
# output ['a', 'b', 'b', 'c', 'c', 'c', 'c']
17/42: list(np.repeat(letters[0:3],repeats=[1,2,4]))
17/43:
#R code
#> rep(letters[1:3],each=2,len=15)
# [1] "a" "a" "b" "b" "c" "c" "a" "a" "b" "b" "c" "c" "a" "a" "b"
# Python code
#rep(letters[0:3], each=[2] ,times=1  , length_out= 15)
# output ['a', 'a', 'b', 'b', 'c', 'c', 'a', 'a', 'b', 'b', 'c', 'c', 'a', 'a', 'b']
17/44: np.repeat(letters[0,3],repeats=2)
17/45: np.repeat(letters[0:3],repeats=2)
17/46: list(np.repeat(letters[0:3],repeats=2))
17/47: zip(range(0,16))
17/48: list(zip(range(0,16)))
17/49:
ls=list(np.repeat(letters[0:3],repeats=2))
ls
17/50: zip(range(0,16))
17/51: list(zip(range(0,16),itertools.cycle(ls)))
17/52: list(zip(range(0,15),itertools.cycle(ls)))
17/53: [j for i,j in zip(range(0,15),itertools.cycle(ls))]
17/54:
#R code
#> rep(letters[1:3],each=3,times=2)
# [1] "a" "a" "a" "b" "b" "b" "c" "c" "c" "a" "a" "a" "b" "b" "b" "c" "c" "c"
# Python code
#rep(letters[0:3], each=[3] ,times=2)
# output ['a', 'a', 'a', 'b', 'b', 'b', 'c', 'c', 'c', 'a', 'a', 'a', 'b', 'b', 'b', 'c', 'c', 'c']
17/55: ls=list(np.repeat(letters[0:3],repeats=3))
17/56: ls
17/57: ls*2
17/58: list(np.repeat(ls,2))
17/59: filter(True,[0,'','hello',100,False,True])
17/60: list(filter(True,[0,'','hello',100,False,True]))
17/61: list(filter(None,[0,'','hello',100,False,True]))
17/62: list(filter(lambda x: len(x) >=1,[0,'','hello',100,False,True]))
17/63: list(filter(lambda x: x>3,[0,'','hello',100,False,True]))
17/64: itertools.compress(letters,[True, False, True])
17/65: list(itertools.compress(letters,[True, False, True]))
17/66: list(itertools.compress(letters,itertools.cycle([True, False, True])))
17/67: list(range(2,11)+'JBKA')
17/68: list(range(2,11))+'JBKA'
17/69: str(range(2,11))+'JBKA'
17/70: tuple(range(2,11)) +tuple('JQKA')
17/71: x=tuple(range(2,11)) +tuple('JQKA')
17/72: x
17/73: itertools.repeat(x,4)
17/74: list(y)
17/75: y=itertools.repeat(x,4)
17/76: list(y)
17/77: z=list(y)
17/78: y=itertools.repeat(x,4)
17/79: z=list(y)
17/80: z
17/81: list(zip(z,))
17/82: suits=('Spades','Hearts','Diamonds','Clubs')
17/83: x_f=list(zip(z,itertools.cycle(suits)))
17/84: x_f
17/85: y=np.repeat(x,4)
17/86: z=list(y)
17/87: z
17/88: suits=('Spades','Hearts','Diamonds','Clubs')
17/89: x_f=list(zip(z,itertools.cycle(suits)))
17/90: x_f
17/91:
x_f.__len__(
)
17/92: l1=(x**2 for x in range(0,5))
17/93: *l1
17/94: chain(*l1)
17/95: l1
17/96: list(l1)
17/97:
l1=(x**2 for x in range(0,5))
l2=(x**2 for x in range(5,10))
17/98: l=[l1,l2]
17/99: list(l)
17/100: list(*l)
17/101: list(chain(*l))
17/102: chain(*l)
17/103: itertools.chain(*l)
17/104: *itertools.chain(*l)
17/105: list(itertools.chain(*l))
17/106: [i for i in l1,l2]
17/107: [i for i in [l1,l2]]
17/108: [j for j in i for i in [l1,l2] ]
17/109:
[j for j in i:
 for i in [l1,l2] ]
17/110: [j for j in i for i in [l1,l2] ]
17/111: [j for i in [l1,l2] for j in i ]
17/112:
l1=(x**2 for x in range(0,5))
l2=(x**2 for x in range(5,10))
17/113: l=[l1,l2]
17/114: [j for i in [l1,l2] for j in i ]
17/115: chain(*l)
17/116: chain(*[l1,l2])
17/117: list(itertools.chain(*l))
17/118:
l1=(x**2 for x in range(0,5))
l2=(x**2 for x in range(5,10))
17/119: l=[l1,l2]
17/120: list(itertools.chain(*l))
17/121:
l1=(x**2 for x in range(0,5))
l2=(x**2 for x in range(5,10))
17/122: l=[l1,l2]
17/123: chain(*[l1,l2])
17/124: itertools.chain(*[l1,l2])
17/125: list(itertools.chain(*[l1,l2]))
17/126: [i for i initertools.chain(*[l1,l2])]
17/127: [i for i in initertools.chain(*[l1,l2])]
17/128: [i for i in itertools.chain(*[l1,l2])]
17/129:
l1=(x**2 for x in range(0,5))
l2=(x**2 for x in range(5,10))
17/130: l=[l1,l2]
17/131: [i for i in itertools.chain(*[l1,l2])]
17/132: reduce(lambda x: x+1, [1,2,3,4])
17/133: itertools.reduce(lambda x: x+1, [1,2,3,4])
17/134: import functools
17/135: functools.reduce(lambda x: x+1, [1,2,3,4])
17/136: functools.reduce(lambda x ,y: x+y, [1,2,3,4])
17/137: functools.reduce(lambda x ,y,z: x+y, [1,2,3,4])
17/138: functools.reduce(lambda x ,y, z: x+y+z, [1,2,3,4])
17/139: functools.reduce(lambda x ,y: x+y, [1,2,3,4])
17/140: functools.reduce(lambda x ,y: x+y, [1,2,3])
17/141: functools.reduce(lambda x ,y: x+y, [1,2])
17/142:
functools.reduce(lambda x ,y: x+y, [1]
                                    )
17/143: functools.reduce(lambda x ,y: x-y, [1,2])
17/144: functools.reduce(lambda x ,y: y-x, [1,2])
17/145: x=[[1,2,3],[10,20,30],[100,200,300]]
17/146: functools.map
17/147: itertools.map
17/148: itertools.map()
17/149: map
17/150: map(lambda x,y,x:x+y+z,x)
17/151: x=[[1,2,3],[10,20,30],[100,200,300]]
17/152: map(lambda x,y,x:x+y+z,l)
17/153: l=[[1,2,3],[10,20,30],[100,200,300]]
17/154: map(lambda x,y,x:x+y+z,l)
17/155: map(lambda x,y,z: x+y+z,l)
17/156: [map(lambda x,y,z: x+y+z,l)]
17/157: [i in map(lambda x,y,z: x+y+z,l)]
17/158: [i for i in map(lambda x,y,z: x+y+z,l)]
17/159: list(map(lambda x,y,z: x+y+z,l))
17/160: list(map(lambda x,y: x+y,l))
17/161: l=[[1,2,3],[10,20,30],[100,200,300]]
17/162: l=[[1,2],[10,20],[100,200]]
17/163: list(map(lambda x,y: x+y,l))
17/164: list(map(lambda x,y: x+y , l))
17/165: ls=[[1,2],[10,20],[100,200]]
17/166: list(map(lambda x,y: x+y , ls))
17/167: ls
17/168: list(map(lambda x,y: x+y , ls[1]))
17/169: list(map(lambda x: x , ls[1]))
17/170: list(map(lambda x: x , ls[0]))
17/171: list(map(lambda x: x[0]+x[1] , ls))
17/172: [[i,j] for item in ls for i , j in item]
17/173: ls
17/174: [item for item in ls ]
17/175: [[i,j] for item in ls for i ,j in item]
17/176: [[i,j] for item in ls for i ,j in item]
17/177: [[item[0],item[1]] for item in ls ]
17/178: [sum(item) for item in ls ]
17/179:
for item in ls:
    it1 +=ite,[0]
17/180:
lt=[]
for item in ls:
    it[0] +=ite
17/181:
lt=[]
for item in ls:
    lt[0] +=ite
17/182:
lt=[0,0]
for item in ls:
    lt[0] +=ite
17/183:
lt=[0,0]
for item in ls:
    lt[0] +=item[0]
17/184: lt
17/185:
lt=[0,0]
for item in ls:
    lt[0] +=item[0]
    lt[1] += item[1]
17/186: lt
17/187: ls
17/188: zip(ls)
17/189: list(zip(ls))
17/190: list(zip(ls,ls))
17/191: list(zip(*ls))
17/192: list(zip(ls))
17/193: list(zip(*ls))
17/194: type(*ls)
17/195:
xy=*ls
type(xy)
17/196:
x,y=*ls
type(xy)
17/197:
x,y=ls
type(xy)
17/198:
x,y=ls
type(x)
17/199:
x,*y=ls
type(x)
17/200:
x,*y=ls
x
17/201:
x,*y=ls
y
17/202: ls=[[1,2],[10,20],[100,200]]
17/203: map(lambda x: x[0]+x[1],ls)
17/204: *map(lambda x: x[0]+x[1],ls)
17/205: list(map(lambda x: x[0]+x[1],ls))
17/206: [item[0]+item[1] for item in ls]
17/207: list(map(math.prod,ls))
17/208: list(map(math.sum,ls))
17/209: list(map(sum,ls))
17/210: list(reduce(lambda x, y: x+y, ls))
17/211: list(itertools.reduce(lambda x, y: x+y, ls))
17/212: list(functools.reduce(lambda x, y: x+y, ls))
17/213: zip(*ls)
17/214: list(zip(*ls))
17/215: map(lambda x: sum(x),list(zip(*ls)))
17/216: list(map(lambda x: sum(x),list(zip(*ls))))
17/217: ls
18/1:
import numpy as np
import pandas as pd
18/2:
import numpy as np
import pandas as pd
import itertools
18/3:
import numpy as np
import pandas as pd
import itertools
import functools
18/4: data=[1,2,3,3,2,2,5,5,1,1,1,1]
18/5: data_g=itertools.groupby(data,lambda x: x[0])
18/6: data_g
18/7: list(data_g)
18/8: data_g=itertools.groupby(data)
18/9: data_g
18/10: list(data_g)
18/11:
for gr, it in itertools.groupby(data):
    print('gr: {}, it: {}'.format(gr,it))
18/12:
for gr, it in itertools.groupby(data):
    print('gr: {}, it: {}'.format(gr,list(it)))
18/13: data=[['a','a1'],['b','b1'],['a','a2'],['a','a3'],['b','b2'],['c','c1'],['b','b1'],['b','b1']]
18/14: data_g=itertools.groupby(data,lambda x: x[0])
18/15: data_g
18/16:
for gr, it in itertools.groupby(data):
    print('gr: {}, it: {}'.format(gr,list(it)))
18/17: data_g=itertools.groupby(data,key=lambda x: x[0])
18/18:
for gr, it in itertools.groupby(data,,key=lambda x: x[0]):
    print('gr: {}, it: {}'.format(gr,list(it)))
18/19:
for gr, it in itertools.groupby(data,key=lambda x: x[0]):
    print('gr: {}, it: {}'.format(gr,list(it)))
18/20: data_g=itertools.groupby(data,key=lambda x: x[0])
18/21: '{i} * {j} = {i * j}'.format(i=2,j=5)
18/22: '{i} * {j} = {i*j}'.format(i=2,j=5)
18/23:
i=2;j=8
f'{i} * {j} = {i*j}'
18/24:
i=2;j=8
f'{i} \times {j} = {i*j}'
18/25:
i=2;j=8
f'{i} \\times {j} = {i*j}'
18/26:
i=2;j=8
f'{i} \u1029 {j} = {i*j}'
18/27:
i=2;j=8
f'{i} \u129 {j} = {i*j}'
18/28:
i=2;j=8
f'{i} \u1129 {j} = {i*j}'
18/29: pr=itertools.product([0,1],[0,1])
18/30: list(pr)
18/31: [itertools.permutations('abca')]
18/32: list(itertools.permutations('abca'))
18/33: list(itertools.permutations('abca',3))
18/34: list(itertools.permutations('aba',3))
18/35: list(itertools.permutations('abaa',3))
18/36: list(itertools.permutations('aba',3))
18/37: list(itertools.permutations('abc',3))
18/38: list(itertools.permutations('aba',3))
18/39: x=list(itertools.permutations('aba',3))
18/40: x.uniqe()
18/41: x=set(itertools.permutations('aba',3))
18/42: x
18/43:
class Tag:
    def __init__(self,tag):
        self._tag=tag
    
    def __enter__(self):
        print(f'<{self._tag}>')
    
    def _exit__(self):
        print(f'</{self._tag}>')
18/44:
with Tag('p'):
    print("hellp")
18/45:
class Tag:
    def __init__(self,tag):
        self._tag=tag
    
    def __enter__(self):
        print(f'<{self._tag}>')
    
    def __exit__(self):
        print(f'</{self._tag}>')
18/46:
with Tag('p'):
    print("hellp")
18/47:
class Tag:
    def __init__(self,tag):
        self._tag=tag
    
    def __enter__(self):
        print(f'<{self._tag}>')
    
    def __exit__(self,exc_type,exc_value,tbl):
        print(f'</{self._tag}>')
18/48:
with Tag('p'):
    print("hellp")
18/49:
class Tag:
    def __init__(self,tag):
        self._tag=tag
    
    def __enter__(self):
        print(f'<{self._tag}>',end='')
    
    def __exit__(self,exc_type,exc_value,tbl):
        print(f'</{self._tag}>',,end='')
18/50:
class Tag:
    def __init__(self,tag):
        self._tag=tag
    
    def __enter__(self):
        print(f'<{self._tag}>',end='')
    
    def __exit__(self,exc_type,exc_value,tbl):
        print(f'</{self._tag}>',end='')
18/51:
with Tag('p'):
    print("hellp",end='')
18/52:
class Tag:
    def __init__(self,tag):
        self._tag=tag
    
    def __enter__(self):
        print(f'<{self._tag}>',end='')
    
    def __exit__(self,exc_type,exc_value,tbl):
        print(f'</{self._tag}>',end='')
18/53:
with Tag('p'):
    print("hello",end='')
19/1:
import numpy as np
import pandas as pd
import itertools
import functools
19/2:
df1 =  pd.DataFrame(
        'id'=pd.Series([range(1,11)])
    )
19/3:
df1 =  pd.DataFrame(
        'id':pd.Series([range(1,11)])
    )
19/4: pd.Series([range(1,11)])
19/5:
df1 =  pd.DataFrame(
        'id':pd.Series([range(1,11)])
    )
19/6:
df1 =  pd.DataFrame(
        'id'=pd.Series([range(1,11)])
    )
19/7:
df1 =  pd.DataFrame(
       
    )
19/8: df1['id']=pd.Series([range(1,11)])
19/9: df1
19/10: df1['id']=pd.Series(range(1,11))
19/11: df1
19/12: df1['id']=pd.Series([range(1,11)])
19/13: df1
19/14: import string
19/15: string.ascii_lowercase
19/16: letters=[string.ascii_lowercase]
19/17: letters
19/18: letters=list(string.ascii_lowercase)
19/19: letters
19/20:
df1 =  pd.DataFrame({
 'id':[range(1,20)]
    
})
19/21: df1['id']
19/22:
df1 =  pd.DataFrame({
 'id':[*range(1,20)]
    
})
19/23: df1['id']
19/24:
df1 =  pd.DataFrame({
 'id':list(range(1,20))
    
})
19/25: df1['id']
19/26:
df1 =  pd.DataFrame({
 'id':list(range(1,20))
 ,'gender':np.repeat(['Male','Female'],repeats=10)
    
})
19/27:
df1 =  pd.DataFrame({
 'id':list(range(1,20))
 ,'gender':[np.repeat(['Male','Female'],repeats=10)]
    
})
19/28:
df1 =  pd.DataFrame({
 'id':list(range(1,20))
 ,'gender':list(np.repeat(['Male','Female'],repeats=10))
    
})
19/29: list(np.repeat(['Male','Female'],repeats=10))
19/30: np.repeat(['Male','Female'],repeats=12)
19/31:
df1 =  pd.DataFrame({
 'id':list(range(1,24))
 ,'gender':list(np.repeat(['Male','Female'],repeats=12))
    
})
19/32:
df1 =  pd.DataFrame({
 'gender':list(np.repeat(['Male','Female'],repeats=12))
    
})
19/33:
df1 =  pd.DataFrame({
    'id':list(range(1,25))
 ,
 'gender':list(np.repeat(['Male','Female'],repeats=12))
    
})
19/34: df1['id']
19/35: df1
19/36:
df1 =  pd.DataFrame({
    'id':list(range(1,25))
     ,
    'gender':list(np.repeat(['Male','Female'],repeats=12))
    ,
    'h':[16,17,16,12,17,16,
         17,18,19,19,20,19
        ,14,13,16,12,17,15
         ,17,18,16,18,16,17
        ]
    
})
19/37: df1
19/38:
df1 =  pd.DataFrame({
    'id':list(range(1,25))
     ,
    'gender':list(np.repeat(['Male','Female'],repeats=12))
    ,
    'grp':[i for i in zip(range(24),itertools.cycle(['A','B']))]
    ,
    'h':[16,17,16,12,17,16,
         17,18,19,19,20,19
        ,14,13,16,12,17,15
         ,17,18,16,18,16,17
        ]
    
})
19/39: df1
19/40:
df1 =  pd.DataFrame({
    'id':list(range(1,25))
     ,
    'gender':list(np.repeat(['Male','Female'],repeats=12))
    ,
    'grp':[j for i ,j in zip(range(24),itertools.cycle(['A','B']))]
    ,
    'h':[16,17,16,12,17,16,
         17,18,19,19,20,19
        ,14,13,16,12,17,15
         ,17,18,16,18,16,17
        ]
    
})
19/41: df1
19/42:
df1 =  pd.DataFrame({
    'id':list(range(1,25))
     ,
    'gender':list(np.repeat(['Male','Female'],repeats=12))
    ,
    'grp':[j for i ,j in zip(range(24),itertools.cycle(['A','B','C']))]
    ,
    'h':[16,17,16,12,17,16,
         17,18,19,19,20,19
        ,14,13,16,12,17,15
         ,17,18,16,18,16,17
        ]
    
})
19/43: df1
19/44: itertools.repeat(['F,'m'],12)
19/45: itertools.repeat(['F','m'],12)
19/46: list(itertools.repeat(['F','m'],12))
19/47: list(itertools.repeat(['F','m'],[12,12]))
19/48:
df1 =  pd.DataFrame({
    'id':list(range(1,25))
     ,
    'gender':list(np.repeat(['Male','Female'],repeats=[12,12]))
    ,
    'grp':[j for i ,j in zip(range(24),itertools.cycle(['A','B','C']))]
    ,
    'h':[16,17,16,12,17,16,
         17,18,19,19,20,19
        ,14,13,16,12,17,15
         ,17,18,16,18,16,17
        ]
    
})
19/49: df1
19/50:
df1 =  pd.DataFrame({
    'id':list(range(1,25))
     ,
    'gender':list(np.repeat(['Male','Female'],repeats=12))
    ,
    'grp':[j for i ,j in zip(range(24),itertools.cycle(['A','B','C']))]
    ,
    'h':[16,17,16,12,17,16,
         17,18,19,19,20,19
        ,14,13,16,12,17,15
         ,17,18,16,18,16,17
        ]
    
})
19/51: df1
19/52:
df1 =  pd.DataFrame({
    'id':list(range(1,25))
     ,
    'gender':list(np.repeat(['Male','Female'],repeats=12))
    ,
    'grp1':[j for i ,j in zip(range(24),itertools.cycle(['A','B','C']))]
    ,
    'grp2':list(np.repeats(['Male','Female'],repeats=12))
    ,
    'h':[16,17,16,12,17,16,
         17,18,19,19,20,19
        ,14,13,16,12,17,15
         ,17,18,16,18,16,17
        ]
    
})
19/53: np.repeats(['Male','Female'],repeats=12)
19/54: np.repeat(['Male','Female'],repeats=12)
19/55: np.repeats(['Male','Female'],repeats=12)
19/56: np.repeats(['Male','Female'],repeats=[12,12])
19/57:
df1 =  pd.DataFrame({
    'id':list(range(1,25))
     ,
    'gender':list(np.repeat(['Male','Female'],repeats=12))
    ,
    'grp1':[j for i ,j in zip(range(24),itertools.cycle(['A','B','C']))]
    ,
    'grp2':list(np.repeat(['Male','Female'],repeats=12))
    ,
    'h':[16,17,16,12,17,16,
         17,18,19,19,20,19
        ,14,13,16,12,17,15
         ,17,18,16,18,16,17
        ]
    
})
19/58: df1
19/59:
df1 =  pd.DataFrame({
    'id':list(range(1,25))
     ,
    'gender':list(np.repeat(['Male','Female'],repeats=12))
    ,
    'grp1':[j for i ,j in zip(range(24),itertools.cycle(['A','B','C']))]
    ,
    'grp2':list(np.repeat(['H','L'],repeats=12))
    ,
    'h':[16,17,16,12,17,16,
         17,18,19,19,20,19
        ,14,13,16,12,17,15
         ,17,18,16,18,16,17
        ]
    
})
19/60: df1
19/61: list(np.repeat(['H','H','L','L'],repeats=3))
19/62: list(np.repeat(['H','H','L','L'],repeats=3)*2)
19/63: list(np.repeat(['H','H','L','L'],repeats=3))*2
19/64:
df1 =  pd.DataFrame({
    'id':list(range(1,25))
     ,
    'gender':list(np.repeat(['Male','Female'],repeats=12))
    ,
    'grp1':[j for i ,j in zip(range(24),itertools.cycle(['A','B','C']))]
    ,
    'grp2':list(np.repeat(['H','H','L','L'],repeats=3))*2
    ,
    'h':[16,17,16,12,17,16,
         17,18,19,19,20,19
        ,14,13,16,12,17,15
         ,17,18,16,18,16,17
        ]
    
})
19/65: df1
19/66: hl=['H','L']
19/67: hl=['H','L']
19/68: np.array(hl)
19/69: np.array(hl).repeat(2)
19/70: np.array(hl).repeat(6)
19/71: np.array(hl).repeat(6).tile(2)
19/72: np.array(hl).repeat(6)
19/73: np.array(hl).repeat(2)
19/74: np.array(hl).repeat(6)
19/75: np.array(hl).repeat(6)*2
19/76: [np.array(hl).repeat(6)]*2
19/77: [*np.array(hl).repeat(6)]*2
21/1:
import numpy as np
import pandas as pd
import itertools
import functools
21/2: import string
21/3: letters=list(string.ascii_lowercase)
21/4:
df1 =  pd.DataFrame({
    'id':list(range(1,25))
     ,
    'gender':list(np.repeat(['Male','Female'],repeats=12))
    ,
    'grp1':[j for i ,j in zip(range(24),itertools.cycle(['A','B','C']))]
    ,
    'grp2':list(np.repeat(['H','H','L','L'],repeats=3))*2
    #[*np.array(['H','L']).repeat(6)]*2
    ,
    'h':[16,17,16,12,17,16,
         17,18,19,19,20,19
        ,14,13,16,12,17,15
         ,17,18,16,18,16,17
        ]
    
})
21/5: df1
21/6: df1.head(3)
21/7: df1.gender
21/8: df1.gender[1:3]
21/9: df1.gender[0:3]
21/10: df['gender']
21/11: df['gender',]
21/12: df1['gender',]
21/13: df1['gender']
21/14: df1['gender'][0:3]
21/15: df1[0:3]
21/16: df1.types
21/17: df1.dtypes
21/18: df1.columns
21/19: df1['gender']
21/20: df1['gender'][1:3]
21/21: df1['gender','id']
21/22: df1[['gender','id']
21/23: df1[['gender','id']]
21/24: df1[['gender','id']][1:3]
21/25: df1[['gender','id']][0:3]
21/26: df[[0,2,4]]
21/27: df1[[0,2,4]]
21/28: df1[range(0,10,2)]
21/29: df1[*range(0,10,2)]
21/30: df1[[range(0,10,2)]]
21/31: x=0:3
21/32: x= 0:3
21/33: type(0:3)
21/34: df1[slice(0,10)]
21/35: df1[slice(0,10,2)]
21/36: x=slice(0,10,2)
21/37: x=slice(0,10,2);type(x)
21/38: df1[i for i in [2,4,6]]
21/39: df1[[i for i in [2,4,6]]
21/40: df1[[i for i in [2,4,6]]]
21/41: df1[0:3]
21/42: df1[0:7:2]
21/43: df1[slice(0,7,2)]
21/44: df1[1]
21/45: df1[1,]
21/46: df1[1:2]
21/47: df1[(0,1,5)]
21/48: df1.__getitem__(3)
21/49: df1.[1,]
21/50: df1.loc[1,]
21/51: df1.loc[1]
21/52: df1.loc[1,2]
21/53: df1[0:2]
21/54: df1[0:2]
21/55: df1.loc[[0,2]]
21/56: df1.loc[[0,2]]
21/57: df1.iloc[[0,2]]
21/58: df1.loc[[0]]
21/59: df1.iloc[[0]]
21/60: df1.iloc[[1]]
21/61: df1.iloc[[0]]
21/62: df1.iloc[[0,2]]
21/63: df1.iloc[[0,2], 'gender']
21/64: df1.iloc[[0,2], 0]
21/65: df1.iloc[[0,2], [0,3]]
21/66: df1.iloc[[0,2,5], [0,3,1]]
21/67: df1.loc[[0,2]]
21/68: df1.loc[[0,2],[1,4]]
21/69: df1.loc[[0,2],['gender','h']]
21/70: df1.loc[[0,2],['gender','h','id']]
21/71: df1.iloc[[0],'h']
21/72: df1.iloc[[0,3],'h']
21/73: df1.iloc[[0,3], [1,2,3]]
21/74: df1.at[1]
21/75: df1.at[]
21/76: df1.at[1,1]
21/77: df1.at[1,'h']
21/78: df1[1,2]
21/79: df1[1,'h']
21/80: df1.at[0,'id']
21/81: 1:2
21/82: df1.at[0,'id']
21/83: df1.at[0:3,'id']
21/84: df1.at[1,'h']
21/85: df1.at[0,'id']
21/86: df1.at[1,'gender']
21/87: df1.iat[0,'id']
21/88: df1.iat[0,0]
21/89: df1.iat[1,2]
21/90: df1.iat[1,1]
21/91: df1.loc[[0,2],['id','grp2']]
21/92: df1.loc[[0,2],['id':'grp2']]
21/93: df1.loc[[0,2],'id':'grp2']
21/94: df1.at[,df1.columns in ['id']]
21/95: df1.at[df1.columns in ['id']]
21/96: df1[df1.columns in ['id']]
21/97: df1[,df1.columns in ['id']]
21/98: df1.columns in ['id']
21/99: df1.columns
21/100: df1.columns.get_value
21/101: df1.columns.get_value()
21/102: df1.columns
21/103: [df1.columns]
21/104: [*df1.columns]
21/105: [*df1.columns] in ['id','grp1']
21/106: *df1.columns in ['id','grp1']
21/107: df1[['id','gender']][1:3]
21/108: df1.head(3)
21/109: df1.shape()
21/110: df1.shape
21/111: df1[['gender','id']][0:3]
21/112: df1[['gender','id']].shape
21/113:
df1 =  pd.DataFrame({
    'id':list(range(1,25))
     ,
    'gender':list(np.repeat(['Male','Female'],repeats=12))
    ,
    'grp1':[j for i ,j in zip(range(24),itertools.cycle(['A','B','C']))]
    ,
    'grp2':list(np.repeat(['H','H','L','L'],repeats=3))*2
    #[*np.array(['H','L']).repeat(6)]*2
    ,
    'h':[16,17,16,12,17,16,
         17,18,19,19,20,19
        ,14,13,16,12,17,15
         ,17,18,16,18,16,17
        ]
    ,
    'w':[2.5,3,2.1,1.7,4.3,4.7
        ,5.1,4.8,6.4,6.3,8.5,5.5
        ,7.3,8.2,6.4,7.7,7.6,4.4
         ,6.1,6.7,5.2,6.7,5.4,6.3
        ]
    
})
21/114: df1.head(3)
21/115: df1.shape
21/116: df1.gender[1:3]
21/117: df1['gender'][1:3]
21/118: df1[['id','gender']][1:3]
21/119: df1[['gender','id']][0:3]
21/120: df1[['gender','id']].shape
21/121: df1[0:3]
21/122: df1[0:7:2]
21/123: df1[slice(0,7,2)]
21/124: x=slice(0,10,2);type(x)
21/125: df1[0:2]
21/126: df1.loc[[0]]
21/127: df1.loc[[0,2]]
21/128: df1.loc[[0,2],['gender','h']]
21/129: df1.loc[[0,2],['gender','h','id']]
21/130: df1.loc[[0,2],'id':'grp2']
21/131: df1.iloc[[0]]
21/132: df1.iloc[[0,2]]
21/133: df1.iloc[[0,2], 0]
21/134: df1.iloc[[0,2], [0,3]]
21/135: df1.iloc[[0,2,5], [0,3,1]]
21/136: df1.at[0,'id']
21/137: df1.at[1,'gender']
21/138: df1.iat[0,0]
21/139: df1.iat[1,1]
21/140: df1.dtypes
21/141: df1.columns
21/142: df1[,df1.columns in ['id']]
21/143: df1[df1['grp1'] in ['A','B']]
21/144: df1['grp1'] in ['A','B']
21/145: df1['grp1']
21/146: df1['grp1'][1]
21/147: df1['grp1'].filterer(['A','B'])
21/148: df1.filter('grp1',['A','B'])
21/149: df1[df1['grp1'].isin(['A','B'])]
21/150: df1[df1['grp1'].isin(['A','B','D'])]
21/151: df1[df1.columns.isin(['id','grp1','grp2'])]
21/152: df1.columns
21/153: df1.columns()
21/154: df1.columns.isin('grp1')
21/155: df1[:].columns.isin('grp1')
21/156: df1.columns.isin('grp1')
21/157: list(df1.columns).isin('grp1')
21/158: list(df1[0:0].columns).isin('grp1')
21/159: df1[0:0].columns.isin('grp1')
21/160: df2 = df1[df1.columns[df1.columns.isin(['grp1','id'])]]
21/161: df1.columns.isin(['grp1','id'])
21/162: df1.columns.isin(['id','grp1','grp2'])
21/163: df1.columns[df1.columns.isin(['grp1','id'])]]
21/164: df1.columns[df1.columns.isin(['grp1','id'])]
21/165: df1[df1.columns[df1.columns.isin(['grp1','id'])]]
21/166: pd.Index(['grp1','id'])
21/167: df1[pd.Index(['grp1','id'])]
21/168: df1[pd.Index(['grp1','id'])]
21/169: df1[df1["grp1"].notna()]
21/170: df1[df1["grp1"].na()]
21/171: df1[df1["grp1"].notnull()]
21/172: df1.loc[df1["id"] < 3, "grp1"]
21/173: df1.iloc[0:3, 2:4]
21/174: df1.iloc[0:3, 2:3]
21/175: df1.iloc[0:3, 2:4]
21/176: df1.iloc[0:3, 2:4]
21/177: df1.iloc[0:3, 3] = "anonymous"
21/178: df1.iloc[0:3, 3]
21/179:
df1 =  pd.DataFrame({
    'id':list(range(1,25))
     ,
    'gender':list(np.repeat(['Male','Female'],repeats=12))
    ,
    'grp1':[j for i ,j in zip(range(24),itertools.cycle(['A','B','C']))]
    ,
    'grp2':list(np.repeat(['H','H','L','L'],repeats=3))*2
    #[*np.array(['H','L']).repeat(6)]*2
    ,
    'h':[16,17,16,12,17,16,
         17,18,19,19,20,19
        ,14,13,16,12,17,15
         ,17,18,16,18,16,17
        ]
    ,
    'w':[2.5,3,2.1,1.7,4.3,4.7
        ,5.1,4.8,6.4,6.3,8.5,5.5
        ,7.3,8.2,6.4,7.7,7.6,4.4
         ,6.1,6.7,5.2,6.7,5.4,6.3
        ]
    
})
21/180: df1.iloc[0:3, 3]
21/181: df1.iloc[0:3, 1]
21/182: df1.iloc[0:3, 4]
21/183: df1.iloc[0:3, 4]==17
21/184: df1.iloc[0:3, 4]==17
21/185: df1[df1.iloc[0:3, 4]==17]
21/186: df1.Index(df1.iloc[0:3, 4]==17)
21/187: df1[df1.iloc[0:3, 4]==17]
21/188: df1.iloc[0:3, 4]==17
21/189: df1.iloc[4]==17
21/190: df1.Index(df1.iloc[0:3, 4]==17)
21/191: df1.Index(df1.iloc[0:3, 4]==17)
21/192: df1.Index(df1.iloc[:, 4]==17)
21/193: import matplotlib.pyplot as plt
21/194: df1.plot()
21/195: df1['hw']=df1['h']*df1['w']
21/196: df1['hw']
21/197: df1.head(4)
21/198:
df1.rename(
    columns={
        "id2": "id",
        "gen1": "gender"
    }
)
21/199:
df1.rename(
    columns={
        "id": "id2",
        "gender": "gen"
    }
)
21/200: df1
21/201:
df1.rename(
    columns={
        "id": "id2",
        "gender": "gen"
    }
)
21/202: df1
21/203:
df1.rename(
    columns={
        "id": "id2",
        "gender": "gen"
    }
).head()
21/204: df1.head()
21/205: df1[["h", "w"]].median()
21/206:
df1.agg(
    {
        "h": ["min", "max", "median", "skew"],
        "w": ["min", "max", "median", "mean"],
    }
)
21/207: df1.groupby("Sex").mean()
21/208: df1.groupby("gender").mean()
21/209: df1[['gender', 'h', 'w','hw']].groupby("gender").mean()
21/210: df1[['gender','grp1', 'h', 'w','hw']].groupby("gender").mean()
21/211: df1[['gender','grp1', 'h', 'w','hw']].groupby('gender','grp1').mean()
21/212: df1[['gender','grp1', 'h', 'w','hw']].groupby(['gender','grp1']).mean()
21/213: df1.groupby("gender").mean()
21/214: df1.groupby("gender").mean(numeric_only=True)
21/215: df1.groupby("gender").mean(numeric_only=True)
21/216: df1["gender"].value_counts()
21/217:
df1 =  pd.DataFrame({
    'id':list(range(1,25))
     ,
    'gender':list(np.repeat(['Male','Female'],repeats=12))
    ,
    'grp1':[j for i ,j in zip(range(24),itertools.cycle(['A','B','C']))]
    ,
    'grp2':list(np.repeat(['H','H','L','L'],repeats=3))*2
    #[*np.array(['H','L']).repeat(6)]*2
    ,
    'h':[16,17,16,12,17,16,
         17,18,19,19,20,19
        ,14,13,16,12,17,15
         ,17,18,16,18,16,17
        ]
    ,
    'w':[2.5,3,2.1,1.7,4.3,4.7
        ,5.1,4.8,6.4,6.3,8.5,5.5
        ,7.3,8.2,6.4,7.7,7.6,4.4
         ,6.1,6.7,5.2,6.7,5.4,6.3
        ]
    
})
21/218: df1['hw']=df1['h']*df1['w']
21/219: df1["gender"].value_counts()
21/220: df1.count()
21/221: df1.groupby(['gender']).count()
21/222: df1.groupby(['gender','grp1']).count()
21/223: df1.value_counts()
21/224: df1['gender'].value_counts()
21/225: df1['gender','grp1'].value_counts()
21/226: df1[['gender','grp1'].value_counts()
21/227: df1['gender','grp1'].value_counts()
21/228: df1['gender','grp2'].value_counts()
21/229: df1['grp2'].value_counts()
21/230: df1.sort_values(by="hw").head()
21/231: df1.sort_values(by="hw",False).head()
21/232: df1.sort_values(by="hw",1).head()
21/233: df1.sort_values(by="hw").head()
21/234: df1.sort_values(by="hw",ascending=False).head()
21/235: df1.sort_values(by=['h','hw'],ascending=False).head()
21/236: df1.sort_values(by=['h','gender'],ascending=False).head()
21/237: df1.sort_values(by=['h','gender'],ascending=False).head()
21/238: no2 = df1[df1["gender"] == "Male"]
21/239:  df1[df1["gender"] == "Male"]
21/240: no2 = df1[df1["gender"] == "Male"];no2
21/241: no2 = df1[df1["gender"] == "Male"];no2.head()
21/242: df1['gender'].uniqueque()
21/243: df1['gender'].unique()
21/244: df1[['gender','grp1']].unique()
21/245: df1['gender','grp1'].unique()
21/246: df1[['gender','grp1']].unique()
21/247: df1.groupby(['gender','grp1']).unique()
21/248: df1['gender','grp1'].groupby(['gender','grp1']).count()
21/249: df1['gender','grp1','id'].groupby(['gender','grp1']).count()
21/250: df1['gender','grp1','id'].groupby(['gender','grp1'])
21/251: df1[['gender','grp1','id']].groupby(['gender','grp1']).count()
21/252: df1[['gender','grp1']].groupby(['gender','grp1']).count()
21/253: df1[['gender','grp1']].groupby(['gender','grp1'])
21/254: df1[['gender','grp1']].groupby(['gender','grp1']).count()
21/255: distince1=df1[['gender','grp1']].groupby(['gender','grp1']);distinct1
21/256: distinct1=df1[['gender','grp1']].groupby(['gender','grp1']);distinct1
21/257: *distinct1
21/258: pd.DataFrame(distinct1)
21/259: distinct1=df1[['gender','grp1']].groupby(['gender','grp1']).count();distinct1
21/260: pd.DataFrame(distinct1)
21/261: pd.DataFrame(distinct1).reset_index()
21/262: pd.DataFrame(distinct1).reset_index()
21/263: pd.DataFrame(distinct1)
21/264: pd.DataFrame(distinct1).reset_index()
21/265: df1.groupby(["gender"]).head(2)
21/266: df1.groupby(["gender"])
21/267: df1.pivot(columns=['gender'],values='h')
21/268: df1.pivot(columns='gender',values='h')
21/269: df1.groupby('gender').pivot(columns='gender',values='h')
21/270: df1.groupby(['gender']).pivot(columns='gender',values='h')
21/271: df1.groupby(['gender']).pivot(values='h')
21/272: df1.groupby(['gender']).count()
21/273: df1.groupby(['gender','grp1']).pivot(columns='gender',values='h')
21/274: df1.groupby(['gender','grp1']).pivot(columns=['gender'],values='h')
21/275: df1.groupby(['gender']).pivot(columns=['gender'],values='h')
21/276: df1.pivot(columns=['gender'],values='h')
21/277: df1.pivot(columns=['gender','grp1'],values='h')
21/278: df1.pivot(columns=['gender'],values='h')
21/279: df1.groupby(['gender']).pivot(columns=['gender'],values='h')
21/280: df1.pivot_table(columns=['gender'],values='h')
21/281: df1.pivot_table(columns=['gender','grp1'],values='h')
21/282: df1.pivot_table(columns=['gender'],values='h',aggfunc='sum')
21/283: df1.pivot_table(columns=['gender'],values='h',aggfunc=lambda x: sum(x))
21/284: df1.pivot_table(columns=['gender'],values='h',aggfunc='sum')
21/285: df1.pivot_table(columns=['gender','grp1'],values='h')
21/286: df1.groupby(['gender']).pivot_table(columns=['grp1'],values='h')
21/287: df1.pivot_table(index=['gender'],columns=['grp1'],values='h')
21/288: df1.pivot_table(index=['gender'],columns=['grp1'],values='h',aggfunc=lambda x: min(x))
21/289: df1.pivot_table(index=['gender','grp2'],columns=['grp1'],values='h',aggfunc=lambda x: min(x))
24/1: df1[['gender','grp1']].unique()
24/2: df1.pivot(columns=['gender'],values='h')
24/3:
import numpy as np
import pandas as pd
import itertools
import functools
24/4: import string
24/5: letters=list(string.ascii_lowercase)
24/6:
df1 =  pd.DataFrame({
    'id':list(range(1,25))
     ,
    'gender':list(np.repeat(['Male','Female'],repeats=12))
    ,
    'grp1':[j for i ,j in zip(range(24),itertools.cycle(['A','B','C']))]
    ,
    'grp2':list(np.repeat(['H','H','L','L'],repeats=3))*2
    #[*np.array(['H','L']).repeat(6)]*2
    ,
    'h':[16,17,16,12,17,16,
         17,18,19,19,20,19
        ,14,13,16,12,17,15
         ,17,18,16,18,16,17
        ]
    ,
    'w':[2.5,3,2.1,1.7,4.3,4.7
        ,5.1,4.8,6.4,6.3,8.5,5.5
        ,7.3,8.2,6.4,7.7,7.6,4.4
         ,6.1,6.7,5.2,6.7,5.4,6.3
        ]
    
})
24/7: df1.pivot(columns=['gender'],values='h')
24/8: pd.DataFrame(distinct1).reset_index()
24/9: df1[['gender','grp1']].unique()
24/10: df1['gender'].unique()
24/11: df1.groupby(['gender','grp1']).size().reset_index().rename(columns={0:'count'})
24/12: df1.groupby(['gender','grp1']).size().reset_index()
24/13: df1.groupby(['gender','grp1']).size()
24/14: df1.groupby(['gender','grp1']).size().reset_index().rename(columns={0:'count'})
24/15: df1.groupby(['gender','grp1']).size().reset_index()
24/16: df1.groupby(['gender','grp1']).size().reset_index().rename(columns={0:'count'})
24/17: df[['gender','grp1']].value_counts()
24/18: df1[['gender','grp1']].value_counts()
24/19: df1[['gender','grp1']].value_counts()
24/20: df1[['gender','grp1']].size()
24/21: df1[['gender','grp1']].value_counts().reset_index()
24/22: df1[['gender','grp1']].value_counts().reset_index().iloc(['gender','grp1'])
24/23: df1[['gender','grp1']].value_counts().reset_index()['gender','grp1']
24/24: df1[['gender','grp1']].value_counts().reset_index()[['gender','grp1']]
24/25: pd.DataFrame(distinct1).reset_index()
24/26: distinct1=df1[['gender','grp1']].groupby(['gender','grp1']).count();distinct1
24/27: pd.DataFrame(distinct1)
24/28: pd.DataFrame(distinct1).reset_index()
24/29: df1.pivot(columns=['gender'],values='h')
24/30: df1.pivot_table(columns=['gender'],values='h')
24/31: df1.pivot_table(columns=['gender'],values='h',aggfunc='sum')
24/32: df1.pivot_table(columns=['gender'],values='h',aggfunc=lambda x: sum(x))
24/33: df1.pivot_table(columns=['gender','grp1'],values='h')
24/34: df1.pivot_table(index=['gender'],columns=['grp1'],values='h')
24/35: df1.pivot_table(index=['gender','grp2'],columns=['grp1'],values='h',aggfunc=lambda x: min(x))
24/36: pw=df1.pivot_table(columns=['gender','grp1'],values='h')
24/37: pw=df1.pivot_table(columns=['gender','grp1'],values='h')
24/38: pw
24/39: pw=pw.pivot_table(index'gender',values='h')
24/40: pw=pw.pivot_table(index='gender',values='h')
24/41: pw=pw.pivot_table(columns='gender',values='h')
24/42: pw=df1.pivot_table(columns=['gender','grp1'],values='h')
24/43: pw
24/44: pw=pw.pivot(columns='gender',values='h')
24/45: pw=pw.melt(id_vars='gender', value_vars=['Female', 'Male'])
24/46: pw=df1.pivot_table(columns=['gender','grp1'],values='h').reset_index()
24/47: pw
24/48: pw=df1.pivot_table(columns=['gender','grp1'],values='h')
24/49: pw
24/50: pw=pw.melt(id_vars='h', value_vars=['gender'])
24/51: pw.colnames
24/52: pw=df1.pivot_table(columns=['gender','grp1'],values='h')
24/53: pw.columns
24/54: pw=df1.pivot_table(columns=['gender'],values='h')
24/55: pw.columns
24/56: pw
24/57: pw=df1.pivot_table(index=['gender','grp2'],columns=['grp1'],values='h',aggfunc=lambda x: min(x))
24/58: pw
24/59: pw=pw.melt(id_vars=['gender','grp2'], value_vars=['A','B','C'])
24/60: pw.melt(id_vars=['gender','grp2'], value_vars=['A','B','C'])
24/61: print(pw);print(pw.columns)
24/62: pw=df1.pivot_table(index=['gender','grp2'],columns=['grp1'],values='h',aggfunc=lambda x: min(x))
24/63: pw.resetIndex().melt(id_vars=['gender','grp2'], value_vars=['A','B','C'])
24/64: pw.melt(id_vars=['gender','grp2'], value_vars=['A','B','C'])
24/65: pw.melt(id_vars=[('gender','grp2')], value_vars=['A','B','C'])
24/66: pw.melt(id_vars=['gender'], value_vars=['A','B','C'])
24/67: pw.melt(id_vars=['grp1'], value_vars=['A','B','C'])
24/68: pw.melt(id_vars=['grp2'], value_vars=['A','B','C'])
24/69: pw.melt(id_vars=['grp2'], value_vars=['A','B','C'])
24/70: pw.melt(id_vars=['grp22'], value_vars=['A','B','C'])
24/71: print(pw);print(pw.columns);pw=pw.reset_index()
24/72: pw.melt(id_vars=['grp22'], value_vars=['A','B','C'])
24/73: pw.melt(id_vars=['grp2'], value_vars=['A','B','C'])
24/74: pw.melt(id_vars=['gender','grp2'], value_vars=['A','B','C'])
24/75: pw.melt(id_vars=['gender','grp2'], value_vars=['A','B','C'],value_name="NO_2")
24/76: pw.melt(id_vars=['gender','grp2'], value_vars=['A','B','C'],value_name="NO_2",var_name="id_location")
24/77: pw2=df1.pivot_table(index=['gender'],columns=['grp1','grp2'],values='h')
24/78: pw2=df1.pivot_table(index=['gender'],columns=['grp1','grp2'],values='h');pw2
24/79: pw.melt(id_vars=['gender','grp2'], value_vars=['A','B','C'],value_name="NO_2",var_name="id_new")
24/80: pw2.columns
24/81: pw2.melt(id_vars=['gender','grp2','grp2'], value_vars=['A','B','C'],value_name="NO_2",var_name="id_new")
24/82: pw2.melt(id_vars=['gender','grp2','grp2'])
24/83: pw2.melt(id_vars=['gender'])
24/84: pw2=df1.pivot_table(index=['gender'],columns=['grp1','grp2'],values='h');pw2=pw2.resetIndex();pw2
24/85: pw2=df1.pivot_table(index=['gender'],columns=['grp1','grp2'],values='h');pw2=pw2.resetindex();pw2
24/86: pw2=df1.pivot_table(index=['gender'],columns=['grp1','grp2'],values='h');pw2=pw2.reset_index();pw2
24/87: pw2.columns
24/88: pw2.melt(id_vars=['gender'])
24/89: vpw2.melt(id_vars=['gender'] ,value_vars=['A','B','C']
24/90: pw2.melt(id_vars=['gender'] ,value_vars=['A','B','C']
24/91: pw2.columns
24/92: pw2.melt(id_vars=['gender'] ,value_vars=[('A', 'H'):('C', 'L')]
24/93: pw2.melt(id_vars=['gender'] , value_vars=['grp1']
24/94: pw2.melt(id_vars=['gender'] , value_vars=['grp1','grp2']
24/95: pw2.melt(id_vars=['gender'] , value_vars=['grp1','grp2'])
24/96: pw2.melt(id_vars=['gender'] )
24/97: pw2.melt(id_vars=['gender'], value_vars=['grp1','grp2'] )
24/98: pw2.melt(id_vars=['gender','grp1'], value_vars=['grp1','grp2'] )
24/99: pw2.melt(id_vars=['gender','grp1'] )
24/100: pw2.melt(id_vars=['gender','grp1'])
24/101: pw2.melt(id_vars=['gender'], value_vars=['grp1','grp2'])
24/102: pw2.columns.names
24/103: type(pw2.columns)
24/104: pw2.columns.names()
24/105: pw2.columns.names
24/106: pw2.columns.gender
24/107: pw2.columns[1]
24/108: pw2.columns[1:]
24/109: pw2.columns[1:6]
24/110: pw2.columns[1:7]
24/111: pw2.columns[0:7]
24/112: pw2.columns[1]
24/113: pw2.melt(id_vars=['gender'])
24/114: pw2=df1.pivot_table(index=['gender'],columns=['grp1','grp2'],values='h');pw2=pw2.reset_index();pw2
24/115: pw2.melt(id_vars=['gender'], value_vars=['grp1'])
24/116: pw2.columns
24/117: pw2.concate
24/118: pdconcate
24/119: pd.concate
24/120: pd.concat
24/121: pd.concat(pw2,pw2)
24/122: pd.concat([pw2,pw2])
24/123: pw2
24/124: pw2
24/125: pd.concat([pw2,pw2])
24/126: pw.columns
24/127: pw.gender
24/128: pw
24/129: df1.columns
24/130: df1
24/131: df1['gender'].srt
24/132: df1['gender'].srt.lower()
24/133: df1['gender'].str
24/134: df1['gender'].str.lower()
24/135: df1['gender'].str.split('fe')
24/136: df1['gender'].str.split('MALE')
24/137: df1['gender'].str.split('M')
24/138: df1['gender'].str.split('M',"M")
24/139: df1['gender'].str.contains("f")
24/140: df1['gender'].str.contains("F")
24/141: df1['gender'].str.contains("f")
24/142: df1['gender'].str.lower().contains("f")
24/143: df1['gender'].str.lowers().contains("f")
24/144: df1['gender'].str.lower().contains("f")
24/145: df1['gender'].str.lower()
24/146: df1['gender'].str.lower().contains("f")
24/147: [df1['gender'].str.lower()].contains("f")
24/148: df1['gender'].str.len()
24/149: df1['gender'].str.len().idxmax()
24/150: df1["Sex_short"] = df1["gender"].replace({"Male": "M", "Female": "F"})
24/151: df1
24/152: df1["gender_lowercase"] = df1["gender"].replace({"M": "m", "F": "f"})
24/153: df1
24/154: df1["gender_lowercase"] = df1["gender"].replace({"Male": "male", "Female": "female"})
24/155: df1
24/156: df1
32/1: %history
   1: %history -g -f notebook_file.ipynb
   2: history -g -f
   3: history -g -f "data frame part 1.ipynb"
   4: history -g -f "h1.ipynb"
