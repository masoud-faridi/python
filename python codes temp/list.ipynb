{
 "cells": [
  {
   "cell_type": "code",
   "execution_count": 44,
   "id": "1268d1a0",
   "metadata": {},
   "outputs": [
    {
     "name": "stdout",
     "output_type": "stream",
     "text": [
      "x:[[1, -7]] s:[[1, -7], [1, -7]]\n"
     ]
    }
   ],
   "source": [
    "x=[[1,2]]\n",
    "s= x + x \n",
    "s[1][1]=-7\n",
    "print('x:{} s:{}'.format(x,s))"
   ]
  },
  {
   "cell_type": "code",
   "execution_count": 48,
   "id": "93fdb1d1",
   "metadata": {},
   "outputs": [
    {
     "name": "stdout",
     "output_type": "stream",
     "text": [
      "x:[[1, -7]] s:[[1, -7], [1, -7]]\n"
     ]
    }
   ],
   "source": [
    "x=[[1,2]];  s= x + x;  s[1][1]=-7\n",
    "print('x:{} s:{}'.format(x,s))"
   ]
  },
  {
   "cell_type": "code",
   "execution_count": 49,
   "id": "19604a00",
   "metadata": {},
   "outputs": [
    {
     "name": "stdout",
     "output_type": "stream",
     "text": [
      "x:[[1, -7]] s:[[1, -7], [1, -7]]\n"
     ]
    }
   ],
   "source": [
    "x=[[1,2]];s= x + x;s[1][1]=-7\n",
    "print('x:{} s:{}'.format(x,s))"
   ]
  },
  {
   "cell_type": "code",
   "execution_count": 50,
   "id": "640c8002",
   "metadata": {},
   "outputs": [],
   "source": [
    "from dis import dis"
   ]
  },
  {
   "cell_type": "code",
   "execution_count": 54,
   "id": "a8a31882",
   "metadata": {},
   "outputs": [
    {
     "name": "stdout",
     "output_type": "stream",
     "text": [
      "  1           0 LOAD_CONST               0 ((1, 2))\n",
      "              2 RETURN_VALUE\n"
     ]
    }
   ],
   "source": [
    "dis(compile('(1,2)','string','eval'))"
   ]
  },
  {
   "cell_type": "code",
   "execution_count": 55,
   "id": "8a21497f",
   "metadata": {},
   "outputs": [
    {
     "name": "stdout",
     "output_type": "stream",
     "text": [
      "  1           0 LOAD_CONST               0 (1)\n",
      "              2 LOAD_CONST               1 (2)\n",
      "              4 BUILD_LIST               2\n",
      "              6 RETURN_VALUE\n"
     ]
    }
   ],
   "source": [
    "dis(compile('[1,2]','string','eval'))"
   ]
  },
  {
   "cell_type": "code",
   "execution_count": 56,
   "id": "23373078",
   "metadata": {},
   "outputs": [],
   "source": [
    "from timeit import timeit"
   ]
  },
  {
   "cell_type": "code",
   "execution_count": 60,
   "id": "c6ea99c1",
   "metadata": {},
   "outputs": [
    {
     "data": {
      "text/plain": [
       "0.4500102000311017"
      ]
     },
     "execution_count": 60,
     "metadata": {},
     "output_type": "execute_result"
    }
   ],
   "source": [
    "timeit('x=[1,2]',number=10_000_000)"
   ]
  },
  {
   "cell_type": "code",
   "execution_count": 61,
   "id": "f64624be",
   "metadata": {},
   "outputs": [
    {
     "data": {
      "text/plain": [
       "0.1483565000235103"
      ]
     },
     "execution_count": 61,
     "metadata": {},
     "output_type": "execute_result"
    }
   ],
   "source": [
    "timeit('x=(1,2)',number=10_000_000)"
   ]
  },
  {
   "cell_type": "code",
   "execution_count": 64,
   "id": "315f78ab",
   "metadata": {},
   "outputs": [],
   "source": [
    "x=[1,2,3]"
   ]
  },
  {
   "cell_type": "code",
   "execution_count": 65,
   "id": "ead5de10",
   "metadata": {},
   "outputs": [],
   "source": [
    "s=x.copy()"
   ]
  },
  {
   "cell_type": "code",
   "execution_count": 66,
   "id": "be09452c",
   "metadata": {},
   "outputs": [
    {
     "data": {
      "text/plain": [
       "1912425600832"
      ]
     },
     "execution_count": 66,
     "metadata": {},
     "output_type": "execute_result"
    }
   ],
   "source": [
    "id(x)"
   ]
  },
  {
   "cell_type": "code",
   "execution_count": 67,
   "id": "e15d35ef",
   "metadata": {},
   "outputs": [
    {
     "data": {
      "text/plain": [
       "1912410266752"
      ]
     },
     "execution_count": 67,
     "metadata": {},
     "output_type": "execute_result"
    }
   ],
   "source": [
    "id(s)"
   ]
  },
  {
   "cell_type": "code",
   "execution_count": 73,
   "id": "faf6d4c8",
   "metadata": {},
   "outputs": [],
   "source": [
    "x=[1,2]"
   ]
  },
  {
   "cell_type": "code",
   "execution_count": 74,
   "id": "b58a9717",
   "metadata": {},
   "outputs": [],
   "source": [
    "y=x"
   ]
  },
  {
   "cell_type": "code",
   "execution_count": 75,
   "id": "2c08bfeb",
   "metadata": {},
   "outputs": [
    {
     "data": {
      "text/plain": [
       "1912429290688"
      ]
     },
     "execution_count": 75,
     "metadata": {},
     "output_type": "execute_result"
    }
   ],
   "source": [
    "id(x)"
   ]
  },
  {
   "cell_type": "code",
   "execution_count": 76,
   "id": "5992511f",
   "metadata": {},
   "outputs": [
    {
     "data": {
      "text/plain": [
       "1912429290688"
      ]
     },
     "execution_count": 76,
     "metadata": {},
     "output_type": "execute_result"
    }
   ],
   "source": [
    "id(y)"
   ]
  },
  {
   "cell_type": "code",
   "execution_count": 78,
   "id": "f6fe10a7",
   "metadata": {},
   "outputs": [],
   "source": [
    "y[1]=5"
   ]
  },
  {
   "cell_type": "code",
   "execution_count": 79,
   "id": "a6cff103",
   "metadata": {},
   "outputs": [
    {
     "data": {
      "text/plain": [
       "[1, 5]"
      ]
     },
     "execution_count": 79,
     "metadata": {},
     "output_type": "execute_result"
    }
   ],
   "source": [
    "x"
   ]
  },
  {
   "cell_type": "code",
   "execution_count": 80,
   "id": "1a386731",
   "metadata": {},
   "outputs": [
    {
     "data": {
      "text/plain": [
       "[1, 5]"
      ]
     },
     "execution_count": 80,
     "metadata": {},
     "output_type": "execute_result"
    }
   ],
   "source": [
    "y"
   ]
  },
  {
   "cell_type": "code",
   "execution_count": 81,
   "id": "9a5956d3",
   "metadata": {},
   "outputs": [],
   "source": [
    "x=[[1,2]]"
   ]
  },
  {
   "cell_type": "code",
   "execution_count": 82,
   "id": "a30caf9e",
   "metadata": {},
   "outputs": [],
   "source": [
    "x=2*x"
   ]
  },
  {
   "cell_type": "code",
   "execution_count": 83,
   "id": "79b8cea8",
   "metadata": {},
   "outputs": [
    {
     "data": {
      "text/plain": [
       "[[1, 2], [1, 2]]"
      ]
     },
     "execution_count": 83,
     "metadata": {},
     "output_type": "execute_result"
    }
   ],
   "source": [
    "x"
   ]
  },
  {
   "cell_type": "code",
   "execution_count": 84,
   "id": "bee7bbe3",
   "metadata": {},
   "outputs": [],
   "source": [
    "y=x.copy()"
   ]
  },
  {
   "cell_type": "code",
   "execution_count": 85,
   "id": "a1e35f6b",
   "metadata": {},
   "outputs": [
    {
     "data": {
      "text/plain": [
       "[[1, 2], [1, 2]]"
      ]
     },
     "execution_count": 85,
     "metadata": {},
     "output_type": "execute_result"
    }
   ],
   "source": [
    "y"
   ]
  },
  {
   "cell_type": "code",
   "execution_count": 86,
   "id": "34098881",
   "metadata": {},
   "outputs": [],
   "source": [
    "x[1][1]=-100"
   ]
  },
  {
   "cell_type": "code",
   "execution_count": 87,
   "id": "171d8530",
   "metadata": {},
   "outputs": [
    {
     "data": {
      "text/plain": [
       "[[1, -100], [1, -100]]"
      ]
     },
     "execution_count": 87,
     "metadata": {},
     "output_type": "execute_result"
    }
   ],
   "source": [
    "x"
   ]
  },
  {
   "cell_type": "code",
   "execution_count": 88,
   "id": "75e8f77e",
   "metadata": {},
   "outputs": [
    {
     "data": {
      "text/plain": [
       "[[1, -100], [1, -100]]"
      ]
     },
     "execution_count": 88,
     "metadata": {},
     "output_type": "execute_result"
    }
   ],
   "source": [
    "y"
   ]
  },
  {
   "cell_type": "code",
   "execution_count": 94,
   "id": "1c7ef63e",
   "metadata": {},
   "outputs": [],
   "source": [
    "x=[1,[2,3]]"
   ]
  },
  {
   "cell_type": "code",
   "execution_count": 95,
   "id": "80dbd28f",
   "metadata": {},
   "outputs": [],
   "source": [
    "y=x.copy()"
   ]
  },
  {
   "cell_type": "code",
   "execution_count": 96,
   "id": "3e3f1efb",
   "metadata": {},
   "outputs": [],
   "source": [
    "y[0]=10"
   ]
  },
  {
   "cell_type": "code",
   "execution_count": 97,
   "id": "000c5eb7",
   "metadata": {},
   "outputs": [
    {
     "data": {
      "text/plain": [
       "[1, [2, 3]]"
      ]
     },
     "execution_count": 97,
     "metadata": {},
     "output_type": "execute_result"
    }
   ],
   "source": [
    "x"
   ]
  },
  {
   "cell_type": "code",
   "execution_count": 99,
   "id": "3894071b",
   "metadata": {},
   "outputs": [
    {
     "data": {
      "text/plain": [
       "[10, [2, 3]]"
      ]
     },
     "execution_count": 99,
     "metadata": {},
     "output_type": "execute_result"
    }
   ],
   "source": [
    "y"
   ]
  },
  {
   "cell_type": "code",
   "execution_count": 100,
   "id": "0e1190e1",
   "metadata": {},
   "outputs": [],
   "source": [
    "y[1][0]=-8"
   ]
  },
  {
   "cell_type": "code",
   "execution_count": 101,
   "id": "7e43e995",
   "metadata": {},
   "outputs": [
    {
     "data": {
      "text/plain": [
       "[1, [-8, 3]]"
      ]
     },
     "execution_count": 101,
     "metadata": {},
     "output_type": "execute_result"
    }
   ],
   "source": [
    "x"
   ]
  },
  {
   "cell_type": "code",
   "execution_count": 102,
   "id": "76c41390",
   "metadata": {},
   "outputs": [
    {
     "data": {
      "text/plain": [
       "[10, [-8, 3]]"
      ]
     },
     "execution_count": 102,
     "metadata": {},
     "output_type": "execute_result"
    }
   ],
   "source": [
    "y"
   ]
  },
  {
   "cell_type": "code",
   "execution_count": 125,
   "id": "9bd9ecef",
   "metadata": {},
   "outputs": [],
   "source": [
    "x=list(range(0,4))"
   ]
  },
  {
   "cell_type": "code",
   "execution_count": 126,
   "id": "5adec447",
   "metadata": {},
   "outputs": [
    {
     "data": {
      "text/plain": [
       "[0, 1, 2, 3]"
      ]
     },
     "execution_count": 126,
     "metadata": {},
     "output_type": "execute_result"
    }
   ],
   "source": [
    "x"
   ]
  },
  {
   "cell_type": "code",
   "execution_count": 129,
   "id": "3b345fbf",
   "metadata": {},
   "outputs": [
    {
     "data": {
      "text/plain": [
       "[3]"
      ]
     },
     "execution_count": 129,
     "metadata": {},
     "output_type": "execute_result"
    }
   ],
   "source": [
    "x[3:]"
   ]
  },
  {
   "cell_type": "code",
   "execution_count": 134,
   "id": "2fa7f8f4",
   "metadata": {},
   "outputs": [
    {
     "data": {
      "text/plain": [
       "[3]"
      ]
     },
     "execution_count": 134,
     "metadata": {},
     "output_type": "execute_result"
    }
   ],
   "source": [
    "x[3:-2:-1]"
   ]
  },
  {
   "cell_type": "code",
   "execution_count": 135,
   "id": "b2698dda",
   "metadata": {},
   "outputs": [
    {
     "data": {
      "text/plain": [
       "[3, 2, 1, 0]"
      ]
     },
     "execution_count": 135,
     "metadata": {},
     "output_type": "execute_result"
    }
   ],
   "source": [
    "x[3:-10:-1]"
   ]
  },
  {
   "cell_type": "code",
   "execution_count": 153,
   "id": "904abffd",
   "metadata": {},
   "outputs": [
    {
     "data": {
      "text/plain": [
       "(3, 1, -1)"
      ]
     },
     "execution_count": 153,
     "metadata": {},
     "output_type": "execute_result"
    }
   ],
   "source": [
    "slice(5,1,-1).indices(len(x))"
   ]
  },
  {
   "cell_type": "code",
   "execution_count": 151,
   "id": "ba9905db",
   "metadata": {},
   "outputs": [
    {
     "data": {
      "text/plain": [
       "4"
      ]
     },
     "execution_count": 151,
     "metadata": {},
     "output_type": "execute_result"
    }
   ],
   "source": [
    "len(x)"
   ]
  },
  {
   "cell_type": "code",
   "execution_count": 155,
   "id": "a2209129",
   "metadata": {},
   "outputs": [
    {
     "data": {
      "text/plain": [
       "[8, 7]"
      ]
     },
     "execution_count": 155,
     "metadata": {},
     "output_type": "execute_result"
    }
   ],
   "source": [
    "list(range(*slice(8,-4,-1).indices(10)))"
   ]
  },
  {
   "cell_type": "code",
   "execution_count": 156,
   "id": "3eec65d3",
   "metadata": {},
   "outputs": [
    {
     "data": {
      "text/plain": [
       "[0, 1, 2, 3]"
      ]
     },
     "execution_count": 156,
     "metadata": {},
     "output_type": "execute_result"
    }
   ],
   "source": [
    "list(range(*slice(0,4,1).indices(10)))"
   ]
  },
  {
   "cell_type": "code",
   "execution_count": 157,
   "id": "e06b5d79",
   "metadata": {},
   "outputs": [
    {
     "data": {
      "text/plain": [
       "[0, 1, 2, 3, 4, 5, 6, 7, 8, 9]"
      ]
     },
     "execution_count": 157,
     "metadata": {},
     "output_type": "execute_result"
    }
   ],
   "source": [
    "list(range(*slice(0,30,1).indices(10)))"
   ]
  },
  {
   "cell_type": "code",
   "execution_count": 158,
   "id": "d0db3aef",
   "metadata": {},
   "outputs": [
    {
     "data": {
      "text/plain": [
       "[0, 1, 2, 3, 4, 5, 6, 7, 8, 9, 10]"
      ]
     },
     "execution_count": 158,
     "metadata": {},
     "output_type": "execute_result"
    }
   ],
   "source": [
    "list(range(*slice(0,30,1).indices(11)))"
   ]
  },
  {
   "cell_type": "code",
   "execution_count": 162,
   "id": "b8403583",
   "metadata": {},
   "outputs": [
    {
     "data": {
      "text/plain": [
       "[]"
      ]
     },
     "execution_count": 162,
     "metadata": {},
     "output_type": "execute_result"
    }
   ],
   "source": [
    "list(range(*slice(1,8,-1).indices(6)))"
   ]
  },
  {
   "cell_type": "code",
   "execution_count": 166,
   "id": "70e5e9d0",
   "metadata": {},
   "outputs": [
    {
     "data": {
      "text/plain": [
       "[5]"
      ]
     },
     "execution_count": 166,
     "metadata": {},
     "output_type": "execute_result"
    }
   ],
   "source": [
    "list(range(*slice(8,4,-1).indices(6)))"
   ]
  },
  {
   "cell_type": "code",
   "execution_count": 167,
   "id": "66868390",
   "metadata": {},
   "outputs": [
    {
     "data": {
      "text/plain": [
       "(5, 4, -1)"
      ]
     },
     "execution_count": 167,
     "metadata": {},
     "output_type": "execute_result"
    }
   ],
   "source": [
    "slice(8,4,-1).indices(6)\n"
   ]
  },
  {
   "cell_type": "code",
   "execution_count": 168,
   "id": "d66f91c8",
   "metadata": {},
   "outputs": [
    {
     "data": {
      "text/plain": [
       "(5, 5, -1)"
      ]
     },
     "execution_count": 168,
     "metadata": {},
     "output_type": "execute_result"
    }
   ],
   "source": [
    "slice(8,4,-1).indices(6)"
   ]
  },
  {
   "cell_type": "code",
   "execution_count": 170,
   "id": "69549f6d",
   "metadata": {},
   "outputs": [
    {
     "data": {
      "text/plain": [
       "range(5, 4, -1)"
      ]
     },
     "execution_count": 170,
     "metadata": {},
     "output_type": "execute_result"
    }
   ],
   "source": [
    "range(*slice(8,4,-1).indices(6))"
   ]
  },
  {
   "cell_type": "code",
   "execution_count": 171,
   "id": "d5f913fc",
   "metadata": {},
   "outputs": [
    {
     "data": {
      "text/plain": [
       "[5]"
      ]
     },
     "execution_count": 171,
     "metadata": {},
     "output_type": "execute_result"
    }
   ],
   "source": [
    "list(range(*slice(8,4,-1).indices(6)))"
   ]
  },
  {
   "cell_type": "code",
   "execution_count": 194,
   "id": "458d7564",
   "metadata": {},
   "outputs": [
    {
     "data": {
      "text/plain": [
       "[]"
      ]
     },
     "execution_count": 194,
     "metadata": {},
     "output_type": "execute_result"
    }
   ],
   "source": [
    "list(range(*slice(11,,-1).indices(6)))"
   ]
  },
  {
   "cell_type": "code",
   "execution_count": 195,
   "id": "f1015f51",
   "metadata": {},
   "outputs": [
    {
     "data": {
      "text/plain": [
       "[5, 4, 3, 2, 1, 0]"
      ]
     },
     "execution_count": 195,
     "metadata": {},
     "output_type": "execute_result"
    }
   ],
   "source": [
    "list(range(*slice(-1,-16,-1).indices(6)))"
   ]
  },
  {
   "cell_type": "code",
   "execution_count": 210,
   "id": "f1d04c3f",
   "metadata": {},
   "outputs": [],
   "source": [
    "x=list(range(0,11))"
   ]
  },
  {
   "cell_type": "code",
   "execution_count": 203,
   "id": "5abe75c9",
   "metadata": {},
   "outputs": [],
   "source": [
    "y=tuple(x)"
   ]
  },
  {
   "cell_type": "code",
   "execution_count": 207,
   "id": "7b820f63",
   "metadata": {},
   "outputs": [],
   "source": [
    "index=[0,2,6]"
   ]
  },
  {
   "cell_type": "code",
   "execution_count": 208,
   "id": "864fe7cf",
   "metadata": {},
   "outputs": [
    {
     "ename": "TypeError",
     "evalue": "tuple indices must be integers or slices, not list",
     "output_type": "error",
     "traceback": [
      "\u001b[1;31m---------------------------------------------------------------------------\u001b[0m",
      "\u001b[1;31mTypeError\u001b[0m                                 Traceback (most recent call last)",
      "Cell \u001b[1;32mIn[208], line 1\u001b[0m\n\u001b[1;32m----> 1\u001b[0m \u001b[43my\u001b[49m\u001b[43m[\u001b[49m\u001b[43mindex\u001b[49m\u001b[43m]\u001b[49m\n",
      "\u001b[1;31mTypeError\u001b[0m: tuple indices must be integers or slices, not list"
     ]
    }
   ],
   "source": [
    "y[index]"
   ]
  },
  {
   "cell_type": "code",
   "execution_count": 209,
   "id": "ad6b7c21",
   "metadata": {},
   "outputs": [],
   "source": [
    "def index_TF(x,index=[True]):\n",
    "    if(len(index)<len(x)):\n",
    "        index_final=list(itertools.islice(itertools.cycle(index), len(x)))\n",
    "    else:\n",
    "        index_final=index[:len(x)]\n",
    "    return [x[i] for i in list(which_is_true(index_final))]"
   ]
  },
  {
   "cell_type": "code",
   "execution_count": 211,
   "id": "1edd65a8",
   "metadata": {},
   "outputs": [
    {
     "ename": "NameError",
     "evalue": "name 'itertools' is not defined",
     "output_type": "error",
     "traceback": [
      "\u001b[1;31m---------------------------------------------------------------------------\u001b[0m",
      "\u001b[1;31mNameError\u001b[0m                                 Traceback (most recent call last)",
      "Cell \u001b[1;32mIn[211], line 1\u001b[0m\n\u001b[1;32m----> 1\u001b[0m \u001b[43mindex_TF\u001b[49m\u001b[43m(\u001b[49m\u001b[43mx\u001b[49m\u001b[43m,\u001b[49m\u001b[43m[\u001b[49m\u001b[38;5;28;43;01mTrue\u001b[39;49;00m\u001b[43m,\u001b[49m\u001b[38;5;28;43;01mTrue\u001b[39;49;00m\u001b[43m,\u001b[49m\u001b[38;5;28;43;01mFalse\u001b[39;49;00m\u001b[43m]\u001b[49m\u001b[43m)\u001b[49m\n",
      "Cell \u001b[1;32mIn[209], line 3\u001b[0m, in \u001b[0;36mindex_TF\u001b[1;34m(x, index)\u001b[0m\n\u001b[0;32m      1\u001b[0m \u001b[38;5;28;01mdef\u001b[39;00m \u001b[38;5;21mindex_TF\u001b[39m(x,index\u001b[38;5;241m=\u001b[39m[\u001b[38;5;28;01mTrue\u001b[39;00m]):\n\u001b[0;32m      2\u001b[0m     \u001b[38;5;28;01mif\u001b[39;00m(\u001b[38;5;28mlen\u001b[39m(index)\u001b[38;5;241m<\u001b[39m\u001b[38;5;28mlen\u001b[39m(x)):\n\u001b[1;32m----> 3\u001b[0m         index_final\u001b[38;5;241m=\u001b[39m\u001b[38;5;28mlist\u001b[39m(\u001b[43mitertools\u001b[49m\u001b[38;5;241m.\u001b[39mislice(itertools\u001b[38;5;241m.\u001b[39mcycle(index), \u001b[38;5;28mlen\u001b[39m(x)))\n\u001b[0;32m      4\u001b[0m     \u001b[38;5;28;01melse\u001b[39;00m:\n\u001b[0;32m      5\u001b[0m         index_final\u001b[38;5;241m=\u001b[39mindex[:\u001b[38;5;28mlen\u001b[39m(x)]\n",
      "\u001b[1;31mNameError\u001b[0m: name 'itertools' is not defined"
     ]
    }
   ],
   "source": [
    "index_TF(x,[True,True,False])"
   ]
  },
  {
   "cell_type": "code",
   "execution_count": 212,
   "id": "426055eb",
   "metadata": {},
   "outputs": [],
   "source": [
    "import numpy, itertools, string"
   ]
  },
  {
   "cell_type": "code",
   "execution_count": 213,
   "id": "86ea6047",
   "metadata": {},
   "outputs": [
    {
     "ename": "NameError",
     "evalue": "name 'which_is_true' is not defined",
     "output_type": "error",
     "traceback": [
      "\u001b[1;31m---------------------------------------------------------------------------\u001b[0m",
      "\u001b[1;31mNameError\u001b[0m                                 Traceback (most recent call last)",
      "Cell \u001b[1;32mIn[213], line 1\u001b[0m\n\u001b[1;32m----> 1\u001b[0m \u001b[43mindex_TF\u001b[49m\u001b[43m(\u001b[49m\u001b[43mx\u001b[49m\u001b[43m,\u001b[49m\u001b[43m[\u001b[49m\u001b[38;5;28;43;01mTrue\u001b[39;49;00m\u001b[43m,\u001b[49m\u001b[38;5;28;43;01mTrue\u001b[39;49;00m\u001b[43m,\u001b[49m\u001b[38;5;28;43;01mFalse\u001b[39;49;00m\u001b[43m]\u001b[49m\u001b[43m)\u001b[49m\n",
      "Cell \u001b[1;32mIn[209], line 6\u001b[0m, in \u001b[0;36mindex_TF\u001b[1;34m(x, index)\u001b[0m\n\u001b[0;32m      4\u001b[0m \u001b[38;5;28;01melse\u001b[39;00m:\n\u001b[0;32m      5\u001b[0m     index_final\u001b[38;5;241m=\u001b[39mindex[:\u001b[38;5;28mlen\u001b[39m(x)]\n\u001b[1;32m----> 6\u001b[0m \u001b[38;5;28;01mreturn\u001b[39;00m [x[i] \u001b[38;5;28;01mfor\u001b[39;00m i \u001b[38;5;129;01min\u001b[39;00m \u001b[38;5;28mlist\u001b[39m(\u001b[43mwhich_is_true\u001b[49m(index_final))]\n",
      "\u001b[1;31mNameError\u001b[0m: name 'which_is_true' is not defined"
     ]
    }
   ],
   "source": [
    "index_TF(x,[True,True,False])"
   ]
  },
  {
   "cell_type": "code",
   "execution_count": 214,
   "id": "30957eb7",
   "metadata": {},
   "outputs": [
    {
     "ename": "NameError",
     "evalue": "name 'letters' is not defined",
     "output_type": "error",
     "traceback": [
      "\u001b[1;31m---------------------------------------------------------------------------\u001b[0m",
      "\u001b[1;31mNameError\u001b[0m                                 Traceback (most recent call last)",
      "Cell \u001b[1;32mIn[214], line 1\u001b[0m\n\u001b[1;32m----> 1\u001b[0m lttrs_TF\u001b[38;5;241m=\u001b[39mindex_TF(\u001b[43mletters\u001b[49m,[\u001b[38;5;28;01mTrue\u001b[39;00m,\u001b[38;5;28;01mFalse\u001b[39;00m,\u001b[38;5;28;01mTrue\u001b[39;00m,\u001b[38;5;28;01mFalse\u001b[39;00m,\u001b[38;5;28;01mFalse\u001b[39;00m])\n",
      "\u001b[1;31mNameError\u001b[0m: name 'letters' is not defined"
     ]
    }
   ],
   "source": [
    "lttrs_TF=index_TF(letters,[True,False,True,False,False])"
   ]
  },
  {
   "cell_type": "code",
   "execution_count": 215,
   "id": "dab289d5",
   "metadata": {},
   "outputs": [
    {
     "ename": "NameError",
     "evalue": "name 'letters' is not defined",
     "output_type": "error",
     "traceback": [
      "\u001b[1;31m---------------------------------------------------------------------------\u001b[0m",
      "\u001b[1;31mNameError\u001b[0m                                 Traceback (most recent call last)",
      "Cell \u001b[1;32mIn[215], line 1\u001b[0m\n\u001b[1;32m----> 1\u001b[0m letters \u001b[38;5;241m=\u001b[39m\u001b[38;5;28mlist\u001b[39m(\u001b[43mletters\u001b[49m)\n",
      "\u001b[1;31mNameError\u001b[0m: name 'letters' is not defined"
     ]
    }
   ],
   "source": [
    "letters =list(letters)"
   ]
  },
  {
   "cell_type": "code",
   "execution_count": 216,
   "id": "3fb88b8b",
   "metadata": {},
   "outputs": [],
   "source": [
    "letters =string.ascii_lowercase"
   ]
  },
  {
   "cell_type": "code",
   "execution_count": 217,
   "id": "18523330",
   "metadata": {},
   "outputs": [
    {
     "data": {
      "text/plain": [
       "'abcdefghijklmnopqrstuvwxyz'"
      ]
     },
     "execution_count": 217,
     "metadata": {},
     "output_type": "execute_result"
    }
   ],
   "source": [
    "letters"
   ]
  },
  {
   "cell_type": "code",
   "execution_count": 218,
   "id": "fd6566c6",
   "metadata": {},
   "outputs": [
    {
     "ename": "NameError",
     "evalue": "name 'which_is_true' is not defined",
     "output_type": "error",
     "traceback": [
      "\u001b[1;31m---------------------------------------------------------------------------\u001b[0m",
      "\u001b[1;31mNameError\u001b[0m                                 Traceback (most recent call last)",
      "Cell \u001b[1;32mIn[218], line 1\u001b[0m\n\u001b[1;32m----> 1\u001b[0m lttrs_TF\u001b[38;5;241m=\u001b[39m\u001b[43mindex_TF\u001b[49m\u001b[43m(\u001b[49m\u001b[43mletters\u001b[49m\u001b[43m,\u001b[49m\u001b[43m[\u001b[49m\u001b[38;5;28;43;01mTrue\u001b[39;49;00m\u001b[43m,\u001b[49m\u001b[38;5;28;43;01mFalse\u001b[39;49;00m\u001b[43m,\u001b[49m\u001b[38;5;28;43;01mTrue\u001b[39;49;00m\u001b[43m,\u001b[49m\u001b[38;5;28;43;01mFalse\u001b[39;49;00m\u001b[43m,\u001b[49m\u001b[38;5;28;43;01mFalse\u001b[39;49;00m\u001b[43m]\u001b[49m\u001b[43m)\u001b[49m\n",
      "Cell \u001b[1;32mIn[209], line 6\u001b[0m, in \u001b[0;36mindex_TF\u001b[1;34m(x, index)\u001b[0m\n\u001b[0;32m      4\u001b[0m \u001b[38;5;28;01melse\u001b[39;00m:\n\u001b[0;32m      5\u001b[0m     index_final\u001b[38;5;241m=\u001b[39mindex[:\u001b[38;5;28mlen\u001b[39m(x)]\n\u001b[1;32m----> 6\u001b[0m \u001b[38;5;28;01mreturn\u001b[39;00m [x[i] \u001b[38;5;28;01mfor\u001b[39;00m i \u001b[38;5;129;01min\u001b[39;00m \u001b[38;5;28mlist\u001b[39m(\u001b[43mwhich_is_true\u001b[49m(index_final))]\n",
      "\u001b[1;31mNameError\u001b[0m: name 'which_is_true' is not defined"
     ]
    }
   ],
   "source": [
    "lttrs_TF=index_TF(letters,[True,False,True,False,False])"
   ]
  },
  {
   "cell_type": "code",
   "execution_count": 221,
   "id": "f6d01a7a",
   "metadata": {},
   "outputs": [],
   "source": [
    "import numpy, itertools, string\n",
    "letters =string.ascii_lowercase\n",
    "def which_is_true(indexTF):\n",
    "    return [i for i, x in enumerate(indexTF) if x]\n",
    "\n",
    "  \n",
    "def index_TF(x,index=[True]):\n",
    "    if(len(index)<len(x)):\n",
    "        index_final=list(itertools.islice(itertools.cycle(index), len(x)))\n",
    "    else:\n",
    "        index_final=index[:len(x)]\n",
    "    return [x[i] for i in list(which_is_true(index_final))]"
   ]
  },
  {
   "cell_type": "code",
   "execution_count": 223,
   "id": "839ce601",
   "metadata": {},
   "outputs": [
    {
     "data": {
      "text/plain": [
       "['a', 'c', 'e', 'g', 'i', 'k', 'm', 'o', 'q', 's', 'u', 'w', 'y']"
      ]
     },
     "execution_count": 223,
     "metadata": {},
     "output_type": "execute_result"
    }
   ],
   "source": [
    "index_TF(letters,index=[True,False])"
   ]
  },
  {
   "cell_type": "code",
   "execution_count": 224,
   "id": "ed5d9809",
   "metadata": {},
   "outputs": [
    {
     "data": {
      "text/plain": [
       "[0]"
      ]
     },
     "execution_count": 224,
     "metadata": {},
     "output_type": "execute_result"
    }
   ],
   "source": [
    "which_is_true([True,False])"
   ]
  },
  {
   "cell_type": "code",
   "execution_count": 225,
   "id": "3941c239",
   "metadata": {},
   "outputs": [
    {
     "data": {
      "text/plain": [
       "[True, False, True, True]"
      ]
     },
     "execution_count": 225,
     "metadata": {},
     "output_type": "execute_result"
    }
   ],
   "source": [
    "[True,False,True,True]"
   ]
  },
  {
   "cell_type": "code",
   "execution_count": 226,
   "id": "7a98eac2",
   "metadata": {},
   "outputs": [
    {
     "data": {
      "text/plain": [
       "[0, 2, 3]"
      ]
     },
     "execution_count": 226,
     "metadata": {},
     "output_type": "execute_result"
    }
   ],
   "source": [
    "which_is_true([True,False,True,True])"
   ]
  },
  {
   "cell_type": "code",
   "execution_count": 227,
   "id": "8b1de7f2",
   "metadata": {},
   "outputs": [],
   "source": [
    "indx=[True,False,True,True]"
   ]
  },
  {
   "cell_type": "code",
   "execution_count": 228,
   "id": "cfa294b1",
   "metadata": {},
   "outputs": [
    {
     "data": {
      "text/plain": [
       "11"
      ]
     },
     "execution_count": 228,
     "metadata": {},
     "output_type": "execute_result"
    }
   ],
   "source": [
    "len(x)"
   ]
  },
  {
   "cell_type": "code",
   "execution_count": 229,
   "id": "1933b847",
   "metadata": {},
   "outputs": [],
   "source": [
    "import math"
   ]
  },
  {
   "cell_type": "code",
   "execution_count": 234,
   "id": "0e385aaa",
   "metadata": {},
   "outputs": [],
   "source": [
    "rp=math.ceil(len(x)/len(indx))"
   ]
  },
  {
   "cell_type": "code",
   "execution_count": 235,
   "id": "04894316",
   "metadata": {},
   "outputs": [
    {
     "data": {
      "text/plain": [
       "3"
      ]
     },
     "execution_count": 235,
     "metadata": {},
     "output_type": "execute_result"
    }
   ],
   "source": [
    "rp"
   ]
  },
  {
   "cell_type": "code",
   "execution_count": 238,
   "id": "f927c04f",
   "metadata": {},
   "outputs": [],
   "source": [
    "idx=indx*rp"
   ]
  },
  {
   "cell_type": "code",
   "execution_count": 239,
   "id": "2d065e15",
   "metadata": {},
   "outputs": [
    {
     "data": {
      "text/plain": [
       "[True, False, True, True, True, False, True, True, True, False, True]"
      ]
     },
     "execution_count": 239,
     "metadata": {},
     "output_type": "execute_result"
    }
   ],
   "source": [
    "idx[0:len(x)]"
   ]
  },
  {
   "cell_type": "code",
   "execution_count": 240,
   "id": "e9889ce6",
   "metadata": {},
   "outputs": [
    {
     "data": {
      "text/plain": [
       "11"
      ]
     },
     "execution_count": 240,
     "metadata": {},
     "output_type": "execute_result"
    }
   ],
   "source": [
    "len(x)"
   ]
  },
  {
   "cell_type": "code",
   "execution_count": 241,
   "id": "44e80cfc",
   "metadata": {},
   "outputs": [
    {
     "data": {
      "text/plain": [
       "[0, 1, 2, 3, 4, 5, 6, 7, 8, 9, 10]"
      ]
     },
     "execution_count": 241,
     "metadata": {},
     "output_type": "execute_result"
    }
   ],
   "source": [
    "x"
   ]
  },
  {
   "cell_type": "code",
   "execution_count": 246,
   "id": "00341c4d",
   "metadata": {},
   "outputs": [
    {
     "data": {
      "text/plain": [
       "True"
      ]
     },
     "execution_count": 246,
     "metadata": {},
     "output_type": "execute_result"
    }
   ],
   "source": [
    "idx[idx==True]"
   ]
  },
  {
   "cell_type": "code",
   "execution_count": 245,
   "id": "58af7600",
   "metadata": {},
   "outputs": [
    {
     "data": {
      "text/plain": [
       "[True, False, True, True, True, False, True, True, True, False, True, True]"
      ]
     },
     "execution_count": 245,
     "metadata": {},
     "output_type": "execute_result"
    }
   ],
   "source": [
    "idx"
   ]
  },
  {
   "cell_type": "code",
   "execution_count": 247,
   "id": "b251ea41",
   "metadata": {},
   "outputs": [],
   "source": [
    "x=list((1,2))"
   ]
  },
  {
   "cell_type": "code",
   "execution_count": 248,
   "id": "07c7c95c",
   "metadata": {},
   "outputs": [
    {
     "data": {
      "text/plain": [
       "list"
      ]
     },
     "execution_count": 248,
     "metadata": {},
     "output_type": "execute_result"
    }
   ],
   "source": [
    "type(x)"
   ]
  },
  {
   "cell_type": "code",
   "execution_count": 249,
   "id": "40464709",
   "metadata": {},
   "outputs": [
    {
     "data": {
      "text/plain": [
       "list"
      ]
     },
     "execution_count": 249,
     "metadata": {},
     "output_type": "execute_result"
    }
   ],
   "source": [
    "x.__class__"
   ]
  },
  {
   "cell_type": "code",
   "execution_count": 255,
   "id": "bc9d3865",
   "metadata": {},
   "outputs": [],
   "source": [
    "class list_TF(list):\n",
    "    def __init__(self, iterable):\n",
    "        super().__init__(iterable)\n",
    "\n",
    "    "
   ]
  },
  {
   "cell_type": "code",
   "execution_count": 256,
   "id": "362c2bda",
   "metadata": {},
   "outputs": [],
   "source": [
    "z=list_TF((1,2,3))"
   ]
  },
  {
   "cell_type": "code",
   "execution_count": 257,
   "id": "a3367395",
   "metadata": {},
   "outputs": [
    {
     "data": {
      "text/plain": [
       "[1, 2, 3]"
      ]
     },
     "execution_count": 257,
     "metadata": {},
     "output_type": "execute_result"
    }
   ],
   "source": [
    "z"
   ]
  },
  {
   "cell_type": "code",
   "execution_count": 272,
   "id": "ec51f6cc",
   "metadata": {},
   "outputs": [],
   "source": [
    "class list_TF(list):\n",
    "    def __init__(self, iterable):\n",
    "        super().__init__(iterable)\n",
    "    def __index_TF__(self,ndx):\n",
    "        return self[ndx.index(True)]"
   ]
  },
  {
   "cell_type": "code",
   "execution_count": 273,
   "id": "8e1265bc",
   "metadata": {},
   "outputs": [],
   "source": [
    "z=list_TF((1,2,3))"
   ]
  },
  {
   "cell_type": "code",
   "execution_count": 274,
   "id": "16037c20",
   "metadata": {},
   "outputs": [
    {
     "data": {
      "text/plain": [
       "1"
      ]
     },
     "execution_count": 274,
     "metadata": {},
     "output_type": "execute_result"
    }
   ],
   "source": [
    "z.__index_TF__([True,False,True])"
   ]
  },
  {
   "cell_type": "code",
   "execution_count": 275,
   "id": "eaac1091",
   "metadata": {},
   "outputs": [
    {
     "data": {
      "text/plain": [
       "0"
      ]
     },
     "execution_count": 275,
     "metadata": {},
     "output_type": "execute_result"
    }
   ],
   "source": [
    "[True,True,False,True].index(True)"
   ]
  },
  {
   "cell_type": "code",
   "execution_count": 278,
   "id": "cadaf2c5",
   "metadata": {},
   "outputs": [
    {
     "ename": "SyntaxError",
     "evalue": "can't use starred expression here (1916026162.py, line 1)",
     "output_type": "error",
     "traceback": [
      "\u001b[1;36m  Cell \u001b[1;32mIn[278], line 1\u001b[1;36m\u001b[0m\n\u001b[1;33m    *filter(z==True, z)\u001b[0m\n\u001b[1;37m    ^\u001b[0m\n\u001b[1;31mSyntaxError\u001b[0m\u001b[1;31m:\u001b[0m can't use starred expression here\n"
     ]
    }
   ],
   "source": [
    "*filter(z==True, z)"
   ]
  },
  {
   "cell_type": "code",
   "execution_count": 282,
   "id": "6f9af3c4",
   "metadata": {},
   "outputs": [
    {
     "name": "stdout",
     "output_type": "stream",
     "text": [
      "['a' 'a' 'b' 'b' 'c' 'c' 'd' 'd' 'e' 'e' 'f' 'f' 'g' 'g' 'h' 'h' 'i' 'i'\n",
      " 'j' 'j' 'k' 'k' 'l' 'l' 'm' 'm' 'n' 'n' 'o' 'o' 'p' 'p' 'q' 'q' 'r' 'r'\n",
      " 's' 's' 't' 't' 'u' 'u' 'v' 'v' 'w' 'w' 'x' 'x' 'y' 'y' 'z' 'z']\n",
      "['a' 'b' 'b']\n"
     ]
    }
   ],
   "source": [
    "import numpy as np\n",
    "import string\n",
    "letters =string.ascii_lowercase\n",
    "letters =list(letters)\n",
    "print(np.repeat(letters, 2))\n",
    "['a' 'a' 'b' 'b' 'c' 'c' 'd' 'd' 'e' 'e' 'f' 'f' 'g' 'g' 'h' 'h' 'i' 'i'\n",
    " 'j' 'j' 'k' 'k' 'l' 'l' 'm' 'm' 'n' 'n' 'o' 'o' 'p' 'p' 'q' 'q' 'r' 'r'\n",
    " 's' 's' 't' 't' 'u' 'u' 'v' 'v' 'w' 'w' 'x' 'x' 'y' 'y' 'z' 'z']\n",
    " \n",
    "print(np.repeat(['a','b'], [1,2]))"
   ]
  },
  {
   "cell_type": "code",
   "execution_count": 284,
   "id": "4aa1dfab",
   "metadata": {},
   "outputs": [],
   "source": [
    "def rep_decorator(fn):\n",
    "    \n",
    "    def inner(*args,**kwargs):\n",
    "        return(fn(*args,**kwargs))\n",
    "    return inner   "
   ]
  },
  {
   "cell_type": "code",
   "execution_count": 285,
   "id": "7021cbb0",
   "metadata": {},
   "outputs": [],
   "source": [
    "rep=rep_decorator(np.repeat)"
   ]
  },
  {
   "cell_type": "code",
   "execution_count": 287,
   "id": "600f8d1f",
   "metadata": {},
   "outputs": [
    {
     "data": {
      "text/plain": [
       "array([1, 1, 1, 1, 1, 3, 3, 3, 3, 3])"
      ]
     },
     "execution_count": 287,
     "metadata": {},
     "output_type": "execute_result"
    }
   ],
   "source": [
    "rep([1,3],5)"
   ]
  },
  {
   "cell_type": "code",
   "execution_count": 300,
   "id": "608b3e4e",
   "metadata": {},
   "outputs": [],
   "source": [
    "l=[1,2,3,4,5]"
   ]
  },
  {
   "cell_type": "code",
   "execution_count": 294,
   "id": "c122062e",
   "metadata": {},
   "outputs": [],
   "source": [
    "l[2:3]=[]"
   ]
  },
  {
   "cell_type": "code",
   "execution_count": 295,
   "id": "2a2dd6f8",
   "metadata": {},
   "outputs": [
    {
     "data": {
      "text/plain": [
       "[1, 2, 4, 5]"
      ]
     },
     "execution_count": 295,
     "metadata": {},
     "output_type": "execute_result"
    }
   ],
   "source": [
    "l"
   ]
  },
  {
   "cell_type": "code",
   "execution_count": 296,
   "id": "353e2920",
   "metadata": {},
   "outputs": [
    {
     "data": {
      "text/plain": [
       "[]"
      ]
     },
     "execution_count": 296,
     "metadata": {},
     "output_type": "execute_result"
    }
   ],
   "source": [
    "l[1:1]"
   ]
  },
  {
   "cell_type": "code",
   "execution_count": 298,
   "id": "9caca210",
   "metadata": {},
   "outputs": [],
   "source": [
    "l[1:1]='abc'"
   ]
  },
  {
   "cell_type": "code",
   "execution_count": 299,
   "id": "c5ce9bcf",
   "metadata": {},
   "outputs": [
    {
     "data": {
      "text/plain": [
       "[1, 'a', 'b', 'c', 2, 3, 4, 5]"
      ]
     },
     "execution_count": 299,
     "metadata": {},
     "output_type": "execute_result"
    }
   ],
   "source": [
    "l"
   ]
  },
  {
   "cell_type": "code",
   "execution_count": 301,
   "id": "e54dbad9",
   "metadata": {},
   "outputs": [],
   "source": [
    "l[21:24]='python'"
   ]
  },
  {
   "cell_type": "code",
   "execution_count": 302,
   "id": "dafc8d30",
   "metadata": {},
   "outputs": [
    {
     "data": {
      "text/plain": [
       "[1, 2, 3, 4, 5, 'p', 'y', 't', 'h', 'o', 'n']"
      ]
     },
     "execution_count": 302,
     "metadata": {},
     "output_type": "execute_result"
    }
   ],
   "source": [
    "l"
   ]
  },
  {
   "cell_type": "code",
   "execution_count": 303,
   "id": "08b490be",
   "metadata": {},
   "outputs": [],
   "source": [
    "l=[True,False,True,True]"
   ]
  },
  {
   "cell_type": "code",
   "execution_count": 304,
   "id": "875be761",
   "metadata": {},
   "outputs": [],
   "source": [
    "s=[1,2,3,4,5,6,7,8,9,10,11,12,13,14,15]"
   ]
  },
  {
   "cell_type": "code",
   "execution_count": 307,
   "id": "4f46ce88",
   "metadata": {},
   "outputs": [
    {
     "ename": "TypeError",
     "evalue": "can't multiply sequence by non-int of type 'float'",
     "output_type": "error",
     "traceback": [
      "\u001b[1;31m---------------------------------------------------------------------------\u001b[0m",
      "\u001b[1;31mTypeError\u001b[0m                                 Traceback (most recent call last)",
      "Cell \u001b[1;32mIn[307], line 1\u001b[0m\n\u001b[1;32m----> 1\u001b[0m \u001b[38;5;28;43mlen\u001b[39;49m\u001b[43m(\u001b[49m\u001b[43ms\u001b[49m\u001b[43m)\u001b[49m\u001b[38;5;241;43m/\u001b[39;49m\u001b[38;5;28;43mlen\u001b[39;49m\u001b[43m(\u001b[49m\u001b[43ml\u001b[49m\u001b[43m)\u001b[49m\u001b[38;5;241;43m*\u001b[39;49m\u001b[43ml\u001b[49m\n",
      "\u001b[1;31mTypeError\u001b[0m: can't multiply sequence by non-int of type 'float'"
     ]
    }
   ],
   "source": [
    "len(s)/len(l)"
   ]
  },
  {
   "cell_type": "code",
   "execution_count": 312,
   "id": "6b2f21bb",
   "metadata": {},
   "outputs": [],
   "source": [
    "s2=4*l"
   ]
  },
  {
   "cell_type": "code",
   "execution_count": 314,
   "id": "0d4b7bac",
   "metadata": {},
   "outputs": [],
   "source": [
    "s3=s2[:len(s)]"
   ]
  },
  {
   "cell_type": "code",
   "execution_count": 315,
   "id": "77861d4e",
   "metadata": {},
   "outputs": [
    {
     "data": {
      "text/plain": [
       "True"
      ]
     },
     "execution_count": 315,
     "metadata": {},
     "output_type": "execute_result"
    }
   ],
   "source": [
    "len(s)==len(s3)"
   ]
  },
  {
   "cell_type": "code",
   "execution_count": 322,
   "id": "bff79bef",
   "metadata": {},
   "outputs": [],
   "source": [
    "from collections import namedtuple"
   ]
  },
  {
   "cell_type": "code",
   "execution_count": 331,
   "id": "204a2b46",
   "metadata": {},
   "outputs": [],
   "source": [
    "points=namedtuple('points',\"x, y\")"
   ]
  },
  {
   "cell_type": "code",
   "execution_count": 333,
   "id": "cd0197e2",
   "metadata": {},
   "outputs": [],
   "source": [
    "p1=points(10,2)"
   ]
  },
  {
   "cell_type": "code",
   "execution_count": 334,
   "id": "32262d58",
   "metadata": {},
   "outputs": [
    {
     "data": {
      "text/plain": [
       "points(x=10, y=2)"
      ]
     },
     "execution_count": 334,
     "metadata": {},
     "output_type": "execute_result"
    }
   ],
   "source": [
    "p1"
   ]
  },
  {
   "cell_type": "code",
   "execution_count": 335,
   "id": "108025b8",
   "metadata": {},
   "outputs": [
    {
     "data": {
      "text/plain": [
       "10"
      ]
     },
     "execution_count": 335,
     "metadata": {},
     "output_type": "execute_result"
    }
   ],
   "source": [
    "p1.x"
   ]
  },
  {
   "cell_type": "code",
   "execution_count": 336,
   "id": "2f0c2844",
   "metadata": {},
   "outputs": [
    {
     "data": {
      "text/plain": [
       "2"
      ]
     },
     "execution_count": 336,
     "metadata": {},
     "output_type": "execute_result"
    }
   ],
   "source": [
    "p1.y"
   ]
  },
  {
   "cell_type": "code",
   "execution_count": 337,
   "id": "5a46a094",
   "metadata": {},
   "outputs": [
    {
     "ename": "SyntaxError",
     "evalue": "can't use starred expression here (1917707240.py, line 1)",
     "output_type": "error",
     "traceback": [
      "\u001b[1;36m  Cell \u001b[1;32mIn[337], line 1\u001b[1;36m\u001b[0m\n\u001b[1;33m    *p1\u001b[0m\n\u001b[1;37m    ^\u001b[0m\n\u001b[1;31mSyntaxError\u001b[0m\u001b[1;31m:\u001b[0m can't use starred expression here\n"
     ]
    }
   ],
   "source": [
    "*p1"
   ]
  },
  {
   "cell_type": "code",
   "execution_count": 338,
   "id": "7edcd6d6",
   "metadata": {},
   "outputs": [
    {
     "data": {
      "text/plain": [
       "points(x=10, y=2)"
      ]
     },
     "execution_count": 338,
     "metadata": {},
     "output_type": "execute_result"
    }
   ],
   "source": [
    "p1"
   ]
  },
  {
   "cell_type": "code",
   "execution_count": 339,
   "id": "f04a1012",
   "metadata": {},
   "outputs": [
    {
     "name": "stdout",
     "output_type": "stream",
     "text": [
      "10 2\n"
     ]
    }
   ],
   "source": [
    "print(*p1)"
   ]
  },
  {
   "cell_type": "code",
   "execution_count": 345,
   "id": "a1ba4cc3",
   "metadata": {},
   "outputs": [
    {
     "ename": "SyntaxError",
     "evalue": "invalid syntax (2447965536.py, line 1)",
     "output_type": "error",
     "traceback": [
      "\u001b[1;36m  Cell \u001b[1;32mIn[345], line 1\u001b[1;36m\u001b[0m\n\u001b[1;33m    u,o=**p1\u001b[0m\n\u001b[1;37m        ^\u001b[0m\n\u001b[1;31mSyntaxError\u001b[0m\u001b[1;31m:\u001b[0m invalid syntax\n"
     ]
    }
   ],
   "source": [
    "u,op1"
   ]
  },
  {
   "cell_type": "code",
   "execution_count": 341,
   "id": "36189fca",
   "metadata": {},
   "outputs": [
    {
     "data": {
      "text/plain": [
       "10"
      ]
     },
     "execution_count": 341,
     "metadata": {},
     "output_type": "execute_result"
    }
   ],
   "source": [
    "u"
   ]
  },
  {
   "cell_type": "code",
   "execution_count": 342,
   "id": "c6bed2ff",
   "metadata": {},
   "outputs": [
    {
     "data": {
      "text/plain": [
       "2"
      ]
     },
     "execution_count": 342,
     "metadata": {},
     "output_type": "execute_result"
    }
   ],
   "source": [
    "o"
   ]
  },
  {
   "cell_type": "code",
   "execution_count": 343,
   "id": "d823a6d4",
   "metadata": {},
   "outputs": [
    {
     "data": {
      "text/plain": [
       "points(x=10, y=2)"
      ]
     },
     "execution_count": 343,
     "metadata": {},
     "output_type": "execute_result"
    }
   ],
   "source": [
    "p1"
   ]
  },
  {
   "cell_type": "code",
   "execution_count": 348,
   "id": "a86220b5",
   "metadata": {},
   "outputs": [],
   "source": [
    "del p1"
   ]
  },
  {
   "cell_type": "code",
   "execution_count": 349,
   "id": "9eb32355",
   "metadata": {},
   "outputs": [
    {
     "ename": "NameError",
     "evalue": "name 'p1' is not defined",
     "output_type": "error",
     "traceback": [
      "\u001b[1;31m---------------------------------------------------------------------------\u001b[0m",
      "\u001b[1;31mNameError\u001b[0m                                 Traceback (most recent call last)",
      "Cell \u001b[1;32mIn[349], line 1\u001b[0m\n\u001b[1;32m----> 1\u001b[0m \u001b[43mp1\u001b[49m\u001b[38;5;241m.\u001b[39mage\u001b[38;5;241m=\u001b[39m\u001b[38;5;241m20\u001b[39m\n",
      "\u001b[1;31mNameError\u001b[0m: name 'p1' is not defined"
     ]
    }
   ],
   "source": [
    "p1.age=20"
   ]
  },
  {
   "cell_type": "code",
   "execution_count": 350,
   "id": "cbe5148d",
   "metadata": {},
   "outputs": [
    {
     "ename": "SyntaxError",
     "evalue": "invalid syntax (3266946880.py, line 1)",
     "output_type": "error",
     "traceback": [
      "\u001b[1;36m  Cell \u001b[1;32mIn[350], line 1\u001b[1;36m\u001b[0m\n\u001b[1;33m    p1=(,)\u001b[0m\n\u001b[1;37m        ^\u001b[0m\n\u001b[1;31mSyntaxError\u001b[0m\u001b[1;31m:\u001b[0m invalid syntax\n"
     ]
    }
   ],
   "source": []
  },
  {
   "cell_type": "code",
   "execution_count": 351,
   "id": "1e1405ab",
   "metadata": {},
   "outputs": [],
   "source": [
    "l=[-2,-1,0,21,2]"
   ]
  },
  {
   "cell_type": "code",
   "execution_count": 362,
   "id": "3c13279d",
   "metadata": {},
   "outputs": [],
   "source": [
    "l.sort(key=lambda it: it**2)"
   ]
  },
  {
   "cell_type": "code",
   "execution_count": 360,
   "id": "565c284d",
   "metadata": {},
   "outputs": [],
   "source": [
    "l.sort(reverse=True)"
   ]
  },
  {
   "cell_type": "code",
   "execution_count": 363,
   "id": "b89a19d9",
   "metadata": {},
   "outputs": [
    {
     "data": {
      "text/plain": [
       "[0, -1, 2, -2, 21]"
      ]
     },
     "execution_count": 363,
     "metadata": {},
     "output_type": "execute_result"
    }
   ],
   "source": [
    "l"
   ]
  },
  {
   "cell_type": "code",
   "execution_count": null,
   "id": "4385593c",
   "metadata": {},
   "outputs": [],
   "source": []
  }
 ],
 "metadata": {
  "kernelspec": {
   "display_name": "Python 3 (ipykernel)",
   "language": "python",
   "name": "python3"
  },
  "language_info": {
   "codemirror_mode": {
    "name": "ipython",
    "version": 3
   },
   "file_extension": ".py",
   "mimetype": "text/x-python",
   "name": "python",
   "nbconvert_exporter": "python",
   "pygments_lexer": "ipython3",
   "version": "3.10.9"
  }
 },
 "nbformat": 4,
 "nbformat_minor": 5
}
