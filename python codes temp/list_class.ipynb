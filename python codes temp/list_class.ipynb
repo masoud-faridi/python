{
 "cells": [
  {
   "cell_type": "code",
   "execution_count": 7,
   "id": "9a577efb",
   "metadata": {},
   "outputs": [],
   "source": [
    "class list_rep(list):\n",
    "    def __init__(self, *args):\n",
    "        super().__init__(args)\n",
    "\n",
    "import math"
   ]
  },
  {
   "cell_type": "code",
   "execution_count": 134,
   "id": "4c3db5c6",
   "metadata": {},
   "outputs": [],
   "source": [
    "class list_rep(list):\n",
    "    def __init__(self, *args):\n",
    "        super().__init__(*args)\n",
    "    def __rep__(self,length):\n",
    "        mul=length/self.__len__()\n",
    "        mul=math.floor(mul)+1\n",
    "        ls=[x for x in self.__iter__()]\n",
    "        #print(ls*mul)\n",
    "        ls=ls*mul\n",
    "        ls=ls[:length]\n",
    "        super().__init__(ls)\n",
    "       \n",
    "       "
   ]
  },
  {
   "cell_type": "code",
   "execution_count": 143,
   "id": "b222535e",
   "metadata": {},
   "outputs": [],
   "source": [
    "ls22=list_rep([1,2,3])"
   ]
  },
  {
   "cell_type": "code",
   "execution_count": 146,
   "id": "3424c9e9",
   "metadata": {},
   "outputs": [],
   "source": [
    "class list_rep(list):\n",
    "    def __init__(self, *args):\n",
    "        super().__init__(*args)\n",
    "    def repeat_until_length(self, length):\n",
    "        mul = length // len(self) + 1\n",
    "        ls = list(self) * mul\n",
    "        return ls[:length]\n",
    "    def repaet_each(self,rp):\n",
    "        if rp < self.__len__():\n",
    "            rul=repeat_until_length(list_rep(rp),self.__len__())\n",
    "        else:\n",
    "            rul=self.__len__()\n",
    "        print(rul)"
   ]
  },
  {
   "cell_type": "code",
   "execution_count": 144,
   "id": "b2520f64",
   "metadata": {},
   "outputs": [],
   "source": [
    "ls22.__rep__(2)"
   ]
  },
  {
   "cell_type": "code",
   "execution_count": 145,
   "id": "41deed3d",
   "metadata": {},
   "outputs": [
    {
     "data": {
      "text/plain": [
       "[1, 2]"
      ]
     },
     "execution_count": 145,
     "metadata": {},
     "output_type": "execute_result"
    }
   ],
   "source": [
    "ls22"
   ]
  },
  {
   "cell_type": "code",
   "execution_count": 86,
   "id": "a7a2e67c",
   "metadata": {},
   "outputs": [],
   "source": [
    "l2=list([1,2,3,4,50,6])"
   ]
  },
  {
   "cell_type": "code",
   "execution_count": 89,
   "id": "55c75ed3",
   "metadata": {},
   "outputs": [
    {
     "data": {
      "text/plain": [
       "<list_iterator at 0x12c95cc8bb0>"
      ]
     },
     "execution_count": 89,
     "metadata": {},
     "output_type": "execute_result"
    }
   ],
   "source": [
    "[l2.__iter__()"
   ]
  },
  {
   "cell_type": "code",
   "execution_count": 90,
   "id": "6701afac",
   "metadata": {},
   "outputs": [
    {
     "data": {
      "text/plain": [
       "6"
      ]
     },
     "execution_count": 90,
     "metadata": {},
     "output_type": "execute_result"
    }
   ],
   "source": [
    "l2.__len__()"
   ]
  },
  {
   "cell_type": "code",
   "execution_count": 48,
   "id": "a28799bd",
   "metadata": {},
   "outputs": [
    {
     "data": {
      "text/plain": [
       "[1, 2, 7]"
      ]
     },
     "execution_count": 48,
     "metadata": {},
     "output_type": "execute_result"
    }
   ],
   "source": [
    "[x for i, x in enumerate([1,2,7])]"
   ]
  },
  {
   "cell_type": "code",
   "execution_count": 49,
   "id": "301d98b5",
   "metadata": {},
   "outputs": [
    {
     "data": {
      "text/plain": [
       "[1, 2, 3, 4, 50, 6]"
      ]
     },
     "execution_count": 49,
     "metadata": {},
     "output_type": "execute_result"
    }
   ],
   "source": [
    "[x for x in l2.__iter__()]"
   ]
  },
  {
   "cell_type": "code",
   "execution_count": 50,
   "id": "31779628",
   "metadata": {},
   "outputs": [
    {
     "data": {
      "text/plain": [
       "<list_iterator at 0x12c967df190>"
      ]
     },
     "execution_count": 50,
     "metadata": {},
     "output_type": "execute_result"
    }
   ],
   "source": [
    "l2.__iter__()"
   ]
  },
  {
   "cell_type": "code",
   "execution_count": 214,
   "id": "6a8f51ef",
   "metadata": {},
   "outputs": [],
   "source": [
    "import numpy as np\n",
    "class list_rep(list):\n",
    "    def __init__(self, *args):\n",
    "        super().__init__(*args)\n",
    "    def __repeat_until_length__(self, length):\n",
    "        mul = length // len(self) + 1\n",
    "        ls = list(self) * mul\n",
    "        return ls[:length]\n",
    "    def __repaet_each__(self,rp):\n",
    "        if rp.__len__() < self.__len__():\n",
    "            rul=list_rep(rp).__repeat_until_length__(self.__len__())\n",
    "        else:\n",
    "            rul=rp[:self.__len__()]\n",
    "        print(list(self))\n",
    "        print(rul)\n",
    "        ret=np.repeat(list(self),repeats=rul)\n",
    "        return ret.tolist()"
   ]
  },
  {
   "cell_type": "code",
   "execution_count": 215,
   "id": "06ae0917",
   "metadata": {},
   "outputs": [],
   "source": [
    "ls22=list_rep([1,2,3])"
   ]
  },
  {
   "cell_type": "code",
   "execution_count": 216,
   "id": "20f2acd5",
   "metadata": {},
   "outputs": [
    {
     "data": {
      "text/plain": [
       "[1, 2, 3, 1]"
      ]
     },
     "execution_count": 216,
     "metadata": {},
     "output_type": "execute_result"
    }
   ],
   "source": [
    "ls22.__repeat_until_length__(4)"
   ]
  },
  {
   "cell_type": "code",
   "execution_count": 217,
   "id": "78cc3bbe",
   "metadata": {},
   "outputs": [
    {
     "name": "stdout",
     "output_type": "stream",
     "text": [
      "[1, 2, 3]\n",
      "[1, 2, 1]\n"
     ]
    },
    {
     "data": {
      "text/plain": [
       "[1, 2, 2, 3]"
      ]
     },
     "execution_count": 217,
     "metadata": {},
     "output_type": "execute_result"
    }
   ],
   "source": [
    "ls22.__repaet_each__([1,2])"
   ]
  },
  {
   "cell_type": "code",
   "execution_count": 218,
   "id": "4286b289",
   "metadata": {},
   "outputs": [
    {
     "name": "stdout",
     "output_type": "stream",
     "text": [
      "[1, 2, 3]\n",
      "[2, 5, 6]\n"
     ]
    },
    {
     "data": {
      "text/plain": [
       "[1, 1, 2, 2, 2, 2, 2, 3, 3, 3, 3, 3, 3]"
      ]
     },
     "execution_count": 218,
     "metadata": {},
     "output_type": "execute_result"
    }
   ],
   "source": [
    "ls22.__repaet_each__([2,5,6,8])"
   ]
  },
  {
   "cell_type": "code",
   "execution_count": 219,
   "id": "54f1a412",
   "metadata": {},
   "outputs": [],
   "source": [
    "import numpy as np\n",
    "class list_rep(list):\n",
    "    def __init__(self, *args):\n",
    "        super().__init__(*args)\n",
    "    def __repeat_until_length__(self, length):\n",
    "        mul = length // len(self) + 1\n",
    "        ls = list(self) * mul\n",
    "        return ls[:length]\n",
    "    def __repaet_each__(self,rp):\n",
    "        if rp.__len__() < self.__len__():\n",
    "            rul=list_rep(rp).__repeat_until_length__(self.__len__())\n",
    "        else:\n",
    "            rul=rp[:self.__len__()]\n",
    "        print(list(self))\n",
    "        print(rul)\n",
    "        ret=np.repeat(list(self),repeats=rul)\n",
    "        return ret.tolist()\n",
    "    \n",
    "        \n",
    "        "
   ]
  },
  {
   "cell_type": "code",
   "execution_count": 247,
   "id": "a0b00231",
   "metadata": {},
   "outputs": [],
   "source": [
    "import numpy as np\n",
    "def rep(lst, length ,times = 1 , each = 1):\n",
    "    ls=np.repeat(lst,repeats=each)\n",
    "    return ls.tolist()"
   ]
  },
  {
   "cell_type": "raw",
   "id": "c89fee15",
   "metadata": {},
   "source": [
    "rep([1,2],each=3)"
   ]
  },
  {
   "cell_type": "code",
   "execution_count": 248,
   "id": "9d57241f",
   "metadata": {},
   "outputs": [
    {
     "ename": "NameError",
     "evalue": "name 'ls1' is not defined",
     "output_type": "error",
     "traceback": [
      "\u001b[1;31m---------------------------------------------------------------------------\u001b[0m",
      "\u001b[1;31mNameError\u001b[0m                                 Traceback (most recent call last)",
      "Cell \u001b[1;32mIn[248], line 1\u001b[0m\n\u001b[1;32m----> 1\u001b[0m \u001b[43mls1\u001b[49m\n",
      "\u001b[1;31mNameError\u001b[0m: name 'ls1' is not defined"
     ]
    }
   ],
   "source": [
    "ls1"
   ]
  },
  {
   "cell_type": "code",
   "execution_count": 242,
   "id": "e6914f4f",
   "metadata": {},
   "outputs": [],
   "source": [
    "ls=np.repeat([1,2],2)"
   ]
  },
  {
   "cell_type": "code",
   "execution_count": 243,
   "id": "a420477d",
   "metadata": {},
   "outputs": [
    {
     "data": {
      "text/plain": [
       "array([1, 2, 2])"
      ]
     },
     "execution_count": 243,
     "metadata": {},
     "output_type": "execute_result"
    }
   ],
   "source": [
    "np.repeat([1,2],[1,2])"
   ]
  },
  {
   "cell_type": "code",
   "execution_count": 251,
   "id": "2074f5c2",
   "metadata": {},
   "outputs": [],
   "source": [
    "import numpy as np\n",
    "def rep(lst, each ,times=1  , length_out= -1):\n",
    "    ls=np.repeat(lst,repeats=each)\n",
    "    return ls.tolist()"
   ]
  },
  {
   "cell_type": "code",
   "execution_count": 253,
   "id": "6ca9e2c2",
   "metadata": {},
   "outputs": [
    {
     "data": {
      "text/plain": [
       "[1, 2, 2]"
      ]
     },
     "execution_count": 253,
     "metadata": {},
     "output_type": "execute_result"
    }
   ],
   "source": [
    "rep([1,2],each=[1,2])"
   ]
  },
  {
   "cell_type": "code",
   "execution_count": 281,
   "id": "1e08eaeb",
   "metadata": {},
   "outputs": [],
   "source": [
    "import numpy as np\n",
    "def rep(lst, each=1 ,times=1  , length_out= -1):\n",
    "    ls=np.repeat(lst,repeats=each)\n",
    "    ls=ls.tolist() * times\n",
    "    if length_out != -1:\n",
    "        if length_out < len(ls):\n",
    "            ls[:length_out]\n",
    "        else:\n",
    "            mul = length_out // len(ls) + 1\n",
    "            ls = ls * mul\n",
    "        return ls[:length_out]\n",
    "    return ls"
   ]
  },
  {
   "cell_type": "code",
   "execution_count": 282,
   "id": "f66c6aef",
   "metadata": {},
   "outputs": [
    {
     "data": {
      "text/plain": [
       "[1, 1, 2, 2]"
      ]
     },
     "execution_count": 282,
     "metadata": {},
     "output_type": "execute_result"
    }
   ],
   "source": [
    "rep([1,2],each=2)"
   ]
  },
  {
   "cell_type": "code",
   "execution_count": 283,
   "id": "2e93e8c3",
   "metadata": {},
   "outputs": [
    {
     "data": {
      "text/plain": [
       "[1, 2, 1, 2, 1, 2, 1, 2]"
      ]
     },
     "execution_count": 283,
     "metadata": {},
     "output_type": "execute_result"
    }
   ],
   "source": [
    "rep([1,2],times=4)"
   ]
  },
  {
   "cell_type": "code",
   "execution_count": 287,
   "id": "a5dc2344",
   "metadata": {},
   "outputs": [
    {
     "data": {
      "text/plain": [
       "[1, 1, 2, 2, 3, 3, 1, 1, 2, 2, 3, 3, 1, 1, 2, 2, 3, 3]"
      ]
     },
     "execution_count": 287,
     "metadata": {},
     "output_type": "execute_result"
    }
   ],
   "source": [
    "rep([1,2,3],each=2,times=3)"
   ]
  },
  {
   "cell_type": "code",
   "execution_count": 289,
   "id": "c83b4945",
   "metadata": {},
   "outputs": [
    {
     "data": {
      "text/plain": [
       "[1, 1, 2]"
      ]
     },
     "execution_count": 289,
     "metadata": {},
     "output_type": "execute_result"
    }
   ],
   "source": [
    "rep([1,2,3],each=2,times=3,length_out=3)"
   ]
  },
  {
   "cell_type": "code",
   "execution_count": 291,
   "id": "a917b554",
   "metadata": {},
   "outputs": [
    {
     "data": {
      "text/plain": [
       "[1, 1, 2, 2, 3, 3, 1, 1, 2, 2, 3, 3, 1, 1, 2, 2, 3, 3, 1, 1]"
      ]
     },
     "execution_count": 291,
     "metadata": {},
     "output_type": "execute_result"
    }
   ],
   "source": [
    "rep([1,2,3],each=2,times=3,length_out=20)"
   ]
  },
  {
   "cell_type": "code",
   "execution_count": 292,
   "id": "4fb4a0d3",
   "metadata": {},
   "outputs": [
    {
     "data": {
      "text/plain": [
       "[1, 2, 2, 3, 3, 3, 1, 2, 2, 3, 3, 3, 1, 2, 2, 3, 3, 3, 1, 2]"
      ]
     },
     "execution_count": 292,
     "metadata": {},
     "output_type": "execute_result"
    }
   ],
   "source": [
    "rep([1,2,3],each=[1,2,3],times=3,length_out=20)"
   ]
  },
  {
   "cell_type": "code",
   "execution_count": 293,
   "id": "d7a124e1",
   "metadata": {},
   "outputs": [
    {
     "ename": "NameError",
     "evalue": "name 'string' is not defined",
     "output_type": "error",
     "traceback": [
      "\u001b[1;31m---------------------------------------------------------------------------\u001b[0m",
      "\u001b[1;31mNameError\u001b[0m                                 Traceback (most recent call last)",
      "Cell \u001b[1;32mIn[293], line 1\u001b[0m\n\u001b[1;32m----> 1\u001b[0m letters \u001b[38;5;241m=\u001b[39m\u001b[43mstring\u001b[49m\u001b[38;5;241m.\u001b[39mascii_lowercase\n\u001b[0;32m      2\u001b[0m letters \u001b[38;5;241m=\u001b[39m\u001b[38;5;28mlist\u001b[39m(letters)\n",
      "\u001b[1;31mNameError\u001b[0m: name 'string' is not defined"
     ]
    }
   ],
   "source": [
    "letters =string.ascii_lowercase\n",
    "letters =list(letters)"
   ]
  },
  {
   "cell_type": "code",
   "execution_count": null,
   "id": "cf4b41bc",
   "metadata": {},
   "outputs": [],
   "source": []
  }
 ],
 "metadata": {
  "kernelspec": {
   "display_name": "Python 3 (ipykernel)",
   "language": "python",
   "name": "python3"
  },
  "language_info": {
   "codemirror_mode": {
    "name": "ipython",
    "version": 3
   },
   "file_extension": ".py",
   "mimetype": "text/x-python",
   "name": "python",
   "nbconvert_exporter": "python",
   "pygments_lexer": "ipython3",
   "version": "3.10.9"
  }
 },
 "nbformat": 4,
 "nbformat_minor": 5
}
